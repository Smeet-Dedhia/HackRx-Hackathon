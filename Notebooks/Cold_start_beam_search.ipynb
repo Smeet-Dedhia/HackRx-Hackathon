{
  "cells": [
    {
      "cell_type": "markdown",
      "source": [
        "#Bundling of Product on the basis of Feature Extracted from the product details and the co-purchases made"
      ],
      "metadata": {
        "id": "-Cu06W1doRhF"
      }
    },
    {
      "cell_type": "code",
      "source": [
        "from google.colab import drive\n",
        "drive.mount('/content/drive')"
      ],
      "metadata": {
        "colab": {
          "base_uri": "https://localhost:8080/"
        },
        "id": "MEYkZFMvYVEs",
        "outputId": "9cdb17b6-4cad-4d60-d8a3-307a84c99527"
      },
      "execution_count": null,
      "outputs": [
        {
          "output_type": "stream",
          "name": "stdout",
          "text": [
            "Mounted at /content/drive\n"
          ]
        }
      ]
    },
    {
      "cell_type": "code",
      "execution_count": null,
      "metadata": {
        "id": "tAK3E0dkYTMM"
      },
      "outputs": [],
      "source": [
        "import pandas as pd\n",
        "import re\n",
        "from pprint import pprint\n",
        "import networkx as nx\n",
        "import pandas as pd\n",
        "import numpy as np\n",
        "from matplotlib import pyplot as plt\n",
        "from sklearn.preprocessing import OneHotEncoder\n",
        "from sklearn.metrics.pairwise import cosine_similarity"
      ]
    },
    {
      "cell_type": "code",
      "source": [
        "!pip install gdown"
      ],
      "metadata": {
        "colab": {
          "base_uri": "https://localhost:8080/"
        },
        "id": "-fThI6FWg1rO",
        "outputId": "229b47ce-f77d-4734-a9bb-081636d8ce19"
      },
      "execution_count": null,
      "outputs": [
        {
          "output_type": "stream",
          "name": "stdout",
          "text": [
            "Requirement already satisfied: gdown in /usr/local/lib/python3.10/dist-packages (4.6.6)\n",
            "Requirement already satisfied: filelock in /usr/local/lib/python3.10/dist-packages (from gdown) (3.12.2)\n",
            "Requirement already satisfied: requests[socks] in /usr/local/lib/python3.10/dist-packages (from gdown) (2.27.1)\n",
            "Requirement already satisfied: six in /usr/local/lib/python3.10/dist-packages (from gdown) (1.16.0)\n",
            "Requirement already satisfied: tqdm in /usr/local/lib/python3.10/dist-packages (from gdown) (4.65.0)\n",
            "Requirement already satisfied: beautifulsoup4 in /usr/local/lib/python3.10/dist-packages (from gdown) (4.11.2)\n",
            "Requirement already satisfied: soupsieve>1.2 in /usr/local/lib/python3.10/dist-packages (from beautifulsoup4->gdown) (2.4.1)\n",
            "Requirement already satisfied: urllib3<1.27,>=1.21.1 in /usr/local/lib/python3.10/dist-packages (from requests[socks]->gdown) (1.26.16)\n",
            "Requirement already satisfied: certifi>=2017.4.17 in /usr/local/lib/python3.10/dist-packages (from requests[socks]->gdown) (2023.5.7)\n",
            "Requirement already satisfied: charset-normalizer~=2.0.0 in /usr/local/lib/python3.10/dist-packages (from requests[socks]->gdown) (2.0.12)\n",
            "Requirement already satisfied: idna<4,>=2.5 in /usr/local/lib/python3.10/dist-packages (from requests[socks]->gdown) (3.4)\n",
            "Requirement already satisfied: PySocks!=1.5.7,>=1.5.6 in /usr/local/lib/python3.10/dist-packages (from requests[socks]->gdown) (1.7.1)\n"
          ]
        }
      ]
    },
    {
      "cell_type": "code",
      "source": [
        "!gdown --id 1-MyYRp_5NnmU1JWvl1jV6Dhe3o2HAjdc"
      ],
      "metadata": {
        "colab": {
          "base_uri": "https://localhost:8080/"
        },
        "id": "52s814Eyh_ZJ",
        "outputId": "32220c65-0806-4643-d893-54fb60689031"
      },
      "execution_count": null,
      "outputs": [
        {
          "output_type": "stream",
          "name": "stdout",
          "text": [
            "/usr/local/lib/python3.10/dist-packages/gdown/cli.py:121: FutureWarning: Option `--id` was deprecated in version 4.3.1 and will be removed in 5.0. You don't need to pass it anymore to use a file ID.\n",
            "  warnings.warn(\n",
            "Downloading...\n",
            "From: https://drive.google.com/uc?id=1-MyYRp_5NnmU1JWvl1jV6Dhe3o2HAjdc\n",
            "To: /content/amazon-meta.txt\n",
            "100% 978M/978M [00:13<00:00, 72.0MB/s]\n"
          ]
        }
      ]
    },
    {
      "cell_type": "code",
      "source": [
        "!gdown --id 1XwBFgm_vdUTCe6LUkqSSNJanVOpx7OGP"
      ],
      "metadata": {
        "colab": {
          "base_uri": "https://localhost:8080/"
        },
        "id": "CUhpzI4VjGQt",
        "outputId": "308a7795-d8ea-470d-e03e-3afd04941316"
      },
      "execution_count": null,
      "outputs": [
        {
          "output_type": "stream",
          "name": "stdout",
          "text": [
            "/usr/local/lib/python3.10/dist-packages/gdown/cli.py:121: FutureWarning: Option `--id` was deprecated in version 4.3.1 and will be removed in 5.0. You don't need to pass it anymore to use a file ID.\n",
            "  warnings.warn(\n",
            "Downloading...\n",
            "From: https://drive.google.com/uc?id=1XwBFgm_vdUTCe6LUkqSSNJanVOpx7OGP\n",
            "To: /content/amazon0601.txt\n",
            "100% 47.9M/47.9M [00:00<00:00, 52.9MB/s]\n"
          ]
        }
      ]
    },
    {
      "cell_type": "markdown",
      "source": [
        "### Creating a Directed graph from the given edgelist"
      ],
      "metadata": {
        "id": "WoQc9JNIibAH"
      }
    },
    {
      "cell_type": "code",
      "execution_count": null,
      "metadata": {
        "id": "bc2cffd0"
      },
      "outputs": [],
      "source": [
        "Graphtype = nx.DiGraph()\n",
        "filepath = '/content/amazon0601.txt'\n",
        "G = nx.read_edgelist(\n",
        "    filepath,\n",
        "    comments='#',\n",
        "    create_using=Graphtype,\n",
        "    nodetype=int\n",
        ")"
      ]
    },
    {
      "cell_type": "markdown",
      "source": [
        "#### Reading Metadata"
      ],
      "metadata": {
        "id": "X6LCZIe3igHL"
      }
    },
    {
      "cell_type": "code",
      "execution_count": 230,
      "metadata": {
        "id": "b87718d3"
      },
      "outputs": [],
      "source": [
        "df = pd.read_csv('/content/drive/MyDrive/GNN_datasets/finalpreprocesseddata.csv')"
      ]
    },
    {
      "cell_type": "code",
      "execution_count": 231,
      "metadata": {
        "colab": {
          "base_uri": "https://localhost:8080/",
          "height": 206
        },
        "id": "9ddd3d09",
        "outputId": "fa8bcb1f-7377-4430-d5e9-6853fa09cb39"
      },
      "outputs": [
        {
          "output_type": "execute_result",
          "data": {
            "text/plain": [
              "   ID        ASIN                                             title group  \\\n",
              "0   1  0827229534                             Patterns of Preaching  Book   \n",
              "1   2  0738700797                                         Candlemas  Book   \n",
              "2   3  0486287785  World War II Allied Fighter Planes Trading Cards  Book   \n",
              "3   4  0842328327                 Life Application Bible Commentary  Book   \n",
              "4   5  1577943082              Prayers That Avail Much for Business  Book   \n",
              "\n",
              "   salesrank  num_categories  totalreviews  downloadedreviews  avg_rating  \n",
              "0     396585               2             2                  2         5.0  \n",
              "1     168596               2            12                 12         4.5  \n",
              "2    1270652               1             1                  1         5.0  \n",
              "3     631289               5             1                  1         4.0  \n",
              "4     455160               2             0                  0         0.0  "
            ],
            "text/html": [
              "\n",
              "\n",
              "  <div id=\"df-1b00f2da-efa2-4abd-84e4-bbce9f472730\">\n",
              "    <div class=\"colab-df-container\">\n",
              "      <div>\n",
              "<style scoped>\n",
              "    .dataframe tbody tr th:only-of-type {\n",
              "        vertical-align: middle;\n",
              "    }\n",
              "\n",
              "    .dataframe tbody tr th {\n",
              "        vertical-align: top;\n",
              "    }\n",
              "\n",
              "    .dataframe thead th {\n",
              "        text-align: right;\n",
              "    }\n",
              "</style>\n",
              "<table border=\"1\" class=\"dataframe\">\n",
              "  <thead>\n",
              "    <tr style=\"text-align: right;\">\n",
              "      <th></th>\n",
              "      <th>ID</th>\n",
              "      <th>ASIN</th>\n",
              "      <th>title</th>\n",
              "      <th>group</th>\n",
              "      <th>salesrank</th>\n",
              "      <th>num_categories</th>\n",
              "      <th>totalreviews</th>\n",
              "      <th>downloadedreviews</th>\n",
              "      <th>avg_rating</th>\n",
              "    </tr>\n",
              "  </thead>\n",
              "  <tbody>\n",
              "    <tr>\n",
              "      <th>0</th>\n",
              "      <td>1</td>\n",
              "      <td>0827229534</td>\n",
              "      <td>Patterns of Preaching</td>\n",
              "      <td>Book</td>\n",
              "      <td>396585</td>\n",
              "      <td>2</td>\n",
              "      <td>2</td>\n",
              "      <td>2</td>\n",
              "      <td>5.0</td>\n",
              "    </tr>\n",
              "    <tr>\n",
              "      <th>1</th>\n",
              "      <td>2</td>\n",
              "      <td>0738700797</td>\n",
              "      <td>Candlemas</td>\n",
              "      <td>Book</td>\n",
              "      <td>168596</td>\n",
              "      <td>2</td>\n",
              "      <td>12</td>\n",
              "      <td>12</td>\n",
              "      <td>4.5</td>\n",
              "    </tr>\n",
              "    <tr>\n",
              "      <th>2</th>\n",
              "      <td>3</td>\n",
              "      <td>0486287785</td>\n",
              "      <td>World War II Allied Fighter Planes Trading Cards</td>\n",
              "      <td>Book</td>\n",
              "      <td>1270652</td>\n",
              "      <td>1</td>\n",
              "      <td>1</td>\n",
              "      <td>1</td>\n",
              "      <td>5.0</td>\n",
              "    </tr>\n",
              "    <tr>\n",
              "      <th>3</th>\n",
              "      <td>4</td>\n",
              "      <td>0842328327</td>\n",
              "      <td>Life Application Bible Commentary</td>\n",
              "      <td>Book</td>\n",
              "      <td>631289</td>\n",
              "      <td>5</td>\n",
              "      <td>1</td>\n",
              "      <td>1</td>\n",
              "      <td>4.0</td>\n",
              "    </tr>\n",
              "    <tr>\n",
              "      <th>4</th>\n",
              "      <td>5</td>\n",
              "      <td>1577943082</td>\n",
              "      <td>Prayers That Avail Much for Business</td>\n",
              "      <td>Book</td>\n",
              "      <td>455160</td>\n",
              "      <td>2</td>\n",
              "      <td>0</td>\n",
              "      <td>0</td>\n",
              "      <td>0.0</td>\n",
              "    </tr>\n",
              "  </tbody>\n",
              "</table>\n",
              "</div>\n",
              "      <button class=\"colab-df-convert\" onclick=\"convertToInteractive('df-1b00f2da-efa2-4abd-84e4-bbce9f472730')\"\n",
              "              title=\"Convert this dataframe to an interactive table.\"\n",
              "              style=\"display:none;\">\n",
              "\n",
              "  <svg xmlns=\"http://www.w3.org/2000/svg\" height=\"24px\"viewBox=\"0 0 24 24\"\n",
              "       width=\"24px\">\n",
              "    <path d=\"M0 0h24v24H0V0z\" fill=\"none\"/>\n",
              "    <path d=\"M18.56 5.44l.94 2.06.94-2.06 2.06-.94-2.06-.94-.94-2.06-.94 2.06-2.06.94zm-11 1L8.5 8.5l.94-2.06 2.06-.94-2.06-.94L8.5 2.5l-.94 2.06-2.06.94zm10 10l.94 2.06.94-2.06 2.06-.94-2.06-.94-.94-2.06-.94 2.06-2.06.94z\"/><path d=\"M17.41 7.96l-1.37-1.37c-.4-.4-.92-.59-1.43-.59-.52 0-1.04.2-1.43.59L10.3 9.45l-7.72 7.72c-.78.78-.78 2.05 0 2.83L4 21.41c.39.39.9.59 1.41.59.51 0 1.02-.2 1.41-.59l7.78-7.78 2.81-2.81c.8-.78.8-2.07 0-2.86zM5.41 20L4 18.59l7.72-7.72 1.47 1.35L5.41 20z\"/>\n",
              "  </svg>\n",
              "      </button>\n",
              "\n",
              "\n",
              "\n",
              "    <div id=\"df-4da44b1e-8f02-4379-82db-d4f266264829\">\n",
              "      <button class=\"colab-df-quickchart\" onclick=\"quickchart('df-4da44b1e-8f02-4379-82db-d4f266264829')\"\n",
              "              title=\"Suggest charts.\"\n",
              "              style=\"display:none;\">\n",
              "\n",
              "<svg xmlns=\"http://www.w3.org/2000/svg\" height=\"24px\"viewBox=\"0 0 24 24\"\n",
              "     width=\"24px\">\n",
              "    <g>\n",
              "        <path d=\"M19 3H5c-1.1 0-2 .9-2 2v14c0 1.1.9 2 2 2h14c1.1 0 2-.9 2-2V5c0-1.1-.9-2-2-2zM9 17H7v-7h2v7zm4 0h-2V7h2v10zm4 0h-2v-4h2v4z\"/>\n",
              "    </g>\n",
              "</svg>\n",
              "      </button>\n",
              "    </div>\n",
              "\n",
              "<style>\n",
              "  .colab-df-quickchart {\n",
              "    background-color: #E8F0FE;\n",
              "    border: none;\n",
              "    border-radius: 50%;\n",
              "    cursor: pointer;\n",
              "    display: none;\n",
              "    fill: #1967D2;\n",
              "    height: 32px;\n",
              "    padding: 0 0 0 0;\n",
              "    width: 32px;\n",
              "  }\n",
              "\n",
              "  .colab-df-quickchart:hover {\n",
              "    background-color: #E2EBFA;\n",
              "    box-shadow: 0px 1px 2px rgba(60, 64, 67, 0.3), 0px 1px 3px 1px rgba(60, 64, 67, 0.15);\n",
              "    fill: #174EA6;\n",
              "  }\n",
              "\n",
              "  [theme=dark] .colab-df-quickchart {\n",
              "    background-color: #3B4455;\n",
              "    fill: #D2E3FC;\n",
              "  }\n",
              "\n",
              "  [theme=dark] .colab-df-quickchart:hover {\n",
              "    background-color: #434B5C;\n",
              "    box-shadow: 0px 1px 3px 1px rgba(0, 0, 0, 0.15);\n",
              "    filter: drop-shadow(0px 1px 2px rgba(0, 0, 0, 0.3));\n",
              "    fill: #FFFFFF;\n",
              "  }\n",
              "</style>\n",
              "\n",
              "    <script>\n",
              "      async function quickchart(key) {\n",
              "        const containerElement = document.querySelector('#' + key);\n",
              "        const charts = await google.colab.kernel.invokeFunction(\n",
              "            'suggestCharts', [key], {});\n",
              "      }\n",
              "    </script>\n",
              "\n",
              "      <script>\n",
              "\n",
              "function displayQuickchartButton(domScope) {\n",
              "  let quickchartButtonEl =\n",
              "    domScope.querySelector('#df-4da44b1e-8f02-4379-82db-d4f266264829 button.colab-df-quickchart');\n",
              "  quickchartButtonEl.style.display =\n",
              "    google.colab.kernel.accessAllowed ? 'block' : 'none';\n",
              "}\n",
              "\n",
              "        displayQuickchartButton(document);\n",
              "      </script>\n",
              "      <style>\n",
              "    .colab-df-container {\n",
              "      display:flex;\n",
              "      flex-wrap:wrap;\n",
              "      gap: 12px;\n",
              "    }\n",
              "\n",
              "    .colab-df-convert {\n",
              "      background-color: #E8F0FE;\n",
              "      border: none;\n",
              "      border-radius: 50%;\n",
              "      cursor: pointer;\n",
              "      display: none;\n",
              "      fill: #1967D2;\n",
              "      height: 32px;\n",
              "      padding: 0 0 0 0;\n",
              "      width: 32px;\n",
              "    }\n",
              "\n",
              "    .colab-df-convert:hover {\n",
              "      background-color: #E2EBFA;\n",
              "      box-shadow: 0px 1px 2px rgba(60, 64, 67, 0.3), 0px 1px 3px 1px rgba(60, 64, 67, 0.15);\n",
              "      fill: #174EA6;\n",
              "    }\n",
              "\n",
              "    [theme=dark] .colab-df-convert {\n",
              "      background-color: #3B4455;\n",
              "      fill: #D2E3FC;\n",
              "    }\n",
              "\n",
              "    [theme=dark] .colab-df-convert:hover {\n",
              "      background-color: #434B5C;\n",
              "      box-shadow: 0px 1px 3px 1px rgba(0, 0, 0, 0.15);\n",
              "      filter: drop-shadow(0px 1px 2px rgba(0, 0, 0, 0.3));\n",
              "      fill: #FFFFFF;\n",
              "    }\n",
              "  </style>\n",
              "\n",
              "      <script>\n",
              "        const buttonEl =\n",
              "          document.querySelector('#df-1b00f2da-efa2-4abd-84e4-bbce9f472730 button.colab-df-convert');\n",
              "        buttonEl.style.display =\n",
              "          google.colab.kernel.accessAllowed ? 'block' : 'none';\n",
              "\n",
              "        async function convertToInteractive(key) {\n",
              "          const element = document.querySelector('#df-1b00f2da-efa2-4abd-84e4-bbce9f472730');\n",
              "          const dataTable =\n",
              "            await google.colab.kernel.invokeFunction('convertToInteractive',\n",
              "                                                     [key], {});\n",
              "          if (!dataTable) return;\n",
              "\n",
              "          const docLinkHtml = 'Like what you see? Visit the ' +\n",
              "            '<a target=\"_blank\" href=https://colab.research.google.com/notebooks/data_table.ipynb>data table notebook</a>'\n",
              "            + ' to learn more about interactive tables.';\n",
              "          element.innerHTML = '';\n",
              "          dataTable['output_type'] = 'display_data';\n",
              "          await google.colab.output.renderOutput(dataTable, element);\n",
              "          const docLink = document.createElement('div');\n",
              "          docLink.innerHTML = docLinkHtml;\n",
              "          element.appendChild(docLink);\n",
              "        }\n",
              "      </script>\n",
              "    </div>\n",
              "  </div>\n"
            ]
          },
          "metadata": {},
          "execution_count": 231
        }
      ],
      "source": [
        "df.head()"
      ]
    },
    {
      "cell_type": "markdown",
      "source": [
        "##### Checking and Dropping Null Values"
      ],
      "metadata": {
        "id": "Z1xwNAKUitni"
      }
    },
    {
      "cell_type": "code",
      "execution_count": 232,
      "metadata": {
        "id": "d4801bfd"
      },
      "outputs": [],
      "source": [
        "df.isnull().sum()\n",
        "df = df.dropna()"
      ]
    },
    {
      "cell_type": "code",
      "execution_count": 233,
      "metadata": {
        "colab": {
          "base_uri": "https://localhost:8080/"
        },
        "id": "24e60de1",
        "outputId": "65ae201f-1cab-4575-908b-2bc02b7cdc31"
      },
      "outputs": [
        {
          "output_type": "execute_result",
          "data": {
            "text/plain": [
              "Book            393559\n",
              "Music           103144\n",
              "Video            26131\n",
              "DVD              19828\n",
              "Toy                  8\n",
              "Software             5\n",
              "CE                   4\n",
              "Video Games          1\n",
              "Baby Product         1\n",
              "Sports               1\n",
              "Name: group, dtype: int64"
            ]
          },
          "metadata": {},
          "execution_count": 233
        }
      ],
      "source": [
        "df['group'].value_counts()"
      ]
    },
    {
      "cell_type": "markdown",
      "source": [
        "#####Indexing the graph on the attribute 'ID'"
      ],
      "metadata": {
        "id": "o8bkbs1mjTf5"
      }
    },
    {
      "cell_type": "code",
      "execution_count": 234,
      "metadata": {
        "id": "e0ace1b6"
      },
      "outputs": [],
      "source": [
        "df = df.set_index('ID')"
      ]
    },
    {
      "cell_type": "markdown",
      "source": [
        "#### Selecting Attributes that each nodes will have"
      ],
      "metadata": {
        "id": "s_MSmwsEjXjB"
      }
    },
    {
      "cell_type": "code",
      "execution_count": null,
      "metadata": {
        "id": "3f5f5b22"
      },
      "outputs": [],
      "source": [
        "nodeattrdf = df[['ASIN','title','group', 'num_categories','salesrank', 'totalreviews', 'downloadedreviews', 'avg_rating']].copy()"
      ]
    },
    {
      "cell_type": "markdown",
      "source": [
        "#### Combining the transaction data and the metadata into a networkX Directed Graph"
      ],
      "metadata": {
        "id": "Qaw_PcyQjZmB"
      }
    },
    {
      "cell_type": "code",
      "execution_count": null,
      "metadata": {
        "id": "0a7b9e22"
      },
      "outputs": [],
      "source": [
        "nx.set_node_attributes(G, nodeattrdf.to_dict('index'))"
      ]
    },
    {
      "cell_type": "code",
      "execution_count": null,
      "metadata": {
        "colab": {
          "base_uri": "https://localhost:8080/"
        },
        "id": "c8a625f2",
        "outputId": "c7dcd7d0-4074-4dd1-a5c4-61f11e4a1feb"
      },
      "outputs": [
        {
          "output_type": "execute_result",
          "data": {
            "text/plain": [
              "{'ASIN': '0231118597',\n",
              " 'title': 'Losing Matt Shepard',\n",
              " 'group': 'Book',\n",
              " 'num_categories': 4,\n",
              " 'salesrank': 277409,\n",
              " 'totalreviews': 15,\n",
              " 'downloadedreviews': 15,\n",
              " 'avg_rating': 4.5}"
            ]
          },
          "metadata": {},
          "execution_count": 14
        }
      ],
      "source": [
        "G.nodes[8]"
      ]
    },
    {
      "cell_type": "markdown",
      "source": [
        "####**Empty nodes/Disjoint nodes do not contribute significantly when we recommended products.So we have removed them**"
      ],
      "metadata": {
        "id": "QhQKZESDjc47"
      }
    },
    {
      "cell_type": "code",
      "execution_count": null,
      "metadata": {
        "id": "85c12cb3"
      },
      "outputs": [],
      "source": [
        "remove = [nodes for nodes in dict(G.nodes()) if len(G.nodes[nodes]) == 0]"
      ]
    },
    {
      "cell_type": "code",
      "execution_count": null,
      "metadata": {
        "id": "a4ee8862"
      },
      "outputs": [],
      "source": [
        "G.remove_nodes_from(remove)"
      ]
    },
    {
      "cell_type": "markdown",
      "source": [
        "Here, n is the array of all non-deleted nodes in the graph"
      ],
      "metadata": {
        "id": "s7eVQUnNjg0i"
      }
    },
    {
      "cell_type": "code",
      "execution_count": null,
      "metadata": {
        "id": "233ed40e"
      },
      "outputs": [],
      "source": [
        "n = list(G.nodes)"
      ]
    },
    {
      "cell_type": "code",
      "execution_count": null,
      "metadata": {
        "id": "de2d7f5b"
      },
      "outputs": [],
      "source": [
        "n =  np.array(n)\n",
        "n = np.unique(n)"
      ]
    },
    {
      "cell_type": "markdown",
      "source": [
        "##### Helper function to retrive all target nodes from the edges starting from the source"
      ],
      "metadata": {
        "id": "vlJ_0Ygul94b"
      }
    },
    {
      "cell_type": "code",
      "execution_count": null,
      "metadata": {
        "id": "c15aacee"
      },
      "outputs": [],
      "source": [
        "def getclean(pro_id):\n",
        "    l = str(list(G.edges(pro_id)))\n",
        "    l = l.replace('[','')\n",
        "    l = l.replace(']','')\n",
        "    l = l.replace(',','')\n",
        "    l = l.replace('(','')\n",
        "    l = l.replace(')','')\n",
        "    l = l.replace(str(pro_id)+\" \", '')\n",
        "    b = l.split()\n",
        "    b = np.array(b)\n",
        "    b = b.astype(int)\n",
        "    return b"
      ]
    },
    {
      "cell_type": "code",
      "source": [
        "G.edges(5)"
      ],
      "metadata": {
        "colab": {
          "base_uri": "https://localhost:8080/"
        },
        "id": "watyxZORSOLB",
        "outputId": "7a2f10b5-c584-4f5d-dec8-902ba145271d"
      },
      "execution_count": null,
      "outputs": [
        {
          "output_type": "execute_result",
          "data": {
            "text/plain": [
              "OutEdgeDataView([(5, 6), (5, 44), (5, 46), (5, 47), (5, 48), (5, 49), (5, 50), (5, 51), (5, 52), (5, 53)])"
            ]
          },
          "metadata": {},
          "execution_count": 20
        }
      ]
    },
    {
      "cell_type": "code",
      "source": [
        "getclean(5)"
      ],
      "metadata": {
        "colab": {
          "base_uri": "https://localhost:8080/"
        },
        "id": "nYJXKrDmULVm",
        "outputId": "bd688d7f-5591-4092-84a8-f8e023fcb2be"
      },
      "execution_count": null,
      "outputs": [
        {
          "output_type": "execute_result",
          "data": {
            "text/plain": [
              "array([ 6, 44, 46, 47, 48, 49, 50, 51, 52, 53])"
            ]
          },
          "metadata": {},
          "execution_count": 21
        }
      ]
    },
    {
      "cell_type": "markdown",
      "source": [
        "### Adding edge weights"
      ],
      "metadata": {
        "id": "0fLwkW-QzU6e"
      }
    },
    {
      "cell_type": "code",
      "source": [
        "def jaccard_similarity(list1, list2):\n",
        "    intersection = len(list(set(list1).intersection(list2)))\n",
        "    union = (len(set(list1)) + len(set(list2))) - intersection\n",
        "    return float(intersection) / union\n",
        "\n",
        "def gethighestjaccard(pro_id, finalresult):\n",
        "  jaccdict = {}\n",
        "  for i in range(0,len(finalresult)):\n",
        "    if(pro_id != i):\n",
        "      tempneighbours = []\n",
        "      resarray = getclean(finalresult[i])\n",
        "      jaccdict[finalresult[i]] = jaccard_similarity(finalresult, resarray)\n",
        "  return jaccdict\n",
        "\n",
        "for i in n:\n",
        "  pro_id = i\n",
        "  finalresult = []\n",
        "  resultarray = np.unique(getclean(pro_id))\n",
        "  for i in range(1, len(resultarray)):\n",
        "      if(resultarray[i] in n):\n",
        "          finalresult.append(resultarray[i])\n",
        "\n",
        "  finaldictjaccard = gethighestjaccard(pro_id, finalresult)\n",
        "  finaldictjaccard = dict(sorted(finaldictjaccard.items(), key=lambda item: item[1], reverse = True))\n",
        "\n",
        "  for key in finaldictjaccard.keys():\n",
        "    G.add_edge(pro_id, key, weight= finaldictjaccard[key])\n"
      ],
      "metadata": {
        "id": "XslnVfKTHWvB"
      },
      "execution_count": null,
      "outputs": []
    },
    {
      "cell_type": "markdown",
      "source": [
        "### Saving graph into json file"
      ],
      "metadata": {
        "id": "XyeJnEQuzbcm"
      }
    },
    {
      "cell_type": "code",
      "source": [
        "from networkx.readwrite import json_graph\n",
        "import json\n",
        "\n",
        "graph_json = json_graph.node_link_data(G)\n",
        "\n",
        "with open(\"/content/graph_with_weights.json\", \"w\") as outfile:\n",
        "    json.dump(graph_json, outfile, default = str)"
      ],
      "metadata": {
        "id": "GOOuJ9WENuLJ"
      },
      "execution_count": null,
      "outputs": []
    },
    {
      "cell_type": "code",
      "source": [
        "import networkx as nx\n",
        "\n",
        "def beam_search(graph, start_node, beam_width, max_depth):\n",
        "    # Initialize the beam with the starting node and its weight as a path\n",
        "    beam = [([start_node], 0)]\n",
        "    best_paths = []\n",
        "\n",
        "    # Perform beam search until the maximum depth is reached\n",
        "    for depth in range(max_depth):\n",
        "        next_beam = []\n",
        "        for path, path_weight in beam:\n",
        "            current_node = path[-1]\n",
        "            # Get the outgoing edges and their weights for the current node\n",
        "            outgoing_edges = graph.out_edges(current_node, data=True)\n",
        "            for edge in outgoing_edges:\n",
        "                if len(edge[2]) == 0:\n",
        "                  continue\n",
        "                to_node, edge_weight = edge[1], edge[2]['weight']\n",
        "                new_path = path + [to_node]\n",
        "                new_weight = path_weight + edge_weight\n",
        "                next_beam.append((new_path, new_weight))\n",
        "\n",
        "        # Sort the next_beam based on path weight and select the top beam_width paths\n",
        "        next_beam.sort(key=lambda x: x[1])\n",
        "        beam = next_beam[:beam_width]\n",
        "\n",
        "        best_paths.extend(beam)\n",
        "\n",
        "    return best_paths[-1][0]"
      ],
      "metadata": {
        "id": "F3fYgvhbpA0b"
      },
      "execution_count": 225,
      "outputs": []
    },
    {
      "cell_type": "markdown",
      "source": [
        "### Selecting products for Cold start based on Salesrank, number of neighbors and, avg_rating"
      ],
      "metadata": {
        "id": "XoTqLSwaJwrz"
      }
    },
    {
      "cell_type": "code",
      "source": [
        "n_neighbors = {i:len(list(G.neighbors(i))) for i in n}\n",
        "df['n_neighbors'] = df.index.to_series().map(n_neighbors)\n",
        "overall_ids = df[df['salesrank'] != -1].sort_values( by = ['n_neighbors', 'salesrank', 'avg_rating'], ascending = [False, True, False]).index[:3]"
      ],
      "metadata": {
        "id": "svZQaAqXHttH",
        "colab": {
          "base_uri": "https://localhost:8080/"
        },
        "outputId": "2945ee0a-ffa9-4fba-dee4-b2b23f7955ad"
      },
      "execution_count": 212,
      "outputs": [
        {
          "output_type": "execute_result",
          "data": {
            "text/plain": [
              "Int64Index([9393, 7, 59], dtype='int64', name='ID')"
            ]
          },
          "metadata": {},
          "execution_count": 212
        }
      ]
    },
    {
      "cell_type": "markdown",
      "source": [
        "### Selecting products for Cold start based on Salesrank, number of neighbors and, avg_rating Grouped by \"group\""
      ],
      "metadata": {
        "id": "bUiya2jmLnzb"
      }
    },
    {
      "cell_type": "code",
      "source": [
        "book_ids = list(df[(df['salesrank'] != -1) & (df[\"group\"] == \"Book\") ].sort_values( by = ['n_neighbors',\n",
        "                                                                    'salesrank',\n",
        "                                                                    'avg_rating'],\n",
        "                                                              ascending = [False, True, False]).index[:3])"
      ],
      "metadata": {
        "id": "QnXtiYE3izJK"
      },
      "execution_count": 221,
      "outputs": []
    },
    {
      "cell_type": "code",
      "source": [
        "music_ids = list(df[(df['salesrank'] != -1) & (df[\"group\"] == \"Music\") ].sort_values( by = ['n_neighbors',\n",
        "                                                                    'salesrank',\n",
        "                                                                    'avg_rating'],\n",
        "                                                              ascending = [False, True, False]).index[:3])"
      ],
      "metadata": {
        "id": "h5iX-jwYjO4E"
      },
      "execution_count": 222,
      "outputs": []
    },
    {
      "cell_type": "code",
      "source": [
        "video_ids = list(df[(df['salesrank'] != -1) & (df[\"group\"] == \"Video\") ].sort_values( by = ['n_neighbors',\n",
        "                                                                    'salesrank',\n",
        "                                                                    'avg_rating'],\n",
        "                                                              ascending = [False, True, False]).index[:3])"
      ],
      "metadata": {
        "id": "iiX7v3jVjRvz"
      },
      "execution_count": 223,
      "outputs": []
    },
    {
      "cell_type": "code",
      "source": [
        "dvd_ids  = list(df[(df['salesrank'] != -1) & (df[\"group\"] == \"DVD\") ].sort_values( by = ['n_neighbors',\n",
        "                                                                    'salesrank',\n",
        "                                                                    'avg_rating'],\n",
        "                                                              ascending = [False, True, False]).index[:3])"
      ],
      "metadata": {
        "id": "XuAhENQsjUGS"
      },
      "execution_count": 224,
      "outputs": []
    },
    {
      "cell_type": "markdown",
      "source": [
        "### Running beam search on the indices"
      ],
      "metadata": {
        "id": "yyz1Tk0kjfVW"
      }
    },
    {
      "cell_type": "code",
      "source": [
        "book_bundles = {}\n",
        "for id in book_ids:\n",
        "  book_bundles[id] = (beam_search(G, id, 3,3))\n",
        "\n",
        "music_bundles = {}\n",
        "for id in music_ids:\n",
        "  music_bundles[id] = (beam_search(G, id, 3,3))\n",
        "\n",
        "video_bundles = {}\n",
        "for id in video_ids:\n",
        "  video_bundles[id] = (beam_search(G, id, 3,3))\n",
        "\n",
        "dvd_bundles = {}\n",
        "for id in dvd_ids:\n",
        "  dvd_bundles[id] = (beam_search(G, id, 3,3))"
      ],
      "metadata": {
        "id": "sJsbVqSJje8K"
      },
      "execution_count": 227,
      "outputs": []
    }
  ],
  "metadata": {
    "kernelspec": {
      "display_name": "Python 3 (ipykernel)",
      "language": "python",
      "name": "python3"
    },
    "language_info": {
      "codemirror_mode": {
        "name": "ipython",
        "version": 3
      },
      "file_extension": ".py",
      "mimetype": "text/x-python",
      "name": "python",
      "nbconvert_exporter": "python",
      "pygments_lexer": "ipython3",
      "version": "3.8.8"
    },
    "colab": {
      "provenance": []
    }
  },
  "nbformat": 4,
  "nbformat_minor": 0
}
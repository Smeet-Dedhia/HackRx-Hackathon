{
 "cells": [
  {
   "cell_type": "code",
   "execution_count": 5,
   "id": "bbc238fe-c12a-4529-b96e-4960c7e2393d",
   "metadata": {},
   "outputs": [],
   "source": [
    "from gremlin_python.process.anonymous_traversal import traversal\n",
    "from gremlin_python.driver.driver_remote_connection import DriverRemoteConnection\n",
    "from gremlin_python.driver import client, serializer\n",
    "import pandas as pd\n",
    "import matplotlib.pyplot as plt\n",
    "import nest_asyncio\n",
    "import csv\n",
    "import psutil\n",
    "import time\n",
    "nest_asyncio.apply()"
   ]
  },
  {
   "cell_type": "code",
   "execution_count": 2,
   "id": "d97e3515-4ed8-4e4e-9a79-0aa268ac853e",
   "metadata": {},
   "outputs": [],
   "source": [
    "csv_path = \"/home/smeet/Downloads/Bajaj Mall Data.csv\"\n",
    "tsv_path = \"/home/smeet/Downloads/edgelist.txt\""
   ]
  },
  {
   "cell_type": "code",
   "execution_count": 8,
   "id": "f9768af8-a04a-45f7-8a37-7285586d980d",
   "metadata": {},
   "outputs": [],
   "source": [
    "g = traversal().withRemote(DriverRemoteConnection('ws://localhost:8182/gremlin','g'))"
   ]
  },
  {
   "cell_type": "code",
   "execution_count": null,
   "id": "85867da6-0969-413c-b8e8-7b0c5a07def8",
   "metadata": {},
   "outputs": [],
   "source": [
    "query = g.V().drop()\n",
    "query.iterate()"
   ]
  },
  {
   "cell_type": "code",
   "execution_count": 3,
   "id": "7db32558-5b4c-496b-9bc4-20fbd27c1bbd",
   "metadata": {},
   "outputs": [],
   "source": [
    "def create_graph_node(label, properties):\n",
    "    try:\n",
    "        # Prepare the query to add a node\n",
    "        query = g.addV(label)\n",
    "\n",
    "        # Add properties to the node\n",
    "        for key, value in properties.items():\n",
    "            query = query.property(key, value)\n",
    "\n",
    "        # Execute the query\n",
    "        result_set = query.toList()\n",
    "    finally:\n",
    "        return result_set"
   ]
  },
  {
   "cell_type": "code",
   "execution_count": 4,
   "id": "e56e570a-662d-4f20-b0f3-eb51ac4d8e46",
   "metadata": {},
   "outputs": [],
   "source": [
    "def get_node_properties_by_id(node_id):\n",
    "    result = \"Pending\"\n",
    "    try:\n",
    "        # Prepare the query to get the node by its ID\n",
    "        query = g.V(node_id)\n",
    "\n",
    "        # Execute the query and get the properties of the node\n",
    "        result_set = query.valueMap(True).toList()\n",
    "\n",
    "        if result_set:\n",
    "            # The query returns a list of dictionaries with properties as keys and lists of values.\n",
    "            # Since we queried for a single node, we extract the first element from the list.\n",
    "            node_properties = result_set[0]\n",
    "            result =  node_properties\n",
    "        else:\n",
    "            result = None\n",
    "\n",
    "    finally:\n",
    "        return result"
   ]
  },
  {
   "cell_type": "code",
   "execution_count": 6,
   "id": "ac6b0c22-e448-4e8b-b682-9825bff921e3",
   "metadata": {},
   "outputs": [],
   "source": [
    "memory_usage = []\n",
    "cpu_utilization = []\n",
    "timestamps = []"
   ]
  },
  {
   "cell_type": "code",
   "execution_count": 7,
   "id": "7549d851-d331-4310-8eab-198ba64c1fb9",
   "metadata": {},
   "outputs": [],
   "source": [
    "memory_usage.append(psutil.virtual_memory().used)\n",
    "cpu_utilization.append(psutil.cpu_percent(interval=None, percpu=False))\n",
    "timestamps.append(time.time())"
   ]
  },
  {
   "cell_type": "code",
   "execution_count": 9,
   "id": "7fe10903-3664-471e-aa5d-ca36c834a7b6",
   "metadata": {},
   "outputs": [
    {
     "name": "stdout",
     "output_type": "stream",
     "text": [
      "Created Node: [v[41048]]\n",
      "Created Node: [v[139328]]\n",
      "Created Node: [v[143424]]\n",
      "Created Node: [v[147520]]\n",
      "Created Node: [v[172128]]\n",
      "Created Node: [v[45144]]\n",
      "Created Node: [v[65640]]\n",
      "Created Node: [v[69736]]\n",
      "Created Node: [v[73832]]\n",
      "Created Node: [v[155832]]\n",
      "Created Node: [v[151616]]\n",
      "Created Node: [v[77936]]\n",
      "Created Node: [v[159928]]\n",
      "Created Node: [v[164024]]\n",
      "Created Node: [v[176224]]\n",
      "Created Node: [v[168120]]\n",
      "Created Node: [v[172216]]\n",
      "Created Node: [v[176312]]\n",
      "Created Node: [v[180408]]\n",
      "Created Node: [v[180320]]\n",
      "Created Node: [v[184504]]\n",
      "Created Node: [v[77928]]\n",
      "Created Node: [v[188600]]\n",
      "Created Node: [v[155712]]\n",
      "Created Node: [v[184416]]\n",
      "Created Node: [v[82024]]\n",
      "Created Node: [v[159808]]\n",
      "Created Node: [v[192696]]\n",
      "Created Node: [v[188512]]\n",
      "Created Node: [v[82032]]\n",
      "Created Node: [v[49240]]\n"
     ]
    }
   ],
   "source": [
    "# Open the CSV file in read mode\n",
    "with open(csv_path, mode='r', newline='') as csvfile:\n",
    "    # Create a CSV reader object\n",
    "    csv_reader = csv.reader(csvfile)\n",
    "    \n",
    "    # Read and process each row in the CSV file\n",
    "    for row in csv_reader:\n",
    "        # 'row' will be a list representing each row in the CSV file\n",
    "        # You can access individual elements in the row using their indexes\n",
    "        id = row[0]\n",
    "        name = row[1]\n",
    "        category = row[2]\n",
    "        price = row[3]\n",
    "        rating = row[4]\n",
    "        \n",
    "        \n",
    "        node_label = \"product\"\n",
    "        node_properties = {\n",
    "            \"id\": id,\n",
    "            \"name\": name,\n",
    "            \"category\": category,\n",
    "            \"price\":price,\n",
    "            \"rating\":rating\n",
    "        }\n",
    "        created_node = create_graph_node(node_label, node_properties)\n",
    "        memory_usage.append(psutil.virtual_memory().used)\n",
    "        cpu_utilization.append(psutil.cpu_percent(interval=None, percpu=False))\n",
    "        timestamps.append(time.time())\n",
    "        print(\"Created Node:\", created_node)"
   ]
  },
  {
   "cell_type": "code",
   "execution_count": 12,
   "id": "2bd340f4-4782-4d59-b97b-825b394b7595",
   "metadata": {},
   "outputs": [
    {
     "data": {
      "text/plain": [
       "[<matplotlib.lines.Line2D at 0x7f7dccbfe6a0>]"
      ]
     },
     "execution_count": 12,
     "metadata": {},
     "output_type": "execute_result"
    },
    {
     "data": {
      "image/png": "[encoded data removed]",
      "text/plain": [
       "<Figure size 640x480 with 1 Axes>"
      ]
     },
     "metadata": {},
     "output_type": "display_data"
    }
   ],
   "source": [
    "plt.plot(timestamps,memory_usage)"
   ]
  },
  {
   "cell_type": "code",
   "execution_count": 13,
   "id": "db8bd7d4-5e90-4204-bf4d-1654ad2fbe7d",
   "metadata": {},
   "outputs": [
    {
     "data": {
      "text/plain": [
       "[<matplotlib.lines.Line2D at 0x7f7dccb71a30>]"
      ]
     },
     "execution_count": 13,
     "metadata": {},
     "output_type": "execute_result"
    },
    {
     "data": {
      "image/png": "[encoded data removed]",
      "text/plain": [
       "<Figure size 640x480 with 1 Axes>"
      ]
     },
     "metadata": {},
     "output_type": "display_data"
    }
   ],
   "source": [
    "plt.plot(timestamps,cpu_utilization)"
   ]
  },
  {
   "cell_type": "code",
   "execution_count": null,
   "id": "1908fc51-928b-47d8-97b8-f95eb8f2bf02",
   "metadata": {},
   "outputs": [],
   "source": []
  }
 ],
 "metadata": {
  "kernelspec": {
   "display_name": "Python 3 (ipykernel)",
   "language": "python",
   "name": "python3"
  },
  "language_info": {
   "codemirror_mode": {
    "name": "ipython",
    "version": 3
   },
   "file_extension": ".py",
   "mimetype": "text/x-python",
   "name": "python",
   "nbconvert_exporter": "python",
   "pygments_lexer": "ipython3",
   "version": "3.8.0"
  }
 },
 "nbformat": 4,
 "nbformat_minor": 5
}

{
 "cells": [
  {
   "cell_type": "markdown",
   "id": "64b355fc-a54b-4997-95f8-c1e57299df5c",
   "metadata": {},
   "source": [
    "Imports"
   ]
  },
  {
   "cell_type": "code",
   "execution_count": 5,
   "id": "41041552-5bff-4473-8afb-9f690befb866",
   "metadata": {},
   "outputs": [
    {
     "name": "stdout",
     "output_type": "stream",
     "text": [
      "Requirement already satisfied: nest_asyncio in /home/smeet/anaconda3/envs/gremlinpy/lib/python3.8/site-packages (1.5.6)\n"
     ]
    }
   ],
   "source": [
    "# !pip install nest_asyncio\n",
    "# import nest_asyncio\n",
    "# nest_asyncio.apply()"
   ]
  },
  {
   "cell_type": "code",
   "execution_count": 1,
   "id": "822eeca9-128b-4903-a041-22c6e2daaf6f",
   "metadata": {},
   "outputs": [],
   "source": [
    "from gremlin_python.process.anonymous_traversal import traversal\n",
    "from gremlin_python.driver.driver_remote_connection import DriverRemoteConnection\n",
    "from gremlin_python.driver import client, serializer"
   ]
  },
  {
   "cell_type": "markdown",
   "id": "132e386a-ddd9-463f-b981-dc0b36ccccdd",
   "metadata": {},
   "source": [
    "Sample Graph Creation"
   ]
  },
  {
   "cell_type": "code",
   "execution_count": 2,
   "id": "9fcae9a3-2f2b-443f-8d49-b0c6a3534921",
   "metadata": {},
   "outputs": [],
   "source": [
    "g = traversal().withRemote(DriverRemoteConnection('ws://localhost:8182/gremlin','g'))"
   ]
  },
  {
   "cell_type": "code",
   "execution_count": 6,
   "id": "80b29613-4a68-4ea0-8cfa-8e6f377dce38",
   "metadata": {},
   "outputs": [
    {
     "data": {
      "text/plain": [
       "e[{'@type': 'janusgraph:RelationIdentifier', '@value': {'relationId': '3kn-3aw-4r9-6go'}}][4280-knows->8376]"
      ]
     },
     "execution_count": 6,
     "metadata": {},
     "output_type": "execute_result"
    }
   ],
   "source": [
    "# Insert a new vertex\n",
    "new_vertex = g.addV('person').property('name', 'John').property('age', 30).next()\n",
    "\n",
    "# Insert another vertex\n",
    "another_vertex = g.addV('person').property('name', 'Alice').property('age', 25).next()\n",
    "\n",
    "# Insert an edge between the vertices\n",
    "g.V(new_vertex).addE('knows').to(g.V(another_vertex)).next()"
   ]
  },
  {
   "cell_type": "markdown",
   "id": "ca486185-d827-41ed-82cf-2814ebfab48a",
   "metadata": {},
   "source": [
    "Printing all nodes of the graph"
   ]
  },
  {
   "cell_type": "code",
   "execution_count": 13,
   "id": "0ba0bbce-9ae1-479e-84f4-a6096b6fa375",
   "metadata": {},
   "outputs": [
    {
     "data": {
      "text/plain": [
       "[{<T.id: 1>: 4208, <T.label: 4>: 'person', 'comName': ['value']},\n",
       " {<T.id: 1>: 4280, <T.label: 4>: 'person', 'name': ['John'], 'age': [30]},\n",
       " {<T.id: 1>: 8376, <T.label: 4>: 'person', 'name': ['Alice'], 'age': [25]}]"
      ]
     },
     "execution_count": 13,
     "metadata": {},
     "output_type": "execute_result"
    }
   ],
   "source": [
    "g.V().valueMap(True).toList()"
   ]
  },
  {
   "cell_type": "code",
   "execution_count": 14,
   "id": "0e83cd04-2c73-4803-9b5c-113ba162042e",
   "metadata": {},
   "outputs": [
    {
     "name": "stdout",
     "output_type": "stream",
     "text": [
      "{<T.id: 1>: 4208, <T.label: 4>: 'person', 'comName': ['value']}\n",
      "{<T.id: 1>: 4280, <T.label: 4>: 'person', 'name': ['John'], 'age': [30]}\n",
      "{<T.id: 1>: 8376, <T.label: 4>: 'person', 'name': ['Alice'], 'age': [25]}\n"
     ]
    }
   ],
   "source": [
    "all_vertices = g.V().valueMap(True).toList()\n",
    "\n",
    "# Print the nodes and their properties\n",
    "for vertex_properties in all_vertices:\n",
    "    print(vertex_properties)"
   ]
  },
  {
   "cell_type": "markdown",
   "id": "15fa07d6-cc36-49fb-99b5-436933f0b9b0",
   "metadata": {},
   "source": [
    "Function to create a graph"
   ]
  },
  {
   "cell_type": "code",
   "execution_count": 24,
   "id": "15e50dcc-85be-4da0-8002-fa292d3c4607",
   "metadata": {},
   "outputs": [],
   "source": [
    "def create_graph_node(label, properties):\n",
    "    try:\n",
    "        # Prepare the query to add a node\n",
    "        query = g.addV(label)\n",
    "\n",
    "        # Add properties to the node\n",
    "        for key, value in properties.items():\n",
    "            query = query.property(key, value)\n",
    "\n",
    "        # Execute the query\n",
    "        result_set = query.toList()\n",
    "    finally:\n",
    "        return result_set"
   ]
  },
  {
   "cell_type": "code",
   "execution_count": 25,
   "id": "264c4038-3bc5-4a00-98cc-2f10b3779087",
   "metadata": {},
   "outputs": [
    {
     "name": "stdout",
     "output_type": "stream",
     "text": [
      "Created Node: [v[16568]]\n"
     ]
    }
   ],
   "source": [
    "node_label = \"person\"\n",
    "node_properties = {\n",
    "    \"name\": \"John\",\n",
    "    \"age\": 30,\n",
    "    \"city\": \"New York\",\n",
    "}\n",
    "created_node = create_graph_node(node_label, node_properties)\n",
    "print(\"Created Node:\", created_node)"
   ]
  },
  {
   "cell_type": "code",
   "execution_count": 32,
   "id": "2dff26dc-6614-41fc-84bc-956dd449801c",
   "metadata": {},
   "outputs": [],
   "source": [
    "def get_node_properties_by_id(node_id):\n",
    "    result = \"Pending\"\n",
    "    try:\n",
    "        # Prepare the query to get the node by its ID\n",
    "        query = g.V(node_id)\n",
    "\n",
    "        # Execute the query and get the properties of the node\n",
    "        result_set = query.valueMap(True).toList()\n",
    "\n",
    "        if result_set:\n",
    "            # The query returns a list of dictionaries with properties as keys and lists of values.\n",
    "            # Since we queried for a single node, we extract the first element from the list.\n",
    "            node_properties = result_set[0]\n",
    "            result =  node_properties\n",
    "        else:\n",
    "            result = None\n",
    "\n",
    "    finally:\n",
    "        return result"
   ]
  },
  {
   "cell_type": "code",
   "execution_count": 33,
   "id": "e442abb5-b013-4ead-8228-780cd2966ba9",
   "metadata": {},
   "outputs": [
    {
     "name": "stdout",
     "output_type": "stream",
     "text": [
      "Properties of Node with ID 16568 : {<T.id: 1>: 16568, <T.label: 4>: 'person', 'name': ['John'], 'age': [30], 'city': ['New York']}\n"
     ]
    }
   ],
   "source": [
    "node_id = 16568\n",
    "\n",
    "node_properties = get_node_properties_by_id(node_id)\n",
    "if node_properties:\n",
    "    print(\"Properties of Node with ID\", node_id, \":\", node_properties)\n",
    "else:\n",
    "    print(\"Node with ID\", node_id, \"not found.\")"
   ]
  },
  {
   "cell_type": "code",
   "execution_count": null,
   "id": "762bb3fe-f2ff-4222-ac5f-712c98518ca8",
   "metadata": {},
   "outputs": [],
   "source": []
  }
 ],
 "metadata": {
  "kernelspec": {
   "display_name": "Python 3 (ipykernel)",
   "language": "python",
   "name": "python3"
  },
  "language_info": {
   "codemirror_mode": {
    "name": "ipython",
    "version": 3
   },
   "file_extension": ".py",
   "mimetype": "text/x-python",
   "name": "python",
   "nbconvert_exporter": "python",
   "pygments_lexer": "ipython3",
   "version": "3.8.0"
  }
 },
 "nbformat": 4,
 "nbformat_minor": 5
}

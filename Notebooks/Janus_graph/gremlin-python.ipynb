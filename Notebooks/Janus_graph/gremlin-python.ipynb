{
 "cells": [
  {
   "cell_type": "code",
   "execution_count": 5,
   "id": "41041552-5bff-4473-8afb-9f690befb866",
   "metadata": {},
   "outputs": [
    {
     "name": "stdout",
     "output_type": "stream",
     "text": [
      "Requirement already satisfied: nest_asyncio in /home/smeet/anaconda3/envs/gremlinpy/lib/python3.8/site-packages (1.5.6)\n"
     ]
    }
   ],
   "source": [
    "!pip install nest_asyncio\n",
    "import nest_asyncio\n",
    "nest_asyncio.apply()"
   ]
  },
  {
   "cell_type": "code",
   "execution_count": 1,
   "id": "822eeca9-128b-4903-a041-22c6e2daaf6f",
   "metadata": {},
   "outputs": [],
   "source": [
    "from gremlin_python.process.anonymous_traversal import traversal\n",
    "from gremlin_python.driver.driver_remote_connection import DriverRemoteConnection\n"
   ]
  },
  {
   "cell_type": "code",
   "execution_count": 2,
   "id": "9fcae9a3-2f2b-443f-8d49-b0c6a3534921",
   "metadata": {},
   "outputs": [],
   "source": [
    "g = traversal().withRemote(DriverRemoteConnection('ws://localhost:8182/gremlin','g'))"
   ]
  },
  {
   "cell_type": "code",
   "execution_count": 3,
   "id": "c7c9e399-7ce8-4b79-bf1a-f63b12e40e44",
   "metadata": {},
   "outputs": [
    {
     "data": {
      "text/plain": [
       "[['V'], ['count'], ['values', '_ipython_canary_method_should_not_exist_'], ['values', '_ipython_canary_method_should_not_exist_']]"
      ]
     },
     "execution_count": 3,
     "metadata": {},
     "output_type": "execute_result"
    }
   ],
   "source": [
    "g.V().count()"
   ]
  },
  {
   "cell_type": "code",
   "execution_count": 6,
   "id": "80b29613-4a68-4ea0-8cfa-8e6f377dce38",
   "metadata": {},
   "outputs": [
    {
     "data": {
      "text/plain": [
       "e[{'@type': 'janusgraph:RelationIdentifier', '@value': {'relationId': '3kn-3aw-4r9-6go'}}][4280-knows->8376]"
      ]
     },
     "execution_count": 6,
     "metadata": {},
     "output_type": "execute_result"
    }
   ],
   "source": [
    "# Insert a new vertex\n",
    "new_vertex = g.addV('person').property('name', 'John').property('age', 30).next()\n",
    "\n",
    "# Insert another vertex\n",
    "another_vertex = g.addV('person').property('name', 'Alice').property('age', 25).next()\n",
    "\n",
    "# Insert an edge between the vertices\n",
    "g.V(new_vertex).addE('knows').to(g.V(another_vertex)).next()"
   ]
  },
  {
   "cell_type": "code",
   "execution_count": 13,
   "id": "0ba0bbce-9ae1-479e-84f4-a6096b6fa375",
   "metadata": {},
   "outputs": [
    {
     "data": {
      "text/plain": [
       "[{<T.id: 1>: 4208, <T.label: 4>: 'person', 'comName': ['value']},\n",
       " {<T.id: 1>: 4280, <T.label: 4>: 'person', 'name': ['John'], 'age': [30]},\n",
       " {<T.id: 1>: 8376, <T.label: 4>: 'person', 'name': ['Alice'], 'age': [25]}]"
      ]
     },
     "execution_count": 13,
     "metadata": {},
     "output_type": "execute_result"
    }
   ],
   "source": [
    "g.V().valueMap(True).toList()"
   ]
  },
  {
   "cell_type": "code",
   "execution_count": 14,
   "id": "0e83cd04-2c73-4803-9b5c-113ba162042e",
   "metadata": {},
   "outputs": [
    {
     "name": "stdout",
     "output_type": "stream",
     "text": [
      "{<T.id: 1>: 4208, <T.label: 4>: 'person', 'comName': ['value']}\n",
      "{<T.id: 1>: 4280, <T.label: 4>: 'person', 'name': ['John'], 'age': [30]}\n",
      "{<T.id: 1>: 8376, <T.label: 4>: 'person', 'name': ['Alice'], 'age': [25]}\n"
     ]
    }
   ],
   "source": [
    "all_vertices = g.V().valueMap(True).toList()\n",
    "\n",
    "# Print the nodes and their properties\n",
    "for vertex_properties in all_vertices:\n",
    "    print(vertex_properties)"
   ]
  }
 ],
 "metadata": {
  "kernelspec": {
   "display_name": "Python 3 (ipykernel)",
   "language": "python",
   "name": "python3"
  },
  "language_info": {
   "codemirror_mode": {
    "name": "ipython",
    "version": 3
   },
   "file_extension": ".py",
   "mimetype": "text/x-python",
   "name": "python",
   "nbconvert_exporter": "python",
   "pygments_lexer": "ipython3",
   "version": "3.8.0"
  }
 },
 "nbformat": 4,
 "nbformat_minor": 5
}

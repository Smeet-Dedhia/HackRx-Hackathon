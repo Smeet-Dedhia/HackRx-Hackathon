{
 "cells": [
  {
   "cell_type": "markdown",
   "id": "64b355fc-a54b-4997-95f8-c1e57299df5c",
   "metadata": {},
   "source": [
    "Imports"
   ]
  },
  {
   "cell_type": "code",
   "execution_count": 1,
   "id": "41041552-5bff-4473-8afb-9f690befb866",
   "metadata": {},
   "outputs": [],
   "source": [
    "#!pip install nest_asyncio\n",
    "import nest_asyncio\n",
    "nest_asyncio.apply()"
   ]
  },
  {
   "cell_type": "code",
   "execution_count": 2,
   "id": "822eeca9-128b-4903-a041-22c6e2daaf6f",
   "metadata": {},
   "outputs": [],
   "source": [
    "from gremlin_python.process.anonymous_traversal import traversal\n",
    "from gremlin_python.driver.driver_remote_connection import DriverRemoteConnection\n",
    "from gremlin_python.driver import client, serializer"
   ]
  },
  {
   "cell_type": "markdown",
   "id": "132e386a-ddd9-463f-b981-dc0b36ccccdd",
   "metadata": {},
   "source": [
    "Sample Graph Creation"
   ]
  },
  {
   "cell_type": "code",
   "execution_count": 3,
   "id": "9fcae9a3-2f2b-443f-8d49-b0c6a3534921",
   "metadata": {},
   "outputs": [],
   "source": [
    "g = traversal().withRemote(DriverRemoteConnection('ws://localhost:8182/gremlin','g'))"
   ]
  },
  {
   "cell_type": "code",
   "execution_count": 4,
   "id": "fb5779ef-b4ef-42a9-b6d5-89bddc88c337",
   "metadata": {},
   "outputs": [
    {
     "data": {
      "text/plain": [
       "[['V'], ['drop'], ['none'], ['values', '_ipython_canary_method_should_not_exist_'], ['values', '_ipython_canary_method_should_not_exist_']]"
      ]
     },
     "execution_count": 4,
     "metadata": {},
     "output_type": "execute_result"
    }
   ],
   "source": [
    "# Prepare the query to delete all vertices (nodes)\n",
    "query = g.V().drop()\n",
    "\n",
    "# Execute the query to delete all vertices\n",
    "query.iterate()\n"
   ]
  },
  {
   "cell_type": "code",
   "execution_count": 5,
   "id": "80b29613-4a68-4ea0-8cfa-8e6f377dce38",
   "metadata": {},
   "outputs": [],
   "source": [
    "# # Insert a new vertex\n",
    "# new_vertex = g.addV('person').property('name', 'John').property('age', 30).next()\n",
    "\n",
    "# # Insert another vertex\n",
    "# another_vertex = g.addV('person').property('name', 'Alice').property('age', 25).next()\n",
    "\n",
    "# # Insert an edge between the vertices\n",
    "# g.V(new_vertex).addE('knows').to(g.V(another_vertex)).next()"
   ]
  },
  {
   "cell_type": "markdown",
   "id": "ca486185-d827-41ed-82cf-2814ebfab48a",
   "metadata": {},
   "source": [
    "Printing all nodes of the graph"
   ]
  },
  {
   "cell_type": "code",
   "execution_count": 6,
   "id": "0ba0bbce-9ae1-479e-84f4-a6096b6fa375",
   "metadata": {},
   "outputs": [],
   "source": [
    "# g.V().valueMap(True).toList()"
   ]
  },
  {
   "cell_type": "code",
   "execution_count": 7,
   "id": "0e83cd04-2c73-4803-9b5c-113ba162042e",
   "metadata": {},
   "outputs": [],
   "source": [
    "all_vertices = g.V().valueMap(True).toList()\n",
    "\n",
    "# Print the nodes and their properties\n",
    "for vertex_properties in all_vertices:\n",
    "    print(vertex_properties)"
   ]
  },
  {
   "cell_type": "markdown",
   "id": "15fa07d6-cc36-49fb-99b5-436933f0b9b0",
   "metadata": {},
   "source": [
    "Function to create a graph"
   ]
  },
  {
   "cell_type": "code",
   "execution_count": 8,
   "id": "15e50dcc-85be-4da0-8002-fa292d3c4607",
   "metadata": {},
   "outputs": [],
   "source": [
    "def create_graph_node(label, properties):\n",
    "    try:\n",
    "        # Prepare the query to add a node\n",
    "        query = g.addV(label)\n",
    "\n",
    "        # Add properties to the node\n",
    "        for key, value in properties.items():\n",
    "            query = query.property(key, value)\n",
    "\n",
    "        # Execute the query\n",
    "        result_set = query.toList()\n",
    "    finally:\n",
    "        return result_set"
   ]
  },
  {
   "cell_type": "code",
   "execution_count": 9,
   "id": "264c4038-3bc5-4a00-98cc-2f10b3779087",
   "metadata": {},
   "outputs": [],
   "source": [
    "# node_label = \"person\"\n",
    "# node_properties = {\n",
    "#     \"name\": \"John\",\n",
    "#     \"age\": 30,\n",
    "#     \"city\": \"New York\",\n",
    "# }\n",
    "# created_node = create_graph_node(node_label, node_properties)\n",
    "# print(\"Created Node:\", created_node)"
   ]
  },
  {
   "cell_type": "code",
   "execution_count": 10,
   "id": "2dff26dc-6614-41fc-84bc-956dd449801c",
   "metadata": {},
   "outputs": [],
   "source": [
    "def get_node_properties_by_id(node_id):\n",
    "    result = \"Pending\"\n",
    "    try:\n",
    "        # Prepare the query to get the node by its ID\n",
    "        query = g.V(node_id)\n",
    "\n",
    "        # Execute the query and get the properties of the node\n",
    "        result_set = query.valueMap(True).toList()\n",
    "\n",
    "        if result_set:\n",
    "            # The query returns a list of dictionaries with properties as keys and lists of values.\n",
    "            # Since we queried for a single node, we extract the first element from the list.\n",
    "            node_properties = result_set[0]\n",
    "            result =  node_properties\n",
    "        else:\n",
    "            result = None\n",
    "\n",
    "    finally:\n",
    "        return result"
   ]
  },
  {
   "cell_type": "code",
   "execution_count": 11,
   "id": "e442abb5-b013-4ead-8228-780cd2966ba9",
   "metadata": {},
   "outputs": [],
   "source": [
    "# node_id = 16568\n",
    "\n",
    "# node_properties = get_node_properties_by_id(node_id)\n",
    "# if node_properties:\n",
    "#     print(\"Properties of Node with ID\", node_id, \":\", node_properties)\n",
    "# else:\n",
    "#     print(\"Node with ID\", node_id, \"not found.\")"
   ]
  },
  {
   "cell_type": "markdown",
   "id": "264d4463-94a4-4d05-94f2-bf16de7e4679",
   "metadata": {},
   "source": [
    "Create graph from CSV"
   ]
  },
  {
   "cell_type": "code",
   "execution_count": 12,
   "id": "762bb3fe-f2ff-4222-ac5f-712c98518ca8",
   "metadata": {},
   "outputs": [
    {
     "name": "stdout",
     "output_type": "stream",
     "text": [
      "Created Node: [v[90176]]\n",
      "Created Node: [v[36976]]\n",
      "Created Node: [v[94272]]\n",
      "Created Node: [v[98400]]\n",
      "Created Node: [v[41072]]\n",
      "Created Node: [v[45168]]\n",
      "Created Node: [v[16552]]\n",
      "Created Node: [v[53352]]\n",
      "Created Node: [v[102496]]\n",
      "Created Node: [v[57448]]\n",
      "Created Node: [v[106680]]\n",
      "Created Node: [v[106592]]\n",
      "Created Node: [v[98368]]\n",
      "Created Node: [v[36952]]\n",
      "Created Node: [v[110688]]\n",
      "Created Node: [v[49264]]\n",
      "Created Node: [v[114784]]\n",
      "Created Node: [v[102464]]\n",
      "Created Node: [v[110776]]\n",
      "Created Node: [v[118880]]\n",
      "Created Node: [v[106560]]\n",
      "Created Node: [v[114872]]\n",
      "Created Node: [v[110656]]\n",
      "Created Node: [v[20648]]\n",
      "Created Node: [v[122976]]\n",
      "Created Node: [v[127072]]\n",
      "Created Node: [v[53360]]\n",
      "Created Node: [v[118968]]\n",
      "Created Node: [v[131168]]\n",
      "Created Node: [v[135264]]\n",
      "Created Node: [v[123064]]\n"
     ]
    }
   ],
   "source": [
    "import csv\n",
    "\n",
    "file_path = \"/home/smeet/Downloads/Bajaj Mall Data.csv\"\n",
    "\n",
    "# Open the CSV file in read mode\n",
    "with open(file_path, mode='r', newline='') as csvfile:\n",
    "    # Create a CSV reader object\n",
    "    csv_reader = csv.reader(csvfile)\n",
    "    \n",
    "    # Read and process each row in the CSV file\n",
    "    for row in csv_reader:\n",
    "        # 'row' will be a list representing each row in the CSV file\n",
    "        # You can access individual elements in the row using their indexes\n",
    "        id = row[0]\n",
    "        name = row[1]\n",
    "        category = row[2]\n",
    "        price = row[3]\n",
    "        rating = row[4]\n",
    "        \n",
    "        # Now you can do whatever you want with the data in the row\n",
    "        #print(f\"ID: {id}, Name: {name}, Category: {category}, Price: {price}, Rating: {rating}\")\n",
    "        \n",
    "        node_label = \"product\"\n",
    "        node_properties = {\n",
    "            \"id\": id,\n",
    "            \"name\": name,\n",
    "            \"category\": category,\n",
    "            \"price\":price,\n",
    "            \"rating\":rating\n",
    "        }\n",
    "        created_node = create_graph_node(node_label, node_properties)\n",
    "        print(\"Created Node:\", created_node)"
   ]
  },
  {
   "cell_type": "code",
   "execution_count": 13,
   "id": "709dc2b3-b44c-42f4-8003-5c7ce34c944d",
   "metadata": {},
   "outputs": [
    {
     "name": "stdout",
     "output_type": "stream",
     "text": [
      "{<T.id: 1>: 90176, <T.label: 4>: 'product', 'name': ['NAME'], 'price': ['PRICE'], 'rating': ['AVGRATING'], 'id': ['ID'], 'category': ['CATEGORY']}\n",
      "{<T.id: 1>: 94272, <T.label: 4>: 'product', 'name': ['Apka Interior Metallic Sofa cum Bed with Cushions (Finish Color - RED Rectangular Slide Shape)'], 'price': ['21920'], 'rating': ['3.3'], 'id': ['1'], 'category': ['Beds']}\n",
      "{<T.id: 1>: 98368, <T.label: 4>: 'product', 'name': ['Whirlpool 240 L Frost Free Triple Door Refrigerator Alpha Steel (FP 263D PROTTON ROY)'], 'price': ['26690'], 'rating': ['3.9'], 'id': ['11'], 'category': ['Fridge']}\n",
      "{<T.id: 1>: 102464, <T.label: 4>: 'product', 'name': ['OnePlus Nord CE 2 Lite 5G 128 GB Storage Blue Tide (6 GB RAM)'], 'price': ['17999'], 'rating': ['3.3'], 'id': ['16'], 'category': ['Smartphone']}\n",
      "{<T.id: 1>: 106560, <T.label: 4>: 'product', 'name': ['Samsung Galaxy A03 32 GB Storage Black (3 GB RAM)'], 'price': ['10299'], 'rating': ['2.9'], 'id': ['19'], 'category': ['Smartphone']}\n",
      "{<T.id: 1>: 110656, <T.label: 4>: 'product', 'name': ['Realme 10 Pro+ 5G 128 GB Storage Hyperspace (8 GB RAM)'], 'price': ['25999'], 'rating': ['4.5'], 'id': ['21'], 'category': ['Smartphone']}\n",
      "{<T.id: 1>: 36952, <T.label: 4>: 'product', 'name': ['Samsung 198 3 Star Direct Cool Single Door Refrigerator (RR21A2D2YS8/HL)'], 'price': ['15799'], 'rating': ['2.2'], 'id': ['12'], 'category': ['Fridge']}\n",
      "{<T.id: 1>: 98400, <T.label: 4>: 'product', 'name': ['Springtek Folding Sofa Cum Bed - Perfect for Guests - Jute Fabric - 6 X 6 Feet Double Sofa Bed - Grey'], 'price': ['8999'], 'rating': ['2.9'], 'id': ['2'], 'category': ['Beds']}\n",
      "{<T.id: 1>: 102496, <T.label: 4>: 'product', 'name': ['Whirlpool 265 L 2 Star Frost Free Double Door Refrigerator Grey (NEO DF278 PRM )'], 'price': ['26500'], 'rating': ['4.2'], 'id': ['7'], 'category': ['Fridge']}\n",
      "{<T.id: 1>: 106592, <T.label: 4>: 'product', 'name': ['Samsung 198 L 5 Star Direct Cool Single Door Refrigerator Paradise Bloom Purple (RR21T2H2W9R)'], 'price': ['21600'], 'rating': ['3.7'], 'id': ['10'], 'category': ['Fridge']}\n",
      "{<T.id: 1>: 110688, <T.label: 4>: 'product', 'name': ['Samsung 253 L 3 Star Frost Free Double Door Refrigerator Refined Inox (RT28A3723S9/HL)'], 'price': ['31400'], 'rating': ['4.1'], 'id': ['13'], 'category': ['Fridge']}\n",
      "{<T.id: 1>: 114784, <T.label: 4>: 'product', 'name': ['OPPO F21 Pro 128 GB Storage Cosmic Black (8 GB RAM)'], 'price': ['20999'], 'rating': ['4.2'], 'id': ['15'], 'category': ['Smartphone']}\n",
      "{<T.id: 1>: 118880, <T.label: 4>: 'product', 'name': ['Redmi 11 Prime 64 GB Storage Peppy Purple (4 GB RAM)'], 'price': ['12999'], 'rating': ['3.7'], 'id': ['18'], 'category': ['Smartphone']}\n",
      "{<T.id: 1>: 122976, <T.label: 4>: 'product', 'name': ['Dell Inspiron 3511 Intel Core i3 11th Gen8 GB RAM/ 1 TB HDD/15.6 inch Laptop (Silver D560651WIN9S)'], 'price': ['43470'], 'rating': ['5'], 'id': ['23'], 'category': ['Laptop']}\n",
      "{<T.id: 1>: 127072, <T.label: 4>: 'product', 'name': ['Dell G3-3500 Intel Core i5 10th Gen 8 GB RAM/512GB SSD/Windows 10/15.6 inch Laptop (Black D560254WIN9BL)'], 'price': ['83302'], 'rating': ['3'], 'id': ['24'], 'category': ['Laptop']}\n",
      "{<T.id: 1>: 131168, <T.label: 4>: 'product', 'name': ['Acer AMD Ryzen 5 8 GB RAM/1 TB HDD/Windows 10 Home/15.6 inch Laptop (Obsidian Black NHQ5XSI002)'], 'price': ['61999'], 'rating': ['3'], 'id': ['27'], 'category': ['Laptop']}\n",
      "{<T.id: 1>: 135264, <T.label: 4>: 'product', 'name': ['Lenovo IdeaPad 3 Chromebook 11IGL05 Intel Celeron Dual Core 4 GB RAM/ 128 GB eMMC HDD / Chrome OS/ 11.6 inch Laptop (Arctic Grey 82N30012HA )'], 'price': ['28999'], 'rating': ['4.1'], 'id': ['28'], 'category': ['Laptop']}\n",
      "{<T.id: 1>: 53352, <T.label: 4>: 'product', 'name': ['@home by Nilkamal Theia High Gloss King Bed with Storage (White)'], 'price': ['69900'], 'rating': ['3.9'], 'id': ['6'], 'category': ['Beds']}\n",
      "{<T.id: 1>: 57448, <T.label: 4>: 'product', 'name': ['Haier 195 L 3 Star Direct Cool Single Door Refrigerator Black Brushline (HRD-1953CKS-E)'], 'price': ['13499'], 'rating': ['2.1'], 'id': ['8'], 'category': ['Fridge']}\n",
      "{<T.id: 1>: 36976, <T.label: 4>: 'product', 'name': ['Nilkamal Arthur Double Bed Without Storage (Walnut)'], 'price': ['13999'], 'rating': ['4.2'], 'id': ['0'], 'category': ['Beds']}\n",
      "{<T.id: 1>: 41072, <T.label: 4>: 'product', 'name': ['Aaram by Zebrs Wooden King Size Bed Without Storage for Bedroom Living Room'], 'price': ['31588'], 'rating': ['4.9'], 'id': ['3'], 'category': ['Beds']}\n",
      "{<T.id: 1>: 45168, <T.label: 4>: 'product', 'name': ['Hometown Optimas King Bed With Box Storage (Dark Choco)'], 'price': ['20368'], 'rating': ['3.5'], 'id': ['4'], 'category': ['Beds']}\n",
      "{<T.id: 1>: 49264, <T.label: 4>: 'product', 'name': ['LG 260 L 2 Star Frost Free Double Door Refrigerator Dazzle Steel (GL-N292BDSY)'], 'price': ['25500'], 'rating': ['2.3'], 'id': ['14'], 'category': ['Fridge']}\n",
      "{<T.id: 1>: 53360, <T.label: 4>: 'product', 'name': ['Acer Aspire Vero Green Intel Core i5 11th Gen8 GB RAM/ 512 GB SSD/ Windows 11 Home/ 15.6 inch Laptop (Volcano Grey NXAYCSI001)'], 'price': ['49999'], 'rating': ['4.5'], 'id': ['25'], 'category': ['Laptop']}\n",
      "{<T.id: 1>: 16552, <T.label: 4>: 'product', 'name': ['@home by Nilkamal Nimbo Queen Bed Without Storage (Black)'], 'price': ['9975'], 'rating': ['3.6'], 'id': ['5'], 'category': ['Beds']}\n",
      "{<T.id: 1>: 20648, <T.label: 4>: 'product', 'name': ['Dell Intel Core i5 8 GB RAM/ 512 GB SSD/ Windows 11 Home/ 15.6 inch Laptop (Platinum Silver D560784WIN9S)'], 'price': ['55700'], 'rating': ['3.4'], 'id': ['22'], 'category': ['Laptop']}\n",
      "{<T.id: 1>: 106680, <T.label: 4>: 'product', 'name': ['LG 190 L 3 Star Direct Cool Single Door Refrigerator Purple (GL-D201ABED)'], 'price': ['20699'], 'rating': ['5'], 'id': ['9'], 'category': ['Fridge']}\n",
      "{<T.id: 1>: 110776, <T.label: 4>: 'product', 'name': ['OnePlus 11 5G 256 GB Storage Titan Black (16 GB RAM)'], 'price': ['61999'], 'rating': ['4.6'], 'id': ['17'], 'category': ['Smartphone']}\n",
      "{<T.id: 1>: 114872, <T.label: 4>: 'product', 'name': ['vivo V27 Pro 5G 128 GB Storage Noble Black (8 GB RAM)'], 'price': ['37999'], 'rating': ['4.5'], 'id': ['20'], 'category': ['Smartphone']}\n",
      "{<T.id: 1>: 118968, <T.label: 4>: 'product', 'name': ['Acer Swift 3 Intel Core i5 11th Gen 8 GB RAM/ 512 GB SSD/HDD/ Windows 11 Home/ 14 inch Laptop (Pure Silver NX.ABNSI.00A)'], 'price': ['60999'], 'rating': ['4.2'], 'id': ['26'], 'category': ['Laptop']}\n",
      "{<T.id: 1>: 123064, <T.label: 4>: 'product', 'name': ['Lenovo Intel Core i3 10th Gen 8 GB RAM/ 1 TB HDD / Windows 11 Home/ 15.6 inch Laptop (Platinum Grey 81WB01E8IN)'], 'price': ['38990'], 'rating': ['3.2'], 'id': ['29'], 'category': ['Laptop']}\n"
     ]
    }
   ],
   "source": [
    "all_vertices = g.V().valueMap(True).toList()\n",
    "\n",
    "# Print the nodes and their properties\n",
    "for vertex_properties in all_vertices:\n",
    "    print(vertex_properties)"
   ]
  },
  {
   "cell_type": "markdown",
   "id": "a5c31670-74aa-4872-8538-abb2e6628883",
   "metadata": {},
   "source": [
    "Create edges from TSV"
   ]
  },
  {
   "cell_type": "code",
   "execution_count": 14,
   "id": "f8c3347d-33c2-4db2-916d-031a43efa31b",
   "metadata": {},
   "outputs": [],
   "source": [
    "def add_edges_from_edgelist(edge_list):\n",
    "\n",
    "    try:\n",
    "        # Iterate through the edge list and add edges between existing nodes\n",
    "        for source_id, edge_label, target_id in edge_list:\n",
    "            query = graph.traversal().V(source_id).addE(edge_label).to(traversal_source).V(target_id)\n",
    "            query.iterate()\n",
    "\n",
    "    finally:\n",
    "        # Close the connection to Gremlin Server\n",
    "        graph.close()"
   ]
  },
  {
   "cell_type": "code",
   "execution_count": 15,
   "id": "286121e1-7ff9-417d-b409-bfce30f1a35d",
   "metadata": {},
   "outputs": [],
   "source": [
    "# # Example edge list: (source_id, edge_label, target_id)\n",
    "# edge_list = [\n",
    "#     (1, 'knows', 2),\n",
    "#     (2, 'likes', 3),\n",
    "#     (1, 'works_with', 4),\n",
    "#     # Add more edges as needed\n",
    "# ]\n",
    "\n",
    "# add_edges_from_edgelist(edge_list)"
   ]
  },
  {
   "cell_type": "code",
   "execution_count": 16,
   "id": "2d193202-f397-4857-8e5b-de85182da151",
   "metadata": {},
   "outputs": [],
   "source": [
    "def create_edges_with_id(id1, id2, edge_label):\n",
    "    try:\n",
    "        # Get nodes with the specified property and their IDs\n",
    "        n1 = g.V().has(\"id\", id1).id().toList()[0]\n",
    "        n2 = g.V().has(\"id\", id2).id().toList()[0]\n",
    "    \n",
    "    \n",
    "        #query = graph.traversal().V(n1).addE(edge_label).to(n1).V(n1)\n",
    "        query = g.V(n1).addE(edge_label).to(g.V(n2))\n",
    "    \n",
    "        query.iterate()\n",
    "    finally:\n",
    "        return"
   ]
  },
  {
   "cell_type": "code",
   "execution_count": 17,
   "id": "f4739b8b-59cc-45f8-ba8f-d680da4c17eb",
   "metadata": {},
   "outputs": [],
   "source": [
    "create_edges_with_id(0, 7, \"coPurchased_with\")"
   ]
  },
  {
   "cell_type": "code",
   "execution_count": 18,
   "id": "89c7b9e4-9ea0-4112-8d69-d09a3dabb09c",
   "metadata": {},
   "outputs": [],
   "source": [
    "tsv_path = \"/home/smeet/Downloads/edgelist.txt\"\n",
    "\n",
    "# Open the TSV file in read mode, set the delimiter to '\\t' for TSV\n",
    "with open(tsv_path, mode='r', newline='') as tsvfile:\n",
    "    # Create a CSV reader object with the specified delimiter\n",
    "    tsv_reader = csv.reader(tsvfile, delimiter='\\t')\n",
    "    \n",
    "    # Read and process each row in the TSV file\n",
    "    for row in tsv_reader:\n",
    "        if(len(row)<2): continue\n",
    "        # 'row' will be a list representing each row in the TSV file\n",
    "        # You can access individual elements in the row using their indexes\n",
    "        id1 = int(row[0])\n",
    "        id2 = int(row[1])\n",
    "        \n",
    "        # Now you can do whatever you want with the data in the row\n",
    "        create_edges_with_id(id1, id2, \"coPurchased_with\")\n"
   ]
  },
  {
   "cell_type": "code",
   "execution_count": 25,
   "id": "766822f2-41fd-45cd-81b2-313c0796f627",
   "metadata": {},
   "outputs": [
    {
     "data": {
      "text/plain": [
       "[v[131168]]"
      ]
     },
     "execution_count": 25,
     "metadata": {},
     "output_type": "execute_result"
    }
   ],
   "source": [
    "g.V(110656).both().toList()"
   ]
  },
  {
   "cell_type": "code",
   "execution_count": 20,
   "id": "7c6859ca-2d24-421c-84d3-8358edb0816a",
   "metadata": {},
   "outputs": [
    {
     "name": "stdout",
     "output_type": "stream",
     "text": [
      "Memory Usage Before: 6254.747648 mb\n",
      "CPU Usage Before: 9.5%\n",
      "Memory Usage After: 6254.747648 mb\n",
      "CPU Usage After: 36.8%\n",
      "Memory Usage During Operation: 0.0 kb\n",
      "CPU Usage During Operation: 27.299999999999997%\n",
      "Operation Duration: 0.0523 seconds\n"
     ]
    }
   ],
   "source": [
    "import psutil\n",
    "import time\n",
    "\n",
    "# Function to simulate some operation\n",
    "def perform_operation():\n",
    "    for _ in range(1000000):\n",
    "        # Simulate a computation-intensive task\n",
    "        \n",
    "        result = 2 * 2\n",
    "# Get memory usage in bytes before starting the operation\n",
    "memory_before = psutil.virtual_memory().used\n",
    "\n",
    "# Get CPU usage as a percentage before starting the operation\n",
    "cpu_usage_before = psutil.cpu_percent(interval=None, percpu=False)\n",
    "\n",
    "# Start the operation\n",
    "start_time = time.time()\n",
    "perform_operation()\n",
    "end_time = time.time()\n",
    "\n",
    "memory_after = psutil.virtual_memory().used\n",
    "# Calculate the memory usage during the operation\n",
    "memory_usage_during_operation = memory_after - memory_before\n",
    "\n",
    "# Get CPU usage as a percentage after finishing the operation\n",
    "cpu_usage_after = psutil.cpu_percent(interval=None, percpu=False)\n",
    "\n",
    "# Calculate the CPU usage during the operation\n",
    "cpu_usage_during_operation = cpu_usage_after - cpu_usage_before\n",
    "\n",
    "# Calculate the time taken for the operation\n",
    "operation_duration = end_time - start_time\n",
    "\n",
    "print(f\"Memory Usage Before: {memory_before/1000000} mb\")\n",
    "print(f\"CPU Usage Before: {cpu_usage_before}%\")\n",
    "print(f\"Memory Usage After: {memory_after/1000000} mb\")\n",
    "print(f\"CPU Usage After: {cpu_usage_after}%\")\n",
    "print(f\"Memory Usage During Operation: {memory_usage_during_operation/1000} kb\")\n",
    "print(f\"CPU Usage During Operation: {cpu_usage_during_operation}%\")\n",
    "print(f\"Operation Duration: {operation_duration:.4f} seconds\")\n"
   ]
  },
  {
   "cell_type": "code",
   "execution_count": 34,
   "id": "60cbe0ee-988f-4b26-83c5-6a580e410037",
   "metadata": {},
   "outputs": [],
   "source": [
    "def generate_graph_statistics_report():\n",
    "    #try:\n",
    "    # Query for the total number of vertices (nodes) in the graph\n",
    "    total_vertices_query = g.V().count().toList()\n",
    "    total_vertices = total_vertices_query[0]\n",
    "\n",
    "    # Query for the total number of edges in the graph\n",
    "    total_edges_query = g.E().count().toList()\n",
    "    total_edges = total_edges_query[0]\n",
    "\n",
    "    # Query for the average degree of the vertices in the graph\n",
    "    sum_degree_query = g.V().bothE().count().toList()\n",
    "    sum_degree = sum_degree_query[0]\n",
    "\n",
    "    # # Query for the number of vertices per label (node type) in the graph\n",
    "    # vertices_per_label_query = g.V().groupCount().by('coPurchased_with').toList()\n",
    "    # vertices_per_label = {label: count for label, count in vertices_per_label_query[0].items()}\n",
    "\n",
    "    # # Query for the number of edges per label in the graph\n",
    "    # edges_per_label_query = g.E().groupCount().by('coPurchased_with').toList()\n",
    "    # edges_per_label = {label: count for label, count in edges_per_label_query[0].items()}\n",
    "\n",
    "    # Query for other statistics as needed...\n",
    "\n",
    "    # Generate the report\n",
    "    report = {\n",
    "        \"Total Vertices\": total_vertices,\n",
    "        \"Total Edges\": total_edges,\n",
    "        \"Average Degree\": sum_degree/total_vertices,\n",
    "        #\"Vertices per Label\": vertices_per_label,\n",
    "        #\"Edges per Label\": edges_per_label,\n",
    "        # Add other statistics to the report as needed...\n",
    "    }\n",
    "\n",
    "    return report\n",
    "\n",
    "    # finally:\n",
    "    #     # Close the connection to Gremlin Server\n",
    "    #     graph.close()\n",
    "\n"
   ]
  },
  {
   "cell_type": "code",
   "execution_count": 35,
   "id": "4f3b1c67-7bf5-4b44-af82-aab115efc51d",
   "metadata": {},
   "outputs": [
    {
     "name": "stdout",
     "output_type": "stream",
     "text": [
      "Graph Statistics Report:\n",
      "Total Vertices: 31\n",
      "Total Edges: 45\n",
      "Average Degree: 2.903225806451613\n"
     ]
    }
   ],
   "source": [
    "graph_statistics_report = generate_graph_statistics_report()\n",
    "print(\"Graph Statistics Report:\")\n",
    "for key, value in graph_statistics_report.items():\n",
    "    print(f\"{key}: {value}\")"
   ]
  },
  {
   "cell_type": "code",
   "execution_count": null,
   "id": "adb22ff0-e2e7-4dc8-8535-30443916047d",
   "metadata": {},
   "outputs": [],
   "source": []
  }
 ],
 "metadata": {
  "kernelspec": {
   "display_name": "Python 3 (ipykernel)",
   "language": "python",
   "name": "python3"
  },
  "language_info": {
   "codemirror_mode": {
    "name": "ipython",
    "version": 3
   },
   "file_extension": ".py",
   "mimetype": "text/x-python",
   "name": "python",
   "nbconvert_exporter": "python",
   "pygments_lexer": "ipython3",
   "version": "3.8.0"
  }
 },
 "nbformat": 4,
 "nbformat_minor": 5
}

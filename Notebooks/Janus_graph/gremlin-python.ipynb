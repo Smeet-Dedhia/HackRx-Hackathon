{
 "cells": [
  {
   "cell_type": "markdown",
   "id": "64b355fc-a54b-4997-95f8-c1e57299df5c",
   "metadata": {},
   "source": [
    "Imports"
   ]
  },
  {
   "cell_type": "code",
   "execution_count": 5,
   "id": "41041552-5bff-4473-8afb-9f690befb866",
   "metadata": {},
   "outputs": [
    {
     "name": "stdout",
     "output_type": "stream",
     "text": [
      "Requirement already satisfied: nest_asyncio in /home/smeet/anaconda3/envs/gremlinpy/lib/python3.8/site-packages (1.5.6)\n"
     ]
    }
   ],
   "source": [
    "# !pip install nest_asyncio\n",
    "# import nest_asyncio\n",
    "# nest_asyncio.apply()"
   ]
  },
  {
   "cell_type": "code",
   "execution_count": 1,
   "id": "822eeca9-128b-4903-a041-22c6e2daaf6f",
   "metadata": {},
   "outputs": [],
   "source": [
    "from gremlin_python.process.anonymous_traversal import traversal\n",
    "from gremlin_python.driver.driver_remote_connection import DriverRemoteConnection\n",
    "from gremlin_python.driver import client, serializer"
   ]
  },
  {
   "cell_type": "markdown",
   "id": "132e386a-ddd9-463f-b981-dc0b36ccccdd",
   "metadata": {},
   "source": [
    "Sample Graph Creation"
   ]
  },
  {
   "cell_type": "code",
   "execution_count": 2,
   "id": "9fcae9a3-2f2b-443f-8d49-b0c6a3534921",
   "metadata": {},
   "outputs": [],
   "source": [
    "g = traversal().withRemote(DriverRemoteConnection('ws://localhost:8182/gremlin','g'))"
   ]
  },
  {
   "cell_type": "code",
   "execution_count": 6,
   "id": "80b29613-4a68-4ea0-8cfa-8e6f377dce38",
   "metadata": {},
   "outputs": [
    {
     "data": {
      "text/plain": [
       "e[{'@type': 'janusgraph:RelationIdentifier', '@value': {'relationId': '3kn-3aw-4r9-6go'}}][4280-knows->8376]"
      ]
     },
     "execution_count": 6,
     "metadata": {},
     "output_type": "execute_result"
    }
   ],
   "source": [
    "# Insert a new vertex\n",
    "new_vertex = g.addV('person').property('name', 'John').property('age', 30).next()\n",
    "\n",
    "# Insert another vertex\n",
    "another_vertex = g.addV('person').property('name', 'Alice').property('age', 25).next()\n",
    "\n",
    "# Insert an edge between the vertices\n",
    "g.V(new_vertex).addE('knows').to(g.V(another_vertex)).next()"
   ]
  },
  {
   "cell_type": "markdown",
   "id": "ca486185-d827-41ed-82cf-2814ebfab48a",
   "metadata": {},
   "source": [
    "Printing all nodes of the graph"
   ]
  },
  {
   "cell_type": "code",
   "execution_count": 13,
   "id": "0ba0bbce-9ae1-479e-84f4-a6096b6fa375",
   "metadata": {},
   "outputs": [
    {
     "data": {
      "text/plain": [
       "[{<T.id: 1>: 4208, <T.label: 4>: 'person', 'comName': ['value']},\n",
       " {<T.id: 1>: 4280, <T.label: 4>: 'person', 'name': ['John'], 'age': [30]},\n",
       " {<T.id: 1>: 8376, <T.label: 4>: 'person', 'name': ['Alice'], 'age': [25]}]"
      ]
     },
     "execution_count": 13,
     "metadata": {},
     "output_type": "execute_result"
    }
   ],
   "source": [
    "g.V().valueMap(True).toList()"
   ]
  },
  {
   "cell_type": "code",
   "execution_count": 14,
   "id": "0e83cd04-2c73-4803-9b5c-113ba162042e",
   "metadata": {},
   "outputs": [
    {
     "name": "stdout",
     "output_type": "stream",
     "text": [
      "{<T.id: 1>: 4208, <T.label: 4>: 'person', 'comName': ['value']}\n",
      "{<T.id: 1>: 4280, <T.label: 4>: 'person', 'name': ['John'], 'age': [30]}\n",
      "{<T.id: 1>: 8376, <T.label: 4>: 'person', 'name': ['Alice'], 'age': [25]}\n"
     ]
    }
   ],
   "source": [
    "all_vertices = g.V().valueMap(True).toList()\n",
    "\n",
    "# Print the nodes and their properties\n",
    "for vertex_properties in all_vertices:\n",
    "    print(vertex_properties)"
   ]
  },
  {
   "cell_type": "markdown",
   "id": "15fa07d6-cc36-49fb-99b5-436933f0b9b0",
   "metadata": {},
   "source": [
    "Function to create a graph"
   ]
  },
  {
   "cell_type": "code",
   "execution_count": 24,
   "id": "15e50dcc-85be-4da0-8002-fa292d3c4607",
   "metadata": {},
   "outputs": [],
   "source": [
    "def create_graph_node(label, properties):\n",
    "    try:\n",
    "        # Prepare the query to add a node\n",
    "        query = g.addV(label)\n",
    "\n",
    "        # Add properties to the node\n",
    "        for key, value in properties.items():\n",
    "            query = query.property(key, value)\n",
    "\n",
    "        # Execute the query\n",
    "        result_set = query.toList()\n",
    "    finally:\n",
    "        return result_set"
   ]
  },
  {
   "cell_type": "code",
   "execution_count": 25,
   "id": "264c4038-3bc5-4a00-98cc-2f10b3779087",
   "metadata": {},
   "outputs": [
    {
     "name": "stdout",
     "output_type": "stream",
     "text": [
      "Created Node: [v[16568]]\n"
     ]
    }
   ],
   "source": [
    "node_label = \"person\"\n",
    "node_properties = {\n",
    "    \"name\": \"John\",\n",
    "    \"age\": 30,\n",
    "    \"city\": \"New York\",\n",
    "}\n",
    "created_node = create_graph_node(node_label, node_properties)\n",
    "print(\"Created Node:\", created_node)"
   ]
  },
  {
   "cell_type": "code",
   "execution_count": 32,
   "id": "2dff26dc-6614-41fc-84bc-956dd449801c",
   "metadata": {},
   "outputs": [],
   "source": [
    "def get_node_properties_by_id(node_id):\n",
    "    result = \"Pending\"\n",
    "    try:\n",
    "        # Prepare the query to get the node by its ID\n",
    "        query = g.V(node_id)\n",
    "\n",
    "        # Execute the query and get the properties of the node\n",
    "        result_set = query.valueMap(True).toList()\n",
    "\n",
    "        if result_set:\n",
    "            # The query returns a list of dictionaries with properties as keys and lists of values.\n",
    "            # Since we queried for a single node, we extract the first element from the list.\n",
    "            node_properties = result_set[0]\n",
    "            result =  node_properties\n",
    "        else:\n",
    "            result = None\n",
    "\n",
    "    finally:\n",
    "        return result"
   ]
  },
  {
   "cell_type": "code",
   "execution_count": 33,
   "id": "e442abb5-b013-4ead-8228-780cd2966ba9",
   "metadata": {},
   "outputs": [
    {
     "name": "stdout",
     "output_type": "stream",
     "text": [
      "Properties of Node with ID 16568 : {<T.id: 1>: 16568, <T.label: 4>: 'person', 'name': ['John'], 'age': [30], 'city': ['New York']}\n"
     ]
    }
   ],
   "source": [
    "node_id = 16568\n",
    "\n",
    "node_properties = get_node_properties_by_id(node_id)\n",
    "if node_properties:\n",
    "    print(\"Properties of Node with ID\", node_id, \":\", node_properties)\n",
    "else:\n",
    "    print(\"Node with ID\", node_id, \"not found.\")"
   ]
  },
  {
   "cell_type": "markdown",
   "id": "264d4463-94a4-4d05-94f2-bf16de7e4679",
   "metadata": {},
   "source": [
    "Create graph from CSV"
   ]
  },
  {
   "cell_type": "code",
   "execution_count": 35,
   "id": "762bb3fe-f2ff-4222-ac5f-712c98518ca8",
   "metadata": {},
   "outputs": [
    {
     "name": "stdout",
     "output_type": "stream",
     "text": [
      "Created Node: [v[4200]]\n",
      "Created Node: [v[8304]]\n",
      "Created Node: [v[4192]]\n",
      "Created Node: [v[8288]]\n",
      "Created Node: [v[12384]]\n",
      "Created Node: [v[12400]]\n",
      "Created Node: [v[20664]]\n",
      "Created Node: [v[24760]]\n",
      "Created Node: [v[28856]]\n",
      "Created Node: [v[8256]]\n",
      "Created Node: [v[16480]]\n",
      "Created Node: [v[8296]]\n",
      "Created Node: [v[12392]]\n",
      "Created Node: [v[12352]]\n",
      "Created Node: [v[16496]]\n",
      "Created Node: [v[32952]]\n",
      "Created Node: [v[16448]]\n",
      "Created Node: [v[37048]]\n",
      "Created Node: [v[16488]]\n",
      "Created Node: [v[41144]]\n",
      "Created Node: [v[20576]]\n",
      "Created Node: [v[24672]]\n",
      "Created Node: [v[28768]]\n",
      "Created Node: [v[20544]]\n",
      "Created Node: [v[20584]]\n",
      "Created Node: [v[32864]]\n",
      "Created Node: [v[24640]]\n",
      "Created Node: [v[4264]]\n",
      "Created Node: [v[36960]]\n",
      "Created Node: [v[41056]]\n",
      "Created Node: [v[8360]]\n"
     ]
    }
   ],
   "source": [
    "import csv\n",
    "\n",
    "file_path = \"/home/smeet/Downloads/Bajaj Mall Data.csv\"\n",
    "\n",
    "# Open the CSV file in read mode\n",
    "with open(file_path, mode='r', newline='') as csvfile:\n",
    "    # Create a CSV reader object\n",
    "    csv_reader = csv.reader(csvfile)\n",
    "    \n",
    "    # Read and process each row in the CSV file\n",
    "    for row in csv_reader:\n",
    "        # 'row' will be a list representing each row in the CSV file\n",
    "        # You can access individual elements in the row using their indexes\n",
    "        id = row[0]\n",
    "        name = row[1]\n",
    "        category = row[2]\n",
    "        price = row[3]\n",
    "        rating = row[4]\n",
    "        \n",
    "        # Now you can do whatever you want with the data in the row\n",
    "        #print(f\"ID: {id}, Name: {name}, Category: {category}, Price: {price}, Rating: {rating}\")\n",
    "        \n",
    "        node_label = \"product\"\n",
    "        node_properties = {\n",
    "            \"id\": id,\n",
    "            \"name\": name,\n",
    "            \"category\": category,\n",
    "            \"price\":price,\n",
    "            \"rating\":rating\n",
    "        }\n",
    "        created_node = create_graph_node(node_label, node_properties)\n",
    "        print(\"Created Node:\", created_node)"
   ]
  },
  {
   "cell_type": "code",
   "execution_count": 36,
   "id": "709dc2b3-b44c-42f4-8003-5c7ce34c944d",
   "metadata": {},
   "outputs": [
    {
     "name": "stdout",
     "output_type": "stream",
     "text": [
      "{<T.id: 1>: 4160, <T.label: 4>: 'person', 'name': ['John'], 'age': [30], 'city': ['New York']}\n",
      "{<T.id: 1>: 8256, <T.label: 4>: 'product', 'name': ['Haier 195 L 3 Star Direct Cool Single Door Refrigerator Black Brushline (HRD-1953CKS-E)'], 'price': ['13499'], 'rating': ['2.1'], 'id': ['8'], 'category': ['Fridge']}\n",
      "{<T.id: 1>: 12352, <T.label: 4>: 'product', 'name': ['Samsung 198 3 Star Direct Cool Single Door Refrigerator (RR21A2D2YS8/HL)'], 'price': ['15799'], 'rating': ['2.2'], 'id': ['12'], 'category': ['Fridge']}\n",
      "{<T.id: 1>: 16448, <T.label: 4>: 'product', 'name': ['OPPO F21 Pro 128 GB Storage Cosmic Black (8 GB RAM)'], 'price': ['20999'], 'rating': ['4.2'], 'id': ['15'], 'category': ['Smartphone']}\n",
      "{<T.id: 1>: 20544, <T.label: 4>: 'product', 'name': ['Dell Intel Core i5 8 GB RAM/ 512 GB SSD/ Windows 11 Home/ 15.6 inch Laptop (Platinum Silver D560784WIN9S)'], 'price': ['55700'], 'rating': ['3.4'], 'id': ['22'], 'category': ['Laptop']}\n",
      "{<T.id: 1>: 24640, <T.label: 4>: 'product', 'name': ['Acer Aspire Vero Green Intel Core i5 11th Gen8 GB RAM/ 512 GB SSD/ Windows 11 Home/ 15.6 inch Laptop (Volcano Grey NXAYCSI001)'], 'price': ['49999'], 'rating': ['4.5'], 'id': ['25'], 'category': ['Laptop']}\n",
      "{<T.id: 1>: 4192, <T.label: 4>: 'product', 'name': ['Apka Interior Metallic Sofa cum Bed with Cushions (Finish Color - RED Rectangular Slide Shape)'], 'price': ['21920'], 'rating': ['3.3'], 'id': ['1'], 'category': ['Beds']}\n",
      "{<T.id: 1>: 8288, <T.label: 4>: 'product', 'name': ['Springtek Folding Sofa Cum Bed - Perfect for Guests - Jute Fabric - 6 X 6 Feet Double Sofa Bed - Grey'], 'price': ['8999'], 'rating': ['2.9'], 'id': ['2'], 'category': ['Beds']}\n",
      "{<T.id: 1>: 12384, <T.label: 4>: 'product', 'name': ['Aaram by Zebrs Wooden King Size Bed Without Storage for Bedroom Living Room'], 'price': ['31588'], 'rating': ['4.9'], 'id': ['3'], 'category': ['Beds']}\n",
      "{<T.id: 1>: 16480, <T.label: 4>: 'product', 'name': ['LG 190 L 3 Star Direct Cool Single Door Refrigerator Purple (GL-D201ABED)'], 'price': ['20699'], 'rating': ['5'], 'id': ['9'], 'category': ['Fridge']}\n",
      "{<T.id: 1>: 20576, <T.label: 4>: 'product', 'name': ['Samsung Galaxy A03 32 GB Storage Black (3 GB RAM)'], 'price': ['10299'], 'rating': ['2.9'], 'id': ['19'], 'category': ['Smartphone']}\n",
      "{<T.id: 1>: 24672, <T.label: 4>: 'product', 'name': ['vivo V27 Pro 5G 128 GB Storage Noble Black (8 GB RAM)'], 'price': ['37999'], 'rating': ['4.5'], 'id': ['20'], 'category': ['Smartphone']}\n",
      "{<T.id: 1>: 28768, <T.label: 4>: 'product', 'name': ['Realme 10 Pro+ 5G 128 GB Storage Hyperspace (8 GB RAM)'], 'price': ['25999'], 'rating': ['4.5'], 'id': ['21'], 'category': ['Smartphone']}\n",
      "{<T.id: 1>: 32864, <T.label: 4>: 'product', 'name': ['Dell G3-3500 Intel Core i5 10th Gen 8 GB RAM/512GB SSD/Windows 10/15.6 inch Laptop (Black D560254WIN9BL)'], 'price': ['83302'], 'rating': ['3'], 'id': ['24'], 'category': ['Laptop']}\n",
      "{<T.id: 1>: 36960, <T.label: 4>: 'product', 'name': ['Acer AMD Ryzen 5 8 GB RAM/1 TB HDD/Windows 10 Home/15.6 inch Laptop (Obsidian Black NHQ5XSI002)'], 'price': ['61999'], 'rating': ['3'], 'id': ['27'], 'category': ['Laptop']}\n",
      "{<T.id: 1>: 41056, <T.label: 4>: 'product', 'name': ['Lenovo IdeaPad 3 Chromebook 11IGL05 Intel Celeron Dual Core 4 GB RAM/ 128 GB eMMC HDD / Chrome OS/ 11.6 inch Laptop (Arctic Grey 82N30012HA )'], 'price': ['28999'], 'rating': ['4.1'], 'id': ['28'], 'category': ['Laptop']}\n",
      "{<T.id: 1>: 4200, <T.label: 4>: 'product', 'name': ['NAME'], 'price': ['PRICE'], 'rating': ['AVGRATING'], 'id': ['ID'], 'category': ['CATEGORY']}\n",
      "{<T.id: 1>: 8296, <T.label: 4>: 'product', 'name': ['Samsung 198 L 5 Star Direct Cool Single Door Refrigerator Paradise Bloom Purple (RR21T2H2W9R)'], 'price': ['21600'], 'rating': ['3.7'], 'id': ['10'], 'category': ['Fridge']}\n",
      "{<T.id: 1>: 12392, <T.label: 4>: 'product', 'name': ['Whirlpool 240 L Frost Free Triple Door Refrigerator Alpha Steel (FP 263D PROTTON ROY)'], 'price': ['26690'], 'rating': ['3.9'], 'id': ['11'], 'category': ['Fridge']}\n",
      "{<T.id: 1>: 16488, <T.label: 4>: 'product', 'name': ['OnePlus 11 5G 256 GB Storage Titan Black (16 GB RAM)'], 'price': ['61999'], 'rating': ['4.6'], 'id': ['17'], 'category': ['Smartphone']}\n",
      "{<T.id: 1>: 20584, <T.label: 4>: 'product', 'name': ['Dell Inspiron 3511 Intel Core i3 11th Gen8 GB RAM/ 1 TB HDD/15.6 inch Laptop (Silver D560651WIN9S)'], 'price': ['43470'], 'rating': ['5'], 'id': ['23'], 'category': ['Laptop']}\n",
      "{<T.id: 1>: 4208, <T.label: 4>: 'person', 'comName': ['value']}\n",
      "{<T.id: 1>: 8304, <T.label: 4>: 'product', 'name': ['Nilkamal Arthur Double Bed Without Storage (Walnut)'], 'price': ['13999'], 'rating': ['4.2'], 'id': ['0'], 'category': ['Beds']}\n",
      "{<T.id: 1>: 12400, <T.label: 4>: 'product', 'name': ['Hometown Optimas King Bed With Box Storage (Dark Choco)'], 'price': ['20368'], 'rating': ['3.5'], 'id': ['4'], 'category': ['Beds']}\n",
      "{<T.id: 1>: 16496, <T.label: 4>: 'product', 'name': ['Samsung 253 L 3 Star Frost Free Double Door Refrigerator Refined Inox (RT28A3723S9/HL)'], 'price': ['31400'], 'rating': ['4.1'], 'id': ['13'], 'category': ['Fridge']}\n",
      "{<T.id: 1>: 4264, <T.label: 4>: 'product', 'name': ['Acer Swift 3 Intel Core i5 11th Gen 8 GB RAM/ 512 GB SSD/HDD/ Windows 11 Home/ 14 inch Laptop (Pure Silver NX.ABNSI.00A)'], 'price': ['60999'], 'rating': ['4.2'], 'id': ['26'], 'category': ['Laptop']}\n",
      "{<T.id: 1>: 8360, <T.label: 4>: 'product', 'name': ['Lenovo Intel Core i3 10th Gen 8 GB RAM/ 1 TB HDD / Windows 11 Home/ 15.6 inch Laptop (Platinum Grey 81WB01E8IN)'], 'price': ['38990'], 'rating': ['3.2'], 'id': ['29'], 'category': ['Laptop']}\n",
      "{<T.id: 1>: 4280, <T.label: 4>: 'person', 'name': ['John'], 'age': [30]}\n",
      "{<T.id: 1>: 8376, <T.label: 4>: 'person', 'name': ['Alice'], 'age': [25]}\n",
      "{<T.id: 1>: 12472, <T.label: 4>: 'person', 'name': ['John'], 'age': [30], 'city': ['New York']}\n",
      "{<T.id: 1>: 16568, <T.label: 4>: 'person', 'name': ['John'], 'age': [30], 'city': ['New York']}\n",
      "{<T.id: 1>: 20664, <T.label: 4>: 'product', 'name': ['@home by Nilkamal Nimbo Queen Bed Without Storage (Black)'], 'price': ['9975'], 'rating': ['3.6'], 'id': ['5'], 'category': ['Beds']}\n",
      "{<T.id: 1>: 24760, <T.label: 4>: 'product', 'name': ['@home by Nilkamal Theia High Gloss King Bed with Storage (White)'], 'price': ['69900'], 'rating': ['3.9'], 'id': ['6'], 'category': ['Beds']}\n",
      "{<T.id: 1>: 28856, <T.label: 4>: 'product', 'name': ['Whirlpool 265 L 2 Star Frost Free Double Door Refrigerator Grey (NEO DF278 PRM )'], 'price': ['26500'], 'rating': ['4.2'], 'id': ['7'], 'category': ['Fridge']}\n",
      "{<T.id: 1>: 32952, <T.label: 4>: 'product', 'name': ['LG 260 L 2 Star Frost Free Double Door Refrigerator Dazzle Steel (GL-N292BDSY)'], 'price': ['25500'], 'rating': ['2.3'], 'id': ['14'], 'category': ['Fridge']}\n",
      "{<T.id: 1>: 37048, <T.label: 4>: 'product', 'name': ['OnePlus Nord CE 2 Lite 5G 128 GB Storage Blue Tide (6 GB RAM)'], 'price': ['17999'], 'rating': ['3.3'], 'id': ['16'], 'category': ['Smartphone']}\n",
      "{<T.id: 1>: 41144, <T.label: 4>: 'product', 'name': ['Redmi 11 Prime 64 GB Storage Peppy Purple (4 GB RAM)'], 'price': ['12999'], 'rating': ['3.7'], 'id': ['18'], 'category': ['Smartphone']}\n"
     ]
    }
   ],
   "source": [
    "all_vertices = g.V().valueMap(True).toList()\n",
    "\n",
    "# Print the nodes and their properties\n",
    "for vertex_properties in all_vertices:\n",
    "    print(vertex_properties)"
   ]
  },
  {
   "cell_type": "code",
   "execution_count": null,
   "id": "f8c3347d-33c2-4db2-916d-031a43efa31b",
   "metadata": {},
   "outputs": [],
   "source": []
  }
 ],
 "metadata": {
  "kernelspec": {
   "display_name": "Python 3 (ipykernel)",
   "language": "python",
   "name": "python3"
  },
  "language_info": {
   "codemirror_mode": {
    "name": "ipython",
    "version": 3
   },
   "file_extension": ".py",
   "mimetype": "text/x-python",
   "name": "python",
   "nbconvert_exporter": "python",
   "pygments_lexer": "ipython3",
   "version": "3.8.0"
  }
 },
 "nbformat": 4,
 "nbformat_minor": 5
}

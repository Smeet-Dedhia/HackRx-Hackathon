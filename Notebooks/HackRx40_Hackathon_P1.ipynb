{
  "cells": [
    {
      "cell_type": "markdown",
      "source": [
        "#Recommendation of Product on the basis of Feature Extracted from the product details and the co-purchases made"
      ],
      "metadata": {
        "id": "-Cu06W1doRhF"
      }
    },
    {
      "cell_type": "markdown",
      "source": [
        "##1. Data Extraction from unstructured text dataset into structured dataframe"
      ],
      "metadata": {
        "id": "EkpKrO8pX7-F"
      }
    },
    {
      "cell_type": "code",
      "source": [
        "\"\"\"from google.colab import drive\n",
        "drive.mount('/content/drive')\"\"\""
      ],
      "metadata": {
        "colab": {
          "base_uri": "https://localhost:8080/"
        },
        "id": "MEYkZFMvYVEs",
        "outputId": "bb91d75f-d4bd-4f17-aecf-045b59c757d6"
      },
      "execution_count": null,
      "outputs": [
        {
          "output_type": "execute_result",
          "data": {
            "text/plain": [
              "\"from google.colab import drive\\ndrive.mount('/content/drive')\""
            ],
            "application/vnd.google.colaboratory.intrinsic+json": {
              "type": "string"
            }
          },
          "metadata": {},
          "execution_count": 1
        }
      ]
    },
    {
      "cell_type": "code",
      "execution_count": null,
      "metadata": {
        "id": "tAK3E0dkYTMM"
      },
      "outputs": [],
      "source": [
        "import pandas as pd\n",
        "import re\n",
        "from pprint import pprint\n",
        "import networkx as nx\n",
        "import pandas as pd\n",
        "import numpy as np\n",
        "from matplotlib import pyplot as plt\n",
        "from sklearn.preprocessing import OneHotEncoder\n",
        "from sklearn.metrics.pairwise import cosine_similarity"
      ]
    },
    {
      "cell_type": "code",
      "source": [
        "!pip install gdown"
      ],
      "metadata": {
        "colab": {
          "base_uri": "https://localhost:8080/"
        },
        "id": "-fThI6FWg1rO",
        "outputId": "347e12ee-f01f-4236-83d0-e5805dd6765d"
      },
      "execution_count": null,
      "outputs": [
        {
          "output_type": "stream",
          "name": "stdout",
          "text": [
            "Looking in indexes: https://pypi.org/simple, https://us-python.pkg.dev/colab-wheels/public/simple/\n",
            "Requirement already satisfied: gdown in /usr/local/lib/python3.7/dist-packages (4.4.0)\n",
            "Requirement already satisfied: requests[socks] in /usr/local/lib/python3.7/dist-packages (from gdown) (2.23.0)\n",
            "Requirement already satisfied: tqdm in /usr/local/lib/python3.7/dist-packages (from gdown) (4.64.0)\n",
            "Requirement already satisfied: six in /usr/local/lib/python3.7/dist-packages (from gdown) (1.15.0)\n",
            "Requirement already satisfied: beautifulsoup4 in /usr/local/lib/python3.7/dist-packages (from gdown) (4.6.3)\n",
            "Requirement already satisfied: filelock in /usr/local/lib/python3.7/dist-packages (from gdown) (3.7.1)\n",
            "Requirement already satisfied: chardet<4,>=3.0.2 in /usr/local/lib/python3.7/dist-packages (from requests[socks]->gdown) (3.0.4)\n",
            "Requirement already satisfied: idna<3,>=2.5 in /usr/local/lib/python3.7/dist-packages (from requests[socks]->gdown) (2.10)\n",
            "Requirement already satisfied: urllib3!=1.25.0,!=1.25.1,<1.26,>=1.21.1 in /usr/local/lib/python3.7/dist-packages (from requests[socks]->gdown) (1.24.3)\n",
            "Requirement already satisfied: certifi>=2017.4.17 in /usr/local/lib/python3.7/dist-packages (from requests[socks]->gdown) (2022.6.15)\n",
            "Requirement already satisfied: PySocks!=1.5.7,>=1.5.6 in /usr/local/lib/python3.7/dist-packages (from requests[socks]->gdown) (1.7.1)\n"
          ]
        }
      ]
    },
    {
      "cell_type": "code",
      "source": [
        "!gdown --id 1-MyYRp_5NnmU1JWvl1jV6Dhe3o2HAjdc"
      ],
      "metadata": {
        "colab": {
          "base_uri": "https://localhost:8080/"
        },
        "id": "52s814Eyh_ZJ",
        "outputId": "f4f5f8cc-08cc-4e13-b0b5-f96873555386"
      },
      "execution_count": null,
      "outputs": [
        {
          "output_type": "stream",
          "name": "stdout",
          "text": [
            "/usr/local/lib/python3.7/dist-packages/gdown/cli.py:131: FutureWarning: Option `--id` was deprecated in version 4.3.1 and will be removed in 5.0. You don't need to pass it anymore to use a file ID.\n",
            "  category=FutureWarning,\n",
            "Downloading...\n",
            "From: https://drive.google.com/uc?id=1-MyYRp_5NnmU1JWvl1jV6Dhe3o2HAjdc\n",
            "To: /content/amazon-meta.txt\n",
            "100% 978M/978M [00:07<00:00, 123MB/s]\n"
          ]
        }
      ]
    },
    {
      "cell_type": "code",
      "source": [
        "!gdown --id 1XwBFgm_vdUTCe6LUkqSSNJanVOpx7OGP"
      ],
      "metadata": {
        "colab": {
          "base_uri": "https://localhost:8080/"
        },
        "id": "CUhpzI4VjGQt",
        "outputId": "52337553-7861-47ef-a93e-b43d6cf48a58"
      },
      "execution_count": null,
      "outputs": [
        {
          "output_type": "stream",
          "name": "stdout",
          "text": [
            "/usr/local/lib/python3.7/dist-packages/gdown/cli.py:131: FutureWarning: Option `--id` was deprecated in version 4.3.1 and will be removed in 5.0. You don't need to pass it anymore to use a file ID.\n",
            "  category=FutureWarning,\n",
            "Downloading...\n",
            "From: https://drive.google.com/uc?id=1XwBFgm_vdUTCe6LUkqSSNJanVOpx7OGP\n",
            "To: /content/amazon0601.txt\n",
            "100% 47.9M/47.9M [00:00<00:00, 61.5MB/s]\n"
          ]
        }
      ]
    },
    {
      "cell_type": "markdown",
      "source": [
        "### 1.1 Creating dataframe from meta dataset of products by iterating through text-file"
      ],
      "metadata": {
        "id": "HfhvebILG2dU"
      }
    },
    {
      "cell_type": "code",
      "execution_count": null,
      "metadata": {
        "id": "_ZjJyX1BYTMO"
      },
      "outputs": [],
      "source": [
        "filepath = '/content/amazon-meta.txt'\n",
        "text = open(filepath, 'r', encoding = 'utf-8')"
      ]
    },
    {
      "cell_type": "code",
      "execution_count": null,
      "metadata": {
        "id": "ooCB46DOYTMO"
      },
      "outputs": [],
      "source": [
        "Ids = []\n",
        "ASINs = []\n",
        "titles =[]\n",
        "salesranks = []\n",
        "similars = []\n",
        "num_categories = []\n",
        "groups = []\n",
        "categories = []\n",
        "reviews = []\n",
        "reviewinfo = []\n",
        "lc = 0\n",
        "for line in text:\n",
        "    lastcat = False\n",
        "    lastrev = False\n",
        "    categoies =[]\n",
        "    lineelements = line.split(':')\n",
        "    lineelements = [x.strip() for x in lineelements]\n",
        "    if 'Id' == lineelements[0]:\n",
        "        Ids.append(lineelements[1])\n",
        "    elif 'ASIN' == lineelements[0]:\n",
        "        ASINs.append(lineelements[1])\n",
        "    elif 'discontinued product' in lineelements:\n",
        "        Ids.pop(-1)\n",
        "        ASINs.pop(-1)\n",
        "    elif 'title' == lineelements[0]:\n",
        "        titles.append(''.join(lineelements[1]))\n",
        "    elif 'group' == lineelements[0]:\n",
        "        groups.append(lineelements[1])\n",
        "    elif 'salesrank' == lineelements[0]:\n",
        "        salesranks.append(lineelements[1])\n",
        "    elif 'similar' == lineelements[0]:\n",
        "        lineelements.pop(0)\n",
        "        element = ' '.join(lineelements)\n",
        "        similars.append(element)\n",
        "\n",
        "    elif 'categories' == lineelements[0]:\n",
        "        num_categories.append(lineelements[1])\n",
        "        lastcat = True\n",
        "        cats = []\n",
        "        cnt = 0\n",
        "        for i in range(int(lineelements[1])):\n",
        "            l = text.readline()\n",
        "            cats.append('|'.join(l.split('|')[2:]).strip())\n",
        "        categories.append(cats)\n",
        "    elif 'reviews' == lineelements[0]:\n",
        "        review = ':'.join(lineelements[1:]).strip()\n",
        "        reviews.append(review)\n",
        "        sub = review.split()\n",
        "        subsub = [x.split(':') for x in sub]\n",
        "        r = []\n",
        "        for i in range(int(subsub[1][1])):\n",
        "            l = text.readline()\n",
        "            r.append(l)\n",
        "        reviewinfo.append(r)"
      ]
    },
    {
      "cell_type": "code",
      "execution_count": null,
      "metadata": {
        "id": "t7bXeXWZYTMQ"
      },
      "outputs": [],
      "source": [
        "data = {'ID':Ids,\n",
        "        'ASIN':ASINs,\n",
        "        'title':titles,\n",
        "        'group':groups,\n",
        "        'salesrank':salesranks,\n",
        "        'similar':similars,\n",
        "        'num_categories':num_categories,\n",
        "        'categories':categories,\n",
        "        'review':reviews,\n",
        "        'reviewinfo':reviewinfo}"
      ]
    },
    {
      "cell_type": "code",
      "execution_count": null,
      "metadata": {
        "scrolled": true,
        "id": "M-rW8AuIYTMQ"
      },
      "outputs": [],
      "source": [
        "df = pd.DataFrame(data)"
      ]
    },
    {
      "cell_type": "code",
      "execution_count": null,
      "metadata": {
        "colab": {
          "base_uri": "https://localhost:8080/",
          "height": 337
        },
        "id": "PfZuuQCRYTMR",
        "outputId": "dab795c9-c224-46c4-c71b-57949345f4c4"
      },
      "outputs": [
        {
          "output_type": "execute_result",
          "data": {
            "text/plain": [
              "  ID        ASIN                                             title group  \\\n",
              "0  1  0827229534                             Patterns of Preaching  Book   \n",
              "1  2  0738700797                                         Candlemas  Book   \n",
              "2  3  0486287785  World War II Allied Fighter Planes Trading Cards  Book   \n",
              "3  4  0842328327                 Life Application Bible Commentary  Book   \n",
              "4  5  1577943082              Prayers That Avail Much for Business  Book   \n",
              "\n",
              "  salesrank                                            similar num_categories  \\\n",
              "0    396585  5  0804215715  156101074X  0687023955  0687074...              2   \n",
              "1    168596  5  0738700827  1567184960  1567182836  0738700...              2   \n",
              "2   1270652                                                  0              1   \n",
              "3    631289  5  0842328130  0830818138  0842330313  0842328...              5   \n",
              "4    455160  5  157794349X  0892749504  1577941829  0892749...              2   \n",
              "\n",
              "                                          categories  \\\n",
              "0  [Subjects[1000]|Religion & Spirituality[22]|Ch...   \n",
              "1  [Subjects[1000]|Religion & Spirituality[22]|Ea...   \n",
              "2  [Subjects[1000]|Home & Garden[48]|Crafts & Hob...   \n",
              "3  [Subjects[1000]|Religion & Spirituality[22]|Ch...   \n",
              "4  [Subjects[1000]|Religion & Spirituality[22]|Ch...   \n",
              "\n",
              "                                    review  \\\n",
              "0      total:2  downloaded:2  avg rating:5   \n",
              "1  total:12  downloaded:12  avg rating:4.5   \n",
              "2      total:1  downloaded:1  avg rating:5   \n",
              "3      total:1  downloaded:1  avg rating:4   \n",
              "4      total:0  downloaded:0  avg rating:0   \n",
              "\n",
              "                                          reviewinfo  \n",
              "0  [    2000-7-28  cutomer: A2JW67OY8U6HHK  ratin...  \n",
              "1  [    2001-12-16  cutomer: A11NCO6YTE4BTJ  rati...  \n",
              "2  [    2003-7-10  cutomer: A3IDGASRQAW8B2  ratin...  \n",
              "3  [    2004-8-19  cutomer: A2591BUPXCS705  ratin...  \n",
              "4                                                 []  "
            ],
            "text/html": [
              "\n",
              "  <div id=\"df-6fc3edf1-d5b5-4c64-a517-b04ce325446b\">\n",
              "    <div class=\"colab-df-container\">\n",
              "      <div>\n",
              "<style scoped>\n",
              "    .dataframe tbody tr th:only-of-type {\n",
              "        vertical-align: middle;\n",
              "    }\n",
              "\n",
              "    .dataframe tbody tr th {\n",
              "        vertical-align: top;\n",
              "    }\n",
              "\n",
              "    .dataframe thead th {\n",
              "        text-align: right;\n",
              "    }\n",
              "</style>\n",
              "<table border=\"1\" class=\"dataframe\">\n",
              "  <thead>\n",
              "    <tr style=\"text-align: right;\">\n",
              "      <th></th>\n",
              "      <th>ID</th>\n",
              "      <th>ASIN</th>\n",
              "      <th>title</th>\n",
              "      <th>group</th>\n",
              "      <th>salesrank</th>\n",
              "      <th>similar</th>\n",
              "      <th>num_categories</th>\n",
              "      <th>categories</th>\n",
              "      <th>review</th>\n",
              "      <th>reviewinfo</th>\n",
              "    </tr>\n",
              "  </thead>\n",
              "  <tbody>\n",
              "    <tr>\n",
              "      <th>0</th>\n",
              "      <td>1</td>\n",
              "      <td>0827229534</td>\n",
              "      <td>Patterns of Preaching</td>\n",
              "      <td>Book</td>\n",
              "      <td>396585</td>\n",
              "      <td>5  0804215715  156101074X  0687023955  0687074...</td>\n",
              "      <td>2</td>\n",
              "      <td>[Subjects[1000]|Religion &amp; Spirituality[22]|Ch...</td>\n",
              "      <td>total:2  downloaded:2  avg rating:5</td>\n",
              "      <td>[    2000-7-28  cutomer: A2JW67OY8U6HHK  ratin...</td>\n",
              "    </tr>\n",
              "    <tr>\n",
              "      <th>1</th>\n",
              "      <td>2</td>\n",
              "      <td>0738700797</td>\n",
              "      <td>Candlemas</td>\n",
              "      <td>Book</td>\n",
              "      <td>168596</td>\n",
              "      <td>5  0738700827  1567184960  1567182836  0738700...</td>\n",
              "      <td>2</td>\n",
              "      <td>[Subjects[1000]|Religion &amp; Spirituality[22]|Ea...</td>\n",
              "      <td>total:12  downloaded:12  avg rating:4.5</td>\n",
              "      <td>[    2001-12-16  cutomer: A11NCO6YTE4BTJ  rati...</td>\n",
              "    </tr>\n",
              "    <tr>\n",
              "      <th>2</th>\n",
              "      <td>3</td>\n",
              "      <td>0486287785</td>\n",
              "      <td>World War II Allied Fighter Planes Trading Cards</td>\n",
              "      <td>Book</td>\n",
              "      <td>1270652</td>\n",
              "      <td>0</td>\n",
              "      <td>1</td>\n",
              "      <td>[Subjects[1000]|Home &amp; Garden[48]|Crafts &amp; Hob...</td>\n",
              "      <td>total:1  downloaded:1  avg rating:5</td>\n",
              "      <td>[    2003-7-10  cutomer: A3IDGASRQAW8B2  ratin...</td>\n",
              "    </tr>\n",
              "    <tr>\n",
              "      <th>3</th>\n",
              "      <td>4</td>\n",
              "      <td>0842328327</td>\n",
              "      <td>Life Application Bible Commentary</td>\n",
              "      <td>Book</td>\n",
              "      <td>631289</td>\n",
              "      <td>5  0842328130  0830818138  0842330313  0842328...</td>\n",
              "      <td>5</td>\n",
              "      <td>[Subjects[1000]|Religion &amp; Spirituality[22]|Ch...</td>\n",
              "      <td>total:1  downloaded:1  avg rating:4</td>\n",
              "      <td>[    2004-8-19  cutomer: A2591BUPXCS705  ratin...</td>\n",
              "    </tr>\n",
              "    <tr>\n",
              "      <th>4</th>\n",
              "      <td>5</td>\n",
              "      <td>1577943082</td>\n",
              "      <td>Prayers That Avail Much for Business</td>\n",
              "      <td>Book</td>\n",
              "      <td>455160</td>\n",
              "      <td>5  157794349X  0892749504  1577941829  0892749...</td>\n",
              "      <td>2</td>\n",
              "      <td>[Subjects[1000]|Religion &amp; Spirituality[22]|Ch...</td>\n",
              "      <td>total:0  downloaded:0  avg rating:0</td>\n",
              "      <td>[]</td>\n",
              "    </tr>\n",
              "  </tbody>\n",
              "</table>\n",
              "</div>\n",
              "      <button class=\"colab-df-convert\" onclick=\"convertToInteractive('df-6fc3edf1-d5b5-4c64-a517-b04ce325446b')\"\n",
              "              title=\"Convert this dataframe to an interactive table.\"\n",
              "              style=\"display:none;\">\n",
              "        \n",
              "  <svg xmlns=\"http://www.w3.org/2000/svg\" height=\"24px\"viewBox=\"0 0 24 24\"\n",
              "       width=\"24px\">\n",
              "    <path d=\"M0 0h24v24H0V0z\" fill=\"none\"/>\n",
              "    <path d=\"M18.56 5.44l.94 2.06.94-2.06 2.06-.94-2.06-.94-.94-2.06-.94 2.06-2.06.94zm-11 1L8.5 8.5l.94-2.06 2.06-.94-2.06-.94L8.5 2.5l-.94 2.06-2.06.94zm10 10l.94 2.06.94-2.06 2.06-.94-2.06-.94-.94-2.06-.94 2.06-2.06.94z\"/><path d=\"M17.41 7.96l-1.37-1.37c-.4-.4-.92-.59-1.43-.59-.52 0-1.04.2-1.43.59L10.3 9.45l-7.72 7.72c-.78.78-.78 2.05 0 2.83L4 21.41c.39.39.9.59 1.41.59.51 0 1.02-.2 1.41-.59l7.78-7.78 2.81-2.81c.8-.78.8-2.07 0-2.86zM5.41 20L4 18.59l7.72-7.72 1.47 1.35L5.41 20z\"/>\n",
              "  </svg>\n",
              "      </button>\n",
              "      \n",
              "  <style>\n",
              "    .colab-df-container {\n",
              "      display:flex;\n",
              "      flex-wrap:wrap;\n",
              "      gap: 12px;\n",
              "    }\n",
              "\n",
              "    .colab-df-convert {\n",
              "      background-color: #E8F0FE;\n",
              "      border: none;\n",
              "      border-radius: 50%;\n",
              "      cursor: pointer;\n",
              "      display: none;\n",
              "      fill: #1967D2;\n",
              "      height: 32px;\n",
              "      padding: 0 0 0 0;\n",
              "      width: 32px;\n",
              "    }\n",
              "\n",
              "    .colab-df-convert:hover {\n",
              "      background-color: #E2EBFA;\n",
              "      box-shadow: 0px 1px 2px rgba(60, 64, 67, 0.3), 0px 1px 3px 1px rgba(60, 64, 67, 0.15);\n",
              "      fill: #174EA6;\n",
              "    }\n",
              "\n",
              "    [theme=dark] .colab-df-convert {\n",
              "      background-color: #3B4455;\n",
              "      fill: #D2E3FC;\n",
              "    }\n",
              "\n",
              "    [theme=dark] .colab-df-convert:hover {\n",
              "      background-color: #434B5C;\n",
              "      box-shadow: 0px 1px 3px 1px rgba(0, 0, 0, 0.15);\n",
              "      filter: drop-shadow(0px 1px 2px rgba(0, 0, 0, 0.3));\n",
              "      fill: #FFFFFF;\n",
              "    }\n",
              "  </style>\n",
              "\n",
              "      <script>\n",
              "        const buttonEl =\n",
              "          document.querySelector('#df-6fc3edf1-d5b5-4c64-a517-b04ce325446b button.colab-df-convert');\n",
              "        buttonEl.style.display =\n",
              "          google.colab.kernel.accessAllowed ? 'block' : 'none';\n",
              "\n",
              "        async function convertToInteractive(key) {\n",
              "          const element = document.querySelector('#df-6fc3edf1-d5b5-4c64-a517-b04ce325446b');\n",
              "          const dataTable =\n",
              "            await google.colab.kernel.invokeFunction('convertToInteractive',\n",
              "                                                     [key], {});\n",
              "          if (!dataTable) return;\n",
              "\n",
              "          const docLinkHtml = 'Like what you see? Visit the ' +\n",
              "            '<a target=\"_blank\" href=https://colab.research.google.com/notebooks/data_table.ipynb>data table notebook</a>'\n",
              "            + ' to learn more about interactive tables.';\n",
              "          element.innerHTML = '';\n",
              "          dataTable['output_type'] = 'display_data';\n",
              "          await google.colab.output.renderOutput(dataTable, element);\n",
              "          const docLink = document.createElement('div');\n",
              "          docLink.innerHTML = docLinkHtml;\n",
              "          element.appendChild(docLink);\n",
              "        }\n",
              "      </script>\n",
              "    </div>\n",
              "  </div>\n",
              "  "
            ]
          },
          "metadata": {},
          "execution_count": 10
        }
      ],
      "source": [
        "df.head()"
      ]
    },
    {
      "cell_type": "markdown",
      "source": [
        "####Saving features extracted from the dataset for future use-cases"
      ],
      "metadata": {
        "id": "k0Se2Ue7ZcH0"
      }
    },
    {
      "cell_type": "code",
      "source": [
        "df.info()"
      ],
      "metadata": {
        "colab": {
          "base_uri": "https://localhost:8080/"
        },
        "id": "rf6Al-6kBFQi",
        "outputId": "72b8ec6d-2732-4e4d-b019-43b8ed8474ce"
      },
      "execution_count": null,
      "outputs": [
        {
          "output_type": "stream",
          "name": "stdout",
          "text": [
            "<class 'pandas.core.frame.DataFrame'>\n",
            "RangeIndex: 542684 entries, 0 to 542683\n",
            "Data columns (total 10 columns):\n",
            " #   Column          Non-Null Count   Dtype \n",
            "---  ------          --------------   ----- \n",
            " 0   ID              542684 non-null  object\n",
            " 1   ASIN            542684 non-null  object\n",
            " 2   title           542684 non-null  object\n",
            " 3   group           542684 non-null  object\n",
            " 4   salesrank       542684 non-null  object\n",
            " 5   similar         542684 non-null  object\n",
            " 6   num_categories  542684 non-null  object\n",
            " 7   categories      542684 non-null  object\n",
            " 8   review          542684 non-null  object\n",
            " 9   reviewinfo      542684 non-null  object\n",
            "dtypes: object(10)\n",
            "memory usage: 41.4+ MB\n"
          ]
        }
      ]
    },
    {
      "cell_type": "code",
      "source": [
        "df.to_csv('/content/extracteddata.csv')"
      ],
      "metadata": {
        "id": "3lvmJV1gHKMx"
      },
      "execution_count": null,
      "outputs": []
    },
    {
      "cell_type": "markdown",
      "source": [
        "### 1.2. Feature Extraction and Dataset Creation"
      ],
      "metadata": {
        "id": "242fRNuoHnbJ"
      }
    },
    {
      "cell_type": "code",
      "source": [
        "%%bash\n",
        "!pip install fsspec\n",
        "pip install dask[dataframe]"
      ],
      "metadata": {
        "colab": {
          "base_uri": "https://localhost:8080/"
        },
        "id": "_G9IUP2R-k6l",
        "outputId": "8c1eee91-126f-4104-f60d-651e8f7ed8d0"
      },
      "execution_count": null,
      "outputs": [
        {
          "output_type": "stream",
          "name": "stdout",
          "text": [
            "Looking in indexes: https://pypi.org/simple, https://us-python.pkg.dev/colab-wheels/public/simple/\n",
            "Requirement already satisfied: dask[dataframe] in /usr/local/lib/python3.7/dist-packages (2.12.0)\n",
            "Requirement already satisfied: toolz>=0.7.3 in /usr/local/lib/python3.7/dist-packages (from dask[dataframe]) (0.11.2)\n",
            "Requirement already satisfied: pandas>=0.23.0 in /usr/local/lib/python3.7/dist-packages (from dask[dataframe]) (1.3.5)\n",
            "Collecting fsspec>=0.6.0\n",
            "  Downloading fsspec-2022.5.0-py3-none-any.whl (140 kB)\n",
            "Requirement already satisfied: numpy>=1.13.0 in /usr/local/lib/python3.7/dist-packages (from dask[dataframe]) (1.21.6)\n",
            "Collecting partd>=0.3.10\n",
            "  Downloading partd-1.2.0-py3-none-any.whl (19 kB)\n",
            "Requirement already satisfied: pytz>=2017.3 in /usr/local/lib/python3.7/dist-packages (from pandas>=0.23.0->dask[dataframe]) (2022.1)\n",
            "Requirement already satisfied: python-dateutil>=2.7.3 in /usr/local/lib/python3.7/dist-packages (from pandas>=0.23.0->dask[dataframe]) (2.8.2)\n",
            "Collecting locket\n",
            "  Downloading locket-1.0.0-py2.py3-none-any.whl (4.4 kB)\n",
            "Requirement already satisfied: six>=1.5 in /usr/local/lib/python3.7/dist-packages (from python-dateutil>=2.7.3->pandas>=0.23.0->dask[dataframe]) (1.15.0)\n",
            "Installing collected packages: locket, partd, fsspec\n",
            "Successfully installed fsspec-2022.5.0 locket-1.0.0 partd-1.2.0\n"
          ]
        },
        {
          "output_type": "stream",
          "name": "stderr",
          "text": [
            "bash: line 1: !pip: command not found\n"
          ]
        }
      ]
    },
    {
      "cell_type": "code",
      "source": [
        "import dask.dataframe as dd"
      ],
      "metadata": {
        "id": "XaDfS7mx_p5N"
      },
      "execution_count": null,
      "outputs": []
    },
    {
      "cell_type": "markdown",
      "source": [
        "##### Helper Functions"
      ],
      "metadata": {
        "id": "dds-4cIeYbQp"
      }
    },
    {
      "cell_type": "code",
      "source": [
        "def extractrating(x):\n",
        "    reviewsplit = x['review'].split()\n",
        "    y = float(reviewsplit[3].split(':')[1])\n",
        "    return y"
      ],
      "metadata": {
        "id": "gX2Lmf_UwKMr"
      },
      "execution_count": null,
      "outputs": []
    },
    {
      "cell_type": "code",
      "source": [
        "def extractdownloads(x):\n",
        "    reviewsplit = x['review'].split()\n",
        "    num = int(reviewsplit[1].split(':')[1])\n",
        "    return num"
      ],
      "metadata": {
        "id": "N-MOvcS9DIBK"
      },
      "execution_count": null,
      "outputs": []
    },
    {
      "cell_type": "code",
      "source": [
        "def extracttotal(x):\n",
        "    reviewsplit = x['review'].split()\n",
        "    num = int(reviewsplit[0].split(':')[1])\n",
        "    return num"
      ],
      "metadata": {
        "id": "sC45iLlBdPaf"
      },
      "execution_count": null,
      "outputs": []
    },
    {
      "cell_type": "code",
      "source": [
        "df = dd.read_csv('/content/extracteddata.csv').set_index('Unnamed: 0')"
      ],
      "metadata": {
        "id": "BOLJw9eWHSVW"
      },
      "execution_count": null,
      "outputs": []
    },
    {
      "cell_type": "markdown",
      "source": [
        "#### Using Dask for handling large scale data pre-processing using capabilities of parallel processing"
      ],
      "metadata": {
        "id": "Mx9OYIG0Ygx8"
      }
    },
    {
      "cell_type": "code",
      "source": [
        "df1 = df.copy()\n",
        "df1['totalreviews'] = df1.apply(extracttotal, axis =1, meta = ('totalreviews', 'i8'))\n",
        "df1['downloadedreviews'] = df1.apply(extractdownloads, axis = 1, meta = ('downloadedreviews', 'i8'))\n",
        "df1['avg_rating'] = df1.apply(extractrating, axis = 1, meta = ('avg_rating', 'i8'))\n",
        "df1 = df1.drop('review', axis = 1)\n",
        "df1 = df1.reset_index().drop('Unnamed: 0', axis = 1)\n",
        "df1.ID = df1.ID.astype('int64')\n",
        "df1.salesrank = df1.salesrank.astype('int64')\n",
        "df1.num_categories = df1.num_categories.astype('int64')\n",
        "df1.head()"
      ],
      "metadata": {
        "id": "z3SJlyz6XXT-",
        "colab": {
          "base_uri": "https://localhost:8080/"
        },
        "outputId": "a6afd7d6-5f09-454f-c7a7-31b57a699f4d"
      },
      "execution_count": null,
      "outputs": [
        {
          "output_type": "execute_result",
          "data": {
            "text/plain": [
              "   ID        ASIN                                             title group  \\\n",
              "0   1  0827229534                             Patterns of Preaching  Book   \n",
              "1   2  0738700797                                         Candlemas  Book   \n",
              "2   3  0486287785  World War II Allied Fighter Planes Trading Cards  Book   \n",
              "3   4  0842328327                 Life Application Bible Commentary  Book   \n",
              "4   5  1577943082              Prayers That Avail Much for Business  Book   \n",
              "\n",
              "   salesrank                                            similar  \\\n",
              "0     396585  5  0804215715  156101074X  0687023955  0687074...   \n",
              "1     168596  5  0738700827  1567184960  1567182836  0738700...   \n",
              "2    1270652                                                  0   \n",
              "3     631289  5  0842328130  0830818138  0842330313  0842328...   \n",
              "4     455160  5  157794349X  0892749504  1577941829  0892749...   \n",
              "\n",
              "   num_categories                                         categories  \\\n",
              "0               2  ['Subjects[1000]|Religion & Spirituality[22]|C...   \n",
              "1               2  ['Subjects[1000]|Religion & Spirituality[22]|E...   \n",
              "2               1  ['Subjects[1000]|Home & Garden[48]|Crafts & Ho...   \n",
              "3               5  ['Subjects[1000]|Religion & Spirituality[22]|C...   \n",
              "4               2  ['Subjects[1000]|Religion & Spirituality[22]|C...   \n",
              "\n",
              "                                          reviewinfo  totalreviews  \\\n",
              "0  ['    2000-7-28  cutomer: A2JW67OY8U6HHK  rati...             2   \n",
              "1  ['    2001-12-16  cutomer: A11NCO6YTE4BTJ  rat...            12   \n",
              "2  ['    2003-7-10  cutomer: A3IDGASRQAW8B2  rati...             1   \n",
              "3  ['    2004-8-19  cutomer: A2591BUPXCS705  rati...             1   \n",
              "4                                                 []             0   \n",
              "\n",
              "   downloadedreviews  avg_rating  \n",
              "0                  2         5.0  \n",
              "1                 12         4.5  \n",
              "2                  1         5.0  \n",
              "3                  1         4.0  \n",
              "4                  0         0.0  "
            ],
            "text/html": [
              "\n",
              "  <div id=\"df-07a1a0be-b4d4-4306-80c3-b12f6a8a1b3c\">\n",
              "    <div class=\"colab-df-container\">\n",
              "      <div>\n",
              "<style scoped>\n",
              "    .dataframe tbody tr th:only-of-type {\n",
              "        vertical-align: middle;\n",
              "    }\n",
              "\n",
              "    .dataframe tbody tr th {\n",
              "        vertical-align: top;\n",
              "    }\n",
              "\n",
              "    .dataframe thead th {\n",
              "        text-align: right;\n",
              "    }\n",
              "</style>\n",
              "<table border=\"1\" class=\"dataframe\">\n",
              "  <thead>\n",
              "    <tr style=\"text-align: right;\">\n",
              "      <th></th>\n",
              "      <th>ID</th>\n",
              "      <th>ASIN</th>\n",
              "      <th>title</th>\n",
              "      <th>group</th>\n",
              "      <th>salesrank</th>\n",
              "      <th>similar</th>\n",
              "      <th>num_categories</th>\n",
              "      <th>categories</th>\n",
              "      <th>reviewinfo</th>\n",
              "      <th>totalreviews</th>\n",
              "      <th>downloadedreviews</th>\n",
              "      <th>avg_rating</th>\n",
              "    </tr>\n",
              "  </thead>\n",
              "  <tbody>\n",
              "    <tr>\n",
              "      <th>0</th>\n",
              "      <td>1</td>\n",
              "      <td>0827229534</td>\n",
              "      <td>Patterns of Preaching</td>\n",
              "      <td>Book</td>\n",
              "      <td>396585</td>\n",
              "      <td>5  0804215715  156101074X  0687023955  0687074...</td>\n",
              "      <td>2</td>\n",
              "      <td>['Subjects[1000]|Religion &amp; Spirituality[22]|C...</td>\n",
              "      <td>['    2000-7-28  cutomer: A2JW67OY8U6HHK  rati...</td>\n",
              "      <td>2</td>\n",
              "      <td>2</td>\n",
              "      <td>5.0</td>\n",
              "    </tr>\n",
              "    <tr>\n",
              "      <th>1</th>\n",
              "      <td>2</td>\n",
              "      <td>0738700797</td>\n",
              "      <td>Candlemas</td>\n",
              "      <td>Book</td>\n",
              "      <td>168596</td>\n",
              "      <td>5  0738700827  1567184960  1567182836  0738700...</td>\n",
              "      <td>2</td>\n",
              "      <td>['Subjects[1000]|Religion &amp; Spirituality[22]|E...</td>\n",
              "      <td>['    2001-12-16  cutomer: A11NCO6YTE4BTJ  rat...</td>\n",
              "      <td>12</td>\n",
              "      <td>12</td>\n",
              "      <td>4.5</td>\n",
              "    </tr>\n",
              "    <tr>\n",
              "      <th>2</th>\n",
              "      <td>3</td>\n",
              "      <td>0486287785</td>\n",
              "      <td>World War II Allied Fighter Planes Trading Cards</td>\n",
              "      <td>Book</td>\n",
              "      <td>1270652</td>\n",
              "      <td>0</td>\n",
              "      <td>1</td>\n",
              "      <td>['Subjects[1000]|Home &amp; Garden[48]|Crafts &amp; Ho...</td>\n",
              "      <td>['    2003-7-10  cutomer: A3IDGASRQAW8B2  rati...</td>\n",
              "      <td>1</td>\n",
              "      <td>1</td>\n",
              "      <td>5.0</td>\n",
              "    </tr>\n",
              "    <tr>\n",
              "      <th>3</th>\n",
              "      <td>4</td>\n",
              "      <td>0842328327</td>\n",
              "      <td>Life Application Bible Commentary</td>\n",
              "      <td>Book</td>\n",
              "      <td>631289</td>\n",
              "      <td>5  0842328130  0830818138  0842330313  0842328...</td>\n",
              "      <td>5</td>\n",
              "      <td>['Subjects[1000]|Religion &amp; Spirituality[22]|C...</td>\n",
              "      <td>['    2004-8-19  cutomer: A2591BUPXCS705  rati...</td>\n",
              "      <td>1</td>\n",
              "      <td>1</td>\n",
              "      <td>4.0</td>\n",
              "    </tr>\n",
              "    <tr>\n",
              "      <th>4</th>\n",
              "      <td>5</td>\n",
              "      <td>1577943082</td>\n",
              "      <td>Prayers That Avail Much for Business</td>\n",
              "      <td>Book</td>\n",
              "      <td>455160</td>\n",
              "      <td>5  157794349X  0892749504  1577941829  0892749...</td>\n",
              "      <td>2</td>\n",
              "      <td>['Subjects[1000]|Religion &amp; Spirituality[22]|C...</td>\n",
              "      <td>[]</td>\n",
              "      <td>0</td>\n",
              "      <td>0</td>\n",
              "      <td>0.0</td>\n",
              "    </tr>\n",
              "  </tbody>\n",
              "</table>\n",
              "</div>\n",
              "      <button class=\"colab-df-convert\" onclick=\"convertToInteractive('df-07a1a0be-b4d4-4306-80c3-b12f6a8a1b3c')\"\n",
              "              title=\"Convert this dataframe to an interactive table.\"\n",
              "              style=\"display:none;\">\n",
              "        \n",
              "  <svg xmlns=\"http://www.w3.org/2000/svg\" height=\"24px\"viewBox=\"0 0 24 24\"\n",
              "       width=\"24px\">\n",
              "    <path d=\"M0 0h24v24H0V0z\" fill=\"none\"/>\n",
              "    <path d=\"M18.56 5.44l.94 2.06.94-2.06 2.06-.94-2.06-.94-.94-2.06-.94 2.06-2.06.94zm-11 1L8.5 8.5l.94-2.06 2.06-.94-2.06-.94L8.5 2.5l-.94 2.06-2.06.94zm10 10l.94 2.06.94-2.06 2.06-.94-2.06-.94-.94-2.06-.94 2.06-2.06.94z\"/><path d=\"M17.41 7.96l-1.37-1.37c-.4-.4-.92-.59-1.43-.59-.52 0-1.04.2-1.43.59L10.3 9.45l-7.72 7.72c-.78.78-.78 2.05 0 2.83L4 21.41c.39.39.9.59 1.41.59.51 0 1.02-.2 1.41-.59l7.78-7.78 2.81-2.81c.8-.78.8-2.07 0-2.86zM5.41 20L4 18.59l7.72-7.72 1.47 1.35L5.41 20z\"/>\n",
              "  </svg>\n",
              "      </button>\n",
              "      \n",
              "  <style>\n",
              "    .colab-df-container {\n",
              "      display:flex;\n",
              "      flex-wrap:wrap;\n",
              "      gap: 12px;\n",
              "    }\n",
              "\n",
              "    .colab-df-convert {\n",
              "      background-color: #E8F0FE;\n",
              "      border: none;\n",
              "      border-radius: 50%;\n",
              "      cursor: pointer;\n",
              "      display: none;\n",
              "      fill: #1967D2;\n",
              "      height: 32px;\n",
              "      padding: 0 0 0 0;\n",
              "      width: 32px;\n",
              "    }\n",
              "\n",
              "    .colab-df-convert:hover {\n",
              "      background-color: #E2EBFA;\n",
              "      box-shadow: 0px 1px 2px rgba(60, 64, 67, 0.3), 0px 1px 3px 1px rgba(60, 64, 67, 0.15);\n",
              "      fill: #174EA6;\n",
              "    }\n",
              "\n",
              "    [theme=dark] .colab-df-convert {\n",
              "      background-color: #3B4455;\n",
              "      fill: #D2E3FC;\n",
              "    }\n",
              "\n",
              "    [theme=dark] .colab-df-convert:hover {\n",
              "      background-color: #434B5C;\n",
              "      box-shadow: 0px 1px 3px 1px rgba(0, 0, 0, 0.15);\n",
              "      filter: drop-shadow(0px 1px 2px rgba(0, 0, 0, 0.3));\n",
              "      fill: #FFFFFF;\n",
              "    }\n",
              "  </style>\n",
              "\n",
              "      <script>\n",
              "        const buttonEl =\n",
              "          document.querySelector('#df-07a1a0be-b4d4-4306-80c3-b12f6a8a1b3c button.colab-df-convert');\n",
              "        buttonEl.style.display =\n",
              "          google.colab.kernel.accessAllowed ? 'block' : 'none';\n",
              "\n",
              "        async function convertToInteractive(key) {\n",
              "          const element = document.querySelector('#df-07a1a0be-b4d4-4306-80c3-b12f6a8a1b3c');\n",
              "          const dataTable =\n",
              "            await google.colab.kernel.invokeFunction('convertToInteractive',\n",
              "                                                     [key], {});\n",
              "          if (!dataTable) return;\n",
              "\n",
              "          const docLinkHtml = 'Like what you see? Visit the ' +\n",
              "            '<a target=\"_blank\" href=https://colab.research.google.com/notebooks/data_table.ipynb>data table notebook</a>'\n",
              "            + ' to learn more about interactive tables.';\n",
              "          element.innerHTML = '';\n",
              "          dataTable['output_type'] = 'display_data';\n",
              "          await google.colab.output.renderOutput(dataTable, element);\n",
              "          const docLink = document.createElement('div');\n",
              "          docLink.innerHTML = docLinkHtml;\n",
              "          element.appendChild(docLink);\n",
              "        }\n",
              "      </script>\n",
              "    </div>\n",
              "  </div>\n",
              "  "
            ]
          },
          "metadata": {},
          "execution_count": 19
        }
      ]
    },
    {
      "cell_type": "code",
      "source": [
        "df1.info()"
      ],
      "metadata": {
        "colab": {
          "base_uri": "https://localhost:8080/"
        },
        "id": "H-_sxXhhDuv_",
        "outputId": "ce267af2-ce0b-454a-de8a-f48908f37327"
      },
      "execution_count": null,
      "outputs": [
        {
          "output_type": "stream",
          "name": "stdout",
          "text": [
            "<class 'dask.dataframe.core.DataFrame'>\n",
            "Columns: 12 entries, ID to avg_rating\n",
            "dtypes: object(6), int64(6)"
          ]
        }
      ]
    },
    {
      "cell_type": "markdown",
      "source": [
        "#### Extracting Review Information identified by product Id"
      ],
      "metadata": {
        "id": "OVhG7GUfYse0"
      }
    },
    {
      "cell_type": "code",
      "source": [
        "df2 = df1[['ID', 'reviewinfo']].copy()\n",
        "df2.reviewinfo = df2.reviewinfo.str.strip('][').str.replace(\"'\", '').str.split(',')\n",
        "df2 = df2.explode('reviewinfo').reset_index()\n",
        "df2 = df2.drop(['index'], axis = 1)\n",
        "df1 = df1.drop('reviewinfo', axis = 1)\n",
        "df2.head()"
      ],
      "metadata": {
        "id": "38oRlDxj16qc",
        "colab": {
          "base_uri": "https://localhost:8080/"
        },
        "outputId": "5c178b70-66b8-4f44-f2a4-9f04dd7a6976"
      },
      "execution_count": null,
      "outputs": [
        {
          "output_type": "execute_result",
          "data": {
            "text/plain": [
              "   ID                                         reviewinfo\n",
              "0   1      2000-7-28  cutomer: A2JW67OY8U6HHK  rating...\n",
              "1   1       2003-12-14  cutomer: A2VE83MZF98ITY  rati...\n",
              "2   2      2001-12-16  cutomer: A11NCO6YTE4BTJ  ratin...\n",
              "3   2       2002-1-7  cutomer:  A9CQ3PLRNIR83  rating...\n",
              "4   2       2002-1-24  cutomer: A13SG9ACZ9O5IM  ratin..."
            ],
            "text/html": [
              "\n",
              "  <div id=\"df-3175ac0a-43e2-41aa-bdde-6d9ebb8f2d5e\">\n",
              "    <div class=\"colab-df-container\">\n",
              "      <div>\n",
              "<style scoped>\n",
              "    .dataframe tbody tr th:only-of-type {\n",
              "        vertical-align: middle;\n",
              "    }\n",
              "\n",
              "    .dataframe tbody tr th {\n",
              "        vertical-align: top;\n",
              "    }\n",
              "\n",
              "    .dataframe thead th {\n",
              "        text-align: right;\n",
              "    }\n",
              "</style>\n",
              "<table border=\"1\" class=\"dataframe\">\n",
              "  <thead>\n",
              "    <tr style=\"text-align: right;\">\n",
              "      <th></th>\n",
              "      <th>ID</th>\n",
              "      <th>reviewinfo</th>\n",
              "    </tr>\n",
              "  </thead>\n",
              "  <tbody>\n",
              "    <tr>\n",
              "      <th>0</th>\n",
              "      <td>1</td>\n",
              "      <td>2000-7-28  cutomer: A2JW67OY8U6HHK  rating...</td>\n",
              "    </tr>\n",
              "    <tr>\n",
              "      <th>1</th>\n",
              "      <td>1</td>\n",
              "      <td>2003-12-14  cutomer: A2VE83MZF98ITY  rati...</td>\n",
              "    </tr>\n",
              "    <tr>\n",
              "      <th>2</th>\n",
              "      <td>2</td>\n",
              "      <td>2001-12-16  cutomer: A11NCO6YTE4BTJ  ratin...</td>\n",
              "    </tr>\n",
              "    <tr>\n",
              "      <th>3</th>\n",
              "      <td>2</td>\n",
              "      <td>2002-1-7  cutomer:  A9CQ3PLRNIR83  rating...</td>\n",
              "    </tr>\n",
              "    <tr>\n",
              "      <th>4</th>\n",
              "      <td>2</td>\n",
              "      <td>2002-1-24  cutomer: A13SG9ACZ9O5IM  ratin...</td>\n",
              "    </tr>\n",
              "  </tbody>\n",
              "</table>\n",
              "</div>\n",
              "      <button class=\"colab-df-convert\" onclick=\"convertToInteractive('df-3175ac0a-43e2-41aa-bdde-6d9ebb8f2d5e')\"\n",
              "              title=\"Convert this dataframe to an interactive table.\"\n",
              "              style=\"display:none;\">\n",
              "        \n",
              "  <svg xmlns=\"http://www.w3.org/2000/svg\" height=\"24px\"viewBox=\"0 0 24 24\"\n",
              "       width=\"24px\">\n",
              "    <path d=\"M0 0h24v24H0V0z\" fill=\"none\"/>\n",
              "    <path d=\"M18.56 5.44l.94 2.06.94-2.06 2.06-.94-2.06-.94-.94-2.06-.94 2.06-2.06.94zm-11 1L8.5 8.5l.94-2.06 2.06-.94-2.06-.94L8.5 2.5l-.94 2.06-2.06.94zm10 10l.94 2.06.94-2.06 2.06-.94-2.06-.94-.94-2.06-.94 2.06-2.06.94z\"/><path d=\"M17.41 7.96l-1.37-1.37c-.4-.4-.92-.59-1.43-.59-.52 0-1.04.2-1.43.59L10.3 9.45l-7.72 7.72c-.78.78-.78 2.05 0 2.83L4 21.41c.39.39.9.59 1.41.59.51 0 1.02-.2 1.41-.59l7.78-7.78 2.81-2.81c.8-.78.8-2.07 0-2.86zM5.41 20L4 18.59l7.72-7.72 1.47 1.35L5.41 20z\"/>\n",
              "  </svg>\n",
              "      </button>\n",
              "      \n",
              "  <style>\n",
              "    .colab-df-container {\n",
              "      display:flex;\n",
              "      flex-wrap:wrap;\n",
              "      gap: 12px;\n",
              "    }\n",
              "\n",
              "    .colab-df-convert {\n",
              "      background-color: #E8F0FE;\n",
              "      border: none;\n",
              "      border-radius: 50%;\n",
              "      cursor: pointer;\n",
              "      display: none;\n",
              "      fill: #1967D2;\n",
              "      height: 32px;\n",
              "      padding: 0 0 0 0;\n",
              "      width: 32px;\n",
              "    }\n",
              "\n",
              "    .colab-df-convert:hover {\n",
              "      background-color: #E2EBFA;\n",
              "      box-shadow: 0px 1px 2px rgba(60, 64, 67, 0.3), 0px 1px 3px 1px rgba(60, 64, 67, 0.15);\n",
              "      fill: #174EA6;\n",
              "    }\n",
              "\n",
              "    [theme=dark] .colab-df-convert {\n",
              "      background-color: #3B4455;\n",
              "      fill: #D2E3FC;\n",
              "    }\n",
              "\n",
              "    [theme=dark] .colab-df-convert:hover {\n",
              "      background-color: #434B5C;\n",
              "      box-shadow: 0px 1px 3px 1px rgba(0, 0, 0, 0.15);\n",
              "      filter: drop-shadow(0px 1px 2px rgba(0, 0, 0, 0.3));\n",
              "      fill: #FFFFFF;\n",
              "    }\n",
              "  </style>\n",
              "\n",
              "      <script>\n",
              "        const buttonEl =\n",
              "          document.querySelector('#df-3175ac0a-43e2-41aa-bdde-6d9ebb8f2d5e button.colab-df-convert');\n",
              "        buttonEl.style.display =\n",
              "          google.colab.kernel.accessAllowed ? 'block' : 'none';\n",
              "\n",
              "        async function convertToInteractive(key) {\n",
              "          const element = document.querySelector('#df-3175ac0a-43e2-41aa-bdde-6d9ebb8f2d5e');\n",
              "          const dataTable =\n",
              "            await google.colab.kernel.invokeFunction('convertToInteractive',\n",
              "                                                     [key], {});\n",
              "          if (!dataTable) return;\n",
              "\n",
              "          const docLinkHtml = 'Like what you see? Visit the ' +\n",
              "            '<a target=\"_blank\" href=https://colab.research.google.com/notebooks/data_table.ipynb>data table notebook</a>'\n",
              "            + ' to learn more about interactive tables.';\n",
              "          element.innerHTML = '';\n",
              "          dataTable['output_type'] = 'display_data';\n",
              "          await google.colab.output.renderOutput(dataTable, element);\n",
              "          const docLink = document.createElement('div');\n",
              "          docLink.innerHTML = docLinkHtml;\n",
              "          element.appendChild(docLink);\n",
              "        }\n",
              "      </script>\n",
              "    </div>\n",
              "  </div>\n",
              "  "
            ]
          },
          "metadata": {},
          "execution_count": 21
        }
      ]
    },
    {
      "cell_type": "markdown",
      "source": [
        "#### Extracting Categories Information identified by product Id"
      ],
      "metadata": {
        "id": "gi5XtPsAY1k1"
      }
    },
    {
      "cell_type": "code",
      "source": [
        "df3 = df1[['ID', 'categories']].copy()\n",
        "df3['categories'] = df3.categories.str.strip('][').str.replace(\"'\", '').str.split(',')\n",
        "df3 = df3.explode('categories').reset_index()\n",
        "df3 = df3.drop('index', axis = 1)\n",
        "df1 = df1.drop(['categories'], axis = 1)\n",
        "df3.head()"
      ],
      "metadata": {
        "id": "3VED9MBlAvze",
        "colab": {
          "base_uri": "https://localhost:8080/"
        },
        "outputId": "eed45e95-10f5-4f3a-d0bd-813cc378247b"
      },
      "execution_count": null,
      "outputs": [
        {
          "output_type": "execute_result",
          "data": {
            "text/plain": [
              "   ID                                         categories\n",
              "0   1  Subjects[1000]|Religion & Spirituality[22]|Chr...\n",
              "1   1   Subjects[1000]|Religion & Spirituality[22]|Ch...\n",
              "2   2  Subjects[1000]|Religion & Spirituality[22]|Ear...\n",
              "3   2   Subjects[1000]|Religion & Spirituality[22]|Ea...\n",
              "4   3  Subjects[1000]|Home & Garden[48]|Crafts & Hobb..."
            ],
            "text/html": [
              "\n",
              "  <div id=\"df-bee6c851-d81c-4c8f-872d-a761c356d50c\">\n",
              "    <div class=\"colab-df-container\">\n",
              "      <div>\n",
              "<style scoped>\n",
              "    .dataframe tbody tr th:only-of-type {\n",
              "        vertical-align: middle;\n",
              "    }\n",
              "\n",
              "    .dataframe tbody tr th {\n",
              "        vertical-align: top;\n",
              "    }\n",
              "\n",
              "    .dataframe thead th {\n",
              "        text-align: right;\n",
              "    }\n",
              "</style>\n",
              "<table border=\"1\" class=\"dataframe\">\n",
              "  <thead>\n",
              "    <tr style=\"text-align: right;\">\n",
              "      <th></th>\n",
              "      <th>ID</th>\n",
              "      <th>categories</th>\n",
              "    </tr>\n",
              "  </thead>\n",
              "  <tbody>\n",
              "    <tr>\n",
              "      <th>0</th>\n",
              "      <td>1</td>\n",
              "      <td>Subjects[1000]|Religion &amp; Spirituality[22]|Chr...</td>\n",
              "    </tr>\n",
              "    <tr>\n",
              "      <th>1</th>\n",
              "      <td>1</td>\n",
              "      <td>Subjects[1000]|Religion &amp; Spirituality[22]|Ch...</td>\n",
              "    </tr>\n",
              "    <tr>\n",
              "      <th>2</th>\n",
              "      <td>2</td>\n",
              "      <td>Subjects[1000]|Religion &amp; Spirituality[22]|Ear...</td>\n",
              "    </tr>\n",
              "    <tr>\n",
              "      <th>3</th>\n",
              "      <td>2</td>\n",
              "      <td>Subjects[1000]|Religion &amp; Spirituality[22]|Ea...</td>\n",
              "    </tr>\n",
              "    <tr>\n",
              "      <th>4</th>\n",
              "      <td>3</td>\n",
              "      <td>Subjects[1000]|Home &amp; Garden[48]|Crafts &amp; Hobb...</td>\n",
              "    </tr>\n",
              "  </tbody>\n",
              "</table>\n",
              "</div>\n",
              "      <button class=\"colab-df-convert\" onclick=\"convertToInteractive('df-bee6c851-d81c-4c8f-872d-a761c356d50c')\"\n",
              "              title=\"Convert this dataframe to an interactive table.\"\n",
              "              style=\"display:none;\">\n",
              "        \n",
              "  <svg xmlns=\"http://www.w3.org/2000/svg\" height=\"24px\"viewBox=\"0 0 24 24\"\n",
              "       width=\"24px\">\n",
              "    <path d=\"M0 0h24v24H0V0z\" fill=\"none\"/>\n",
              "    <path d=\"M18.56 5.44l.94 2.06.94-2.06 2.06-.94-2.06-.94-.94-2.06-.94 2.06-2.06.94zm-11 1L8.5 8.5l.94-2.06 2.06-.94-2.06-.94L8.5 2.5l-.94 2.06-2.06.94zm10 10l.94 2.06.94-2.06 2.06-.94-2.06-.94-.94-2.06-.94 2.06-2.06.94z\"/><path d=\"M17.41 7.96l-1.37-1.37c-.4-.4-.92-.59-1.43-.59-.52 0-1.04.2-1.43.59L10.3 9.45l-7.72 7.72c-.78.78-.78 2.05 0 2.83L4 21.41c.39.39.9.59 1.41.59.51 0 1.02-.2 1.41-.59l7.78-7.78 2.81-2.81c.8-.78.8-2.07 0-2.86zM5.41 20L4 18.59l7.72-7.72 1.47 1.35L5.41 20z\"/>\n",
              "  </svg>\n",
              "      </button>\n",
              "      \n",
              "  <style>\n",
              "    .colab-df-container {\n",
              "      display:flex;\n",
              "      flex-wrap:wrap;\n",
              "      gap: 12px;\n",
              "    }\n",
              "\n",
              "    .colab-df-convert {\n",
              "      background-color: #E8F0FE;\n",
              "      border: none;\n",
              "      border-radius: 50%;\n",
              "      cursor: pointer;\n",
              "      display: none;\n",
              "      fill: #1967D2;\n",
              "      height: 32px;\n",
              "      padding: 0 0 0 0;\n",
              "      width: 32px;\n",
              "    }\n",
              "\n",
              "    .colab-df-convert:hover {\n",
              "      background-color: #E2EBFA;\n",
              "      box-shadow: 0px 1px 2px rgba(60, 64, 67, 0.3), 0px 1px 3px 1px rgba(60, 64, 67, 0.15);\n",
              "      fill: #174EA6;\n",
              "    }\n",
              "\n",
              "    [theme=dark] .colab-df-convert {\n",
              "      background-color: #3B4455;\n",
              "      fill: #D2E3FC;\n",
              "    }\n",
              "\n",
              "    [theme=dark] .colab-df-convert:hover {\n",
              "      background-color: #434B5C;\n",
              "      box-shadow: 0px 1px 3px 1px rgba(0, 0, 0, 0.15);\n",
              "      filter: drop-shadow(0px 1px 2px rgba(0, 0, 0, 0.3));\n",
              "      fill: #FFFFFF;\n",
              "    }\n",
              "  </style>\n",
              "\n",
              "      <script>\n",
              "        const buttonEl =\n",
              "          document.querySelector('#df-bee6c851-d81c-4c8f-872d-a761c356d50c button.colab-df-convert');\n",
              "        buttonEl.style.display =\n",
              "          google.colab.kernel.accessAllowed ? 'block' : 'none';\n",
              "\n",
              "        async function convertToInteractive(key) {\n",
              "          const element = document.querySelector('#df-bee6c851-d81c-4c8f-872d-a761c356d50c');\n",
              "          const dataTable =\n",
              "            await google.colab.kernel.invokeFunction('convertToInteractive',\n",
              "                                                     [key], {});\n",
              "          if (!dataTable) return;\n",
              "\n",
              "          const docLinkHtml = 'Like what you see? Visit the ' +\n",
              "            '<a target=\"_blank\" href=https://colab.research.google.com/notebooks/data_table.ipynb>data table notebook</a>'\n",
              "            + ' to learn more about interactive tables.';\n",
              "          element.innerHTML = '';\n",
              "          dataTable['output_type'] = 'display_data';\n",
              "          await google.colab.output.renderOutput(dataTable, element);\n",
              "          const docLink = document.createElement('div');\n",
              "          docLink.innerHTML = docLinkHtml;\n",
              "          element.appendChild(docLink);\n",
              "        }\n",
              "      </script>\n",
              "    </div>\n",
              "  </div>\n",
              "  "
            ]
          },
          "metadata": {},
          "execution_count": 22
        }
      ]
    },
    {
      "cell_type": "markdown",
      "source": [
        "#### Extracting Similar Products Information identified by product Id"
      ],
      "metadata": {
        "id": "HepJkSEJY4S-"
      }
    },
    {
      "cell_type": "code",
      "source": [
        "df4 = df1[['ID', 'similar']].copy()\n",
        "df4.similar = df4.similar.str.split()\n",
        "df4 = df4.reset_index().drop('index', axis =1)\n",
        "df1 = df1.drop('similar', axis = 1)\n",
        "df4.head()"
      ],
      "metadata": {
        "id": "XVezRR1-C5_s",
        "colab": {
          "base_uri": "https://localhost:8080/",
          "height": 206
        },
        "outputId": "b46058d2-52cf-4a60-a99f-f497668bb9b2"
      },
      "execution_count": null,
      "outputs": [
        {
          "output_type": "execute_result",
          "data": {
            "text/plain": [
              "   ID                                            similar\n",
              "0   1  [5, 0804215715, 156101074X, 0687023955, 068707...\n",
              "1   2  [5, 0738700827, 1567184960, 1567182836, 073870...\n",
              "2   3                                                [0]\n",
              "3   4  [5, 0842328130, 0830818138, 0842330313, 084232...\n",
              "4   5  [5, 157794349X, 0892749504, 1577941829, 089274..."
            ],
            "text/html": [
              "\n",
              "  <div id=\"df-486f4eaa-f842-42a0-9158-b261b598e6b1\">\n",
              "    <div class=\"colab-df-container\">\n",
              "      <div>\n",
              "<style scoped>\n",
              "    .dataframe tbody tr th:only-of-type {\n",
              "        vertical-align: middle;\n",
              "    }\n",
              "\n",
              "    .dataframe tbody tr th {\n",
              "        vertical-align: top;\n",
              "    }\n",
              "\n",
              "    .dataframe thead th {\n",
              "        text-align: right;\n",
              "    }\n",
              "</style>\n",
              "<table border=\"1\" class=\"dataframe\">\n",
              "  <thead>\n",
              "    <tr style=\"text-align: right;\">\n",
              "      <th></th>\n",
              "      <th>ID</th>\n",
              "      <th>similar</th>\n",
              "    </tr>\n",
              "  </thead>\n",
              "  <tbody>\n",
              "    <tr>\n",
              "      <th>0</th>\n",
              "      <td>1</td>\n",
              "      <td>[5, 0804215715, 156101074X, 0687023955, 068707...</td>\n",
              "    </tr>\n",
              "    <tr>\n",
              "      <th>1</th>\n",
              "      <td>2</td>\n",
              "      <td>[5, 0738700827, 1567184960, 1567182836, 073870...</td>\n",
              "    </tr>\n",
              "    <tr>\n",
              "      <th>2</th>\n",
              "      <td>3</td>\n",
              "      <td>[0]</td>\n",
              "    </tr>\n",
              "    <tr>\n",
              "      <th>3</th>\n",
              "      <td>4</td>\n",
              "      <td>[5, 0842328130, 0830818138, 0842330313, 084232...</td>\n",
              "    </tr>\n",
              "    <tr>\n",
              "      <th>4</th>\n",
              "      <td>5</td>\n",
              "      <td>[5, 157794349X, 0892749504, 1577941829, 089274...</td>\n",
              "    </tr>\n",
              "  </tbody>\n",
              "</table>\n",
              "</div>\n",
              "      <button class=\"colab-df-convert\" onclick=\"convertToInteractive('df-486f4eaa-f842-42a0-9158-b261b598e6b1')\"\n",
              "              title=\"Convert this dataframe to an interactive table.\"\n",
              "              style=\"display:none;\">\n",
              "        \n",
              "  <svg xmlns=\"http://www.w3.org/2000/svg\" height=\"24px\"viewBox=\"0 0 24 24\"\n",
              "       width=\"24px\">\n",
              "    <path d=\"M0 0h24v24H0V0z\" fill=\"none\"/>\n",
              "    <path d=\"M18.56 5.44l.94 2.06.94-2.06 2.06-.94-2.06-.94-.94-2.06-.94 2.06-2.06.94zm-11 1L8.5 8.5l.94-2.06 2.06-.94-2.06-.94L8.5 2.5l-.94 2.06-2.06.94zm10 10l.94 2.06.94-2.06 2.06-.94-2.06-.94-.94-2.06-.94 2.06-2.06.94z\"/><path d=\"M17.41 7.96l-1.37-1.37c-.4-.4-.92-.59-1.43-.59-.52 0-1.04.2-1.43.59L10.3 9.45l-7.72 7.72c-.78.78-.78 2.05 0 2.83L4 21.41c.39.39.9.59 1.41.59.51 0 1.02-.2 1.41-.59l7.78-7.78 2.81-2.81c.8-.78.8-2.07 0-2.86zM5.41 20L4 18.59l7.72-7.72 1.47 1.35L5.41 20z\"/>\n",
              "  </svg>\n",
              "      </button>\n",
              "      \n",
              "  <style>\n",
              "    .colab-df-container {\n",
              "      display:flex;\n",
              "      flex-wrap:wrap;\n",
              "      gap: 12px;\n",
              "    }\n",
              "\n",
              "    .colab-df-convert {\n",
              "      background-color: #E8F0FE;\n",
              "      border: none;\n",
              "      border-radius: 50%;\n",
              "      cursor: pointer;\n",
              "      display: none;\n",
              "      fill: #1967D2;\n",
              "      height: 32px;\n",
              "      padding: 0 0 0 0;\n",
              "      width: 32px;\n",
              "    }\n",
              "\n",
              "    .colab-df-convert:hover {\n",
              "      background-color: #E2EBFA;\n",
              "      box-shadow: 0px 1px 2px rgba(60, 64, 67, 0.3), 0px 1px 3px 1px rgba(60, 64, 67, 0.15);\n",
              "      fill: #174EA6;\n",
              "    }\n",
              "\n",
              "    [theme=dark] .colab-df-convert {\n",
              "      background-color: #3B4455;\n",
              "      fill: #D2E3FC;\n",
              "    }\n",
              "\n",
              "    [theme=dark] .colab-df-convert:hover {\n",
              "      background-color: #434B5C;\n",
              "      box-shadow: 0px 1px 3px 1px rgba(0, 0, 0, 0.15);\n",
              "      filter: drop-shadow(0px 1px 2px rgba(0, 0, 0, 0.3));\n",
              "      fill: #FFFFFF;\n",
              "    }\n",
              "  </style>\n",
              "\n",
              "      <script>\n",
              "        const buttonEl =\n",
              "          document.querySelector('#df-486f4eaa-f842-42a0-9158-b261b598e6b1 button.colab-df-convert');\n",
              "        buttonEl.style.display =\n",
              "          google.colab.kernel.accessAllowed ? 'block' : 'none';\n",
              "\n",
              "        async function convertToInteractive(key) {\n",
              "          const element = document.querySelector('#df-486f4eaa-f842-42a0-9158-b261b598e6b1');\n",
              "          const dataTable =\n",
              "            await google.colab.kernel.invokeFunction('convertToInteractive',\n",
              "                                                     [key], {});\n",
              "          if (!dataTable) return;\n",
              "\n",
              "          const docLinkHtml = 'Like what you see? Visit the ' +\n",
              "            '<a target=\"_blank\" href=https://colab.research.google.com/notebooks/data_table.ipynb>data table notebook</a>'\n",
              "            + ' to learn more about interactive tables.';\n",
              "          element.innerHTML = '';\n",
              "          dataTable['output_type'] = 'display_data';\n",
              "          await google.colab.output.renderOutput(dataTable, element);\n",
              "          const docLink = document.createElement('div');\n",
              "          docLink.innerHTML = docLinkHtml;\n",
              "          element.appendChild(docLink);\n",
              "        }\n",
              "      </script>\n",
              "    </div>\n",
              "  </div>\n",
              "  "
            ]
          },
          "metadata": {},
          "execution_count": 23
        }
      ]
    },
    {
      "cell_type": "markdown",
      "source": [
        "#### Saving Dataframes for further analysis"
      ],
      "metadata": {
        "id": "tGzeAojUY82f"
      }
    },
    {
      "cell_type": "code",
      "source": [
        "df1.compute().to_csv('/content/finalpreprocesseddata.csv', index = False)\n",
        "df2.compute().to_csv('/content/reviews.csv', index = False)\n",
        "df3.compute().to_csv('/content/categories.csv', index = False)\n",
        "df4.compute().to_csv('/content/similar.csv', index = False)"
      ],
      "metadata": {
        "id": "0JQiYYtuGZXt"
      },
      "execution_count": null,
      "outputs": []
    },
    {
      "cell_type": "markdown",
      "source": [
        "## 2.Implementing a recommendation System based on the extracted features using Similarity Measures"
      ],
      "metadata": {
        "id": "NPFNnUMEhLtD"
      }
    },
    {
      "cell_type": "code",
      "source": [
        "\"\"\"from google.colab import drive\n",
        "drive.mount('/content/drive')\"\"\""
      ],
      "metadata": {
        "colab": {
          "base_uri": "https://localhost:8080/"
        },
        "id": "fX39w9f-6RQ9",
        "outputId": "bb217a1a-aa82-4714-911f-ef1ebdf937d5"
      },
      "execution_count": null,
      "outputs": [
        {
          "output_type": "execute_result",
          "data": {
            "text/plain": [
              "\"from google.colab import drive\\ndrive.mount('/content/drive')\""
            ],
            "application/vnd.google.colaboratory.intrinsic+json": {
              "type": "string"
            }
          },
          "metadata": {},
          "execution_count": 25
        }
      ]
    },
    {
      "cell_type": "markdown",
      "source": [
        "### Creating a Directed graph from the given edgelist"
      ],
      "metadata": {
        "id": "WoQc9JNIibAH"
      }
    },
    {
      "cell_type": "code",
      "execution_count": null,
      "metadata": {
        "id": "bc2cffd0"
      },
      "outputs": [],
      "source": [
        "Graphtype = nx.DiGraph()\n",
        "filepath = '/content/amazon0601.txt'\n",
        "G = nx.read_edgelist(\n",
        "    filepath,\n",
        "    comments='#',\n",
        "    create_using=Graphtype,\n",
        "    nodetype=int\n",
        ")"
      ]
    },
    {
      "cell_type": "markdown",
      "source": [
        "#### Reading Metadata"
      ],
      "metadata": {
        "id": "X6LCZIe3igHL"
      }
    },
    {
      "cell_type": "code",
      "execution_count": null,
      "metadata": {
        "id": "b87718d3"
      },
      "outputs": [],
      "source": [
        "df = pd.read_csv('/content/finalpreprocesseddata.csv')"
      ]
    },
    {
      "cell_type": "code",
      "execution_count": null,
      "metadata": {
        "colab": {
          "base_uri": "https://localhost:8080/"
        },
        "id": "9ddd3d09",
        "outputId": "8a3aa78a-97a4-4723-fc64-5dfdb854c9ae"
      },
      "outputs": [
        {
          "output_type": "execute_result",
          "data": {
            "text/plain": [
              "   ID        ASIN                                             title group  \\\n",
              "0   1  0827229534                             Patterns of Preaching  Book   \n",
              "1   2  0738700797                                         Candlemas  Book   \n",
              "2   3  0486287785  World War II Allied Fighter Planes Trading Cards  Book   \n",
              "3   4  0842328327                 Life Application Bible Commentary  Book   \n",
              "4   5  1577943082              Prayers That Avail Much for Business  Book   \n",
              "\n",
              "   salesrank  num_categories  totalreviews  downloadedreviews  avg_rating  \n",
              "0     396585               2             2                  2         5.0  \n",
              "1     168596               2            12                 12         4.5  \n",
              "2    1270652               1             1                  1         5.0  \n",
              "3     631289               5             1                  1         4.0  \n",
              "4     455160               2             0                  0         0.0  "
            ],
            "text/html": [
              "\n",
              "  <div id=\"df-0f7f48e4-7587-4a55-8df6-8438ae54c3f8\">\n",
              "    <div class=\"colab-df-container\">\n",
              "      <div>\n",
              "<style scoped>\n",
              "    .dataframe tbody tr th:only-of-type {\n",
              "        vertical-align: middle;\n",
              "    }\n",
              "\n",
              "    .dataframe tbody tr th {\n",
              "        vertical-align: top;\n",
              "    }\n",
              "\n",
              "    .dataframe thead th {\n",
              "        text-align: right;\n",
              "    }\n",
              "</style>\n",
              "<table border=\"1\" class=\"dataframe\">\n",
              "  <thead>\n",
              "    <tr style=\"text-align: right;\">\n",
              "      <th></th>\n",
              "      <th>ID</th>\n",
              "      <th>ASIN</th>\n",
              "      <th>title</th>\n",
              "      <th>group</th>\n",
              "      <th>salesrank</th>\n",
              "      <th>num_categories</th>\n",
              "      <th>totalreviews</th>\n",
              "      <th>downloadedreviews</th>\n",
              "      <th>avg_rating</th>\n",
              "    </tr>\n",
              "  </thead>\n",
              "  <tbody>\n",
              "    <tr>\n",
              "      <th>0</th>\n",
              "      <td>1</td>\n",
              "      <td>0827229534</td>\n",
              "      <td>Patterns of Preaching</td>\n",
              "      <td>Book</td>\n",
              "      <td>396585</td>\n",
              "      <td>2</td>\n",
              "      <td>2</td>\n",
              "      <td>2</td>\n",
              "      <td>5.0</td>\n",
              "    </tr>\n",
              "    <tr>\n",
              "      <th>1</th>\n",
              "      <td>2</td>\n",
              "      <td>0738700797</td>\n",
              "      <td>Candlemas</td>\n",
              "      <td>Book</td>\n",
              "      <td>168596</td>\n",
              "      <td>2</td>\n",
              "      <td>12</td>\n",
              "      <td>12</td>\n",
              "      <td>4.5</td>\n",
              "    </tr>\n",
              "    <tr>\n",
              "      <th>2</th>\n",
              "      <td>3</td>\n",
              "      <td>0486287785</td>\n",
              "      <td>World War II Allied Fighter Planes Trading Cards</td>\n",
              "      <td>Book</td>\n",
              "      <td>1270652</td>\n",
              "      <td>1</td>\n",
              "      <td>1</td>\n",
              "      <td>1</td>\n",
              "      <td>5.0</td>\n",
              "    </tr>\n",
              "    <tr>\n",
              "      <th>3</th>\n",
              "      <td>4</td>\n",
              "      <td>0842328327</td>\n",
              "      <td>Life Application Bible Commentary</td>\n",
              "      <td>Book</td>\n",
              "      <td>631289</td>\n",
              "      <td>5</td>\n",
              "      <td>1</td>\n",
              "      <td>1</td>\n",
              "      <td>4.0</td>\n",
              "    </tr>\n",
              "    <tr>\n",
              "      <th>4</th>\n",
              "      <td>5</td>\n",
              "      <td>1577943082</td>\n",
              "      <td>Prayers That Avail Much for Business</td>\n",
              "      <td>Book</td>\n",
              "      <td>455160</td>\n",
              "      <td>2</td>\n",
              "      <td>0</td>\n",
              "      <td>0</td>\n",
              "      <td>0.0</td>\n",
              "    </tr>\n",
              "  </tbody>\n",
              "</table>\n",
              "</div>\n",
              "      <button class=\"colab-df-convert\" onclick=\"convertToInteractive('df-0f7f48e4-7587-4a55-8df6-8438ae54c3f8')\"\n",
              "              title=\"Convert this dataframe to an interactive table.\"\n",
              "              style=\"display:none;\">\n",
              "        \n",
              "  <svg xmlns=\"http://www.w3.org/2000/svg\" height=\"24px\"viewBox=\"0 0 24 24\"\n",
              "       width=\"24px\">\n",
              "    <path d=\"M0 0h24v24H0V0z\" fill=\"none\"/>\n",
              "    <path d=\"M18.56 5.44l.94 2.06.94-2.06 2.06-.94-2.06-.94-.94-2.06-.94 2.06-2.06.94zm-11 1L8.5 8.5l.94-2.06 2.06-.94-2.06-.94L8.5 2.5l-.94 2.06-2.06.94zm10 10l.94 2.06.94-2.06 2.06-.94-2.06-.94-.94-2.06-.94 2.06-2.06.94z\"/><path d=\"M17.41 7.96l-1.37-1.37c-.4-.4-.92-.59-1.43-.59-.52 0-1.04.2-1.43.59L10.3 9.45l-7.72 7.72c-.78.78-.78 2.05 0 2.83L4 21.41c.39.39.9.59 1.41.59.51 0 1.02-.2 1.41-.59l7.78-7.78 2.81-2.81c.8-.78.8-2.07 0-2.86zM5.41 20L4 18.59l7.72-7.72 1.47 1.35L5.41 20z\"/>\n",
              "  </svg>\n",
              "      </button>\n",
              "      \n",
              "  <style>\n",
              "    .colab-df-container {\n",
              "      display:flex;\n",
              "      flex-wrap:wrap;\n",
              "      gap: 12px;\n",
              "    }\n",
              "\n",
              "    .colab-df-convert {\n",
              "      background-color: #E8F0FE;\n",
              "      border: none;\n",
              "      border-radius: 50%;\n",
              "      cursor: pointer;\n",
              "      display: none;\n",
              "      fill: #1967D2;\n",
              "      height: 32px;\n",
              "      padding: 0 0 0 0;\n",
              "      width: 32px;\n",
              "    }\n",
              "\n",
              "    .colab-df-convert:hover {\n",
              "      background-color: #E2EBFA;\n",
              "      box-shadow: 0px 1px 2px rgba(60, 64, 67, 0.3), 0px 1px 3px 1px rgba(60, 64, 67, 0.15);\n",
              "      fill: #174EA6;\n",
              "    }\n",
              "\n",
              "    [theme=dark] .colab-df-convert {\n",
              "      background-color: #3B4455;\n",
              "      fill: #D2E3FC;\n",
              "    }\n",
              "\n",
              "    [theme=dark] .colab-df-convert:hover {\n",
              "      background-color: #434B5C;\n",
              "      box-shadow: 0px 1px 3px 1px rgba(0, 0, 0, 0.15);\n",
              "      filter: drop-shadow(0px 1px 2px rgba(0, 0, 0, 0.3));\n",
              "      fill: #FFFFFF;\n",
              "    }\n",
              "  </style>\n",
              "\n",
              "      <script>\n",
              "        const buttonEl =\n",
              "          document.querySelector('#df-0f7f48e4-7587-4a55-8df6-8438ae54c3f8 button.colab-df-convert');\n",
              "        buttonEl.style.display =\n",
              "          google.colab.kernel.accessAllowed ? 'block' : 'none';\n",
              "\n",
              "        async function convertToInteractive(key) {\n",
              "          const element = document.querySelector('#df-0f7f48e4-7587-4a55-8df6-8438ae54c3f8');\n",
              "          const dataTable =\n",
              "            await google.colab.kernel.invokeFunction('convertToInteractive',\n",
              "                                                     [key], {});\n",
              "          if (!dataTable) return;\n",
              "\n",
              "          const docLinkHtml = 'Like what you see? Visit the ' +\n",
              "            '<a target=\"_blank\" href=https://colab.research.google.com/notebooks/data_table.ipynb>data table notebook</a>'\n",
              "            + ' to learn more about interactive tables.';\n",
              "          element.innerHTML = '';\n",
              "          dataTable['output_type'] = 'display_data';\n",
              "          await google.colab.output.renderOutput(dataTable, element);\n",
              "          const docLink = document.createElement('div');\n",
              "          docLink.innerHTML = docLinkHtml;\n",
              "          element.appendChild(docLink);\n",
              "        }\n",
              "      </script>\n",
              "    </div>\n",
              "  </div>\n",
              "  "
            ]
          },
          "metadata": {},
          "execution_count": 28
        }
      ],
      "source": [
        "df.head()"
      ]
    },
    {
      "cell_type": "markdown",
      "source": [
        "##### Checking and Dropping Null Values"
      ],
      "metadata": {
        "id": "Z1xwNAKUitni"
      }
    },
    {
      "cell_type": "code",
      "execution_count": null,
      "metadata": {
        "id": "d4801bfd"
      },
      "outputs": [],
      "source": [
        "df.isnull().sum()\n",
        "df = df.dropna()"
      ]
    },
    {
      "cell_type": "code",
      "execution_count": null,
      "metadata": {
        "colab": {
          "base_uri": "https://localhost:8080/"
        },
        "id": "24e60de1",
        "outputId": "39e0b837-354e-43b6-cde9-68cf455018cb"
      },
      "outputs": [
        {
          "output_type": "execute_result",
          "data": {
            "text/plain": [
              "Book            393559\n",
              "Music           103144\n",
              "Video            26131\n",
              "DVD              19828\n",
              "Toy                  8\n",
              "Software             5\n",
              "CE                   4\n",
              "Video Games          1\n",
              "Baby Product         1\n",
              "Sports               1\n",
              "Name: group, dtype: int64"
            ]
          },
          "metadata": {},
          "execution_count": 30
        }
      ],
      "source": [
        "df['group'].value_counts()"
      ]
    },
    {
      "cell_type": "markdown",
      "source": [
        "#####Indexing the graph on the attribute 'ID'"
      ],
      "metadata": {
        "id": "o8bkbs1mjTf5"
      }
    },
    {
      "cell_type": "code",
      "execution_count": null,
      "metadata": {
        "id": "e0ace1b6"
      },
      "outputs": [],
      "source": [
        "df = df.set_index('ID')"
      ]
    },
    {
      "cell_type": "markdown",
      "source": [
        "#### Selecting Attributes that each nodes will have"
      ],
      "metadata": {
        "id": "s_MSmwsEjXjB"
      }
    },
    {
      "cell_type": "code",
      "execution_count": null,
      "metadata": {
        "id": "3f5f5b22"
      },
      "outputs": [],
      "source": [
        "nodeattrdf = df[['ASIN','title','group', 'num_categories','salesrank', 'totalreviews', 'downloadedreviews', 'avg_rating']].copy()"
      ]
    },
    {
      "cell_type": "markdown",
      "source": [
        "#### Combining the transaction data and the metadata into a networkX Directed Graph"
      ],
      "metadata": {
        "id": "Qaw_PcyQjZmB"
      }
    },
    {
      "cell_type": "code",
      "execution_count": null,
      "metadata": {
        "id": "0a7b9e22"
      },
      "outputs": [],
      "source": [
        "nx.set_node_attributes(G, nodeattrdf.to_dict('index'))"
      ]
    },
    {
      "cell_type": "code",
      "execution_count": null,
      "metadata": {
        "colab": {
          "base_uri": "https://localhost:8080/"
        },
        "id": "c8a625f2",
        "outputId": "bf823dd2-58ef-40e7-983f-a1a12724af87"
      },
      "outputs": [
        {
          "output_type": "execute_result",
          "data": {
            "text/plain": [
              "{'ASIN': '0231118597',\n",
              " 'avg_rating': 4.5,\n",
              " 'downloadedreviews': 15,\n",
              " 'group': 'Book',\n",
              " 'num_categories': 4,\n",
              " 'salesrank': 277409,\n",
              " 'title': 'Losing Matt Shepard',\n",
              " 'totalreviews': 15}"
            ]
          },
          "metadata": {},
          "execution_count": 34
        }
      ],
      "source": [
        "G.nodes[8]"
      ]
    },
    {
      "cell_type": "markdown",
      "source": [
        "####**Empty nodes/Disjoint nodes do not contribute significantly when we recommended products.So we have removed them**"
      ],
      "metadata": {
        "id": "QhQKZESDjc47"
      }
    },
    {
      "cell_type": "code",
      "execution_count": null,
      "metadata": {
        "id": "85c12cb3"
      },
      "outputs": [],
      "source": [
        "remove = [nodes for nodes in dict(G.nodes()) if len(G.nodes[nodes]) == 0]"
      ]
    },
    {
      "cell_type": "code",
      "execution_count": null,
      "metadata": {
        "id": "a4ee8862"
      },
      "outputs": [],
      "source": [
        "G.remove_nodes_from(remove)"
      ]
    },
    {
      "cell_type": "markdown",
      "source": [
        "Here, n is the array of all non-deleted nodes in the graph"
      ],
      "metadata": {
        "id": "s7eVQUnNjg0i"
      }
    },
    {
      "cell_type": "code",
      "execution_count": null,
      "metadata": {
        "id": "233ed40e"
      },
      "outputs": [],
      "source": [
        "n = list(G.nodes)"
      ]
    },
    {
      "cell_type": "code",
      "execution_count": null,
      "metadata": {
        "id": "de2d7f5b"
      },
      "outputs": [],
      "source": [
        "n =  np.array(n)\n",
        "n = np.unique(n)"
      ]
    },
    {
      "cell_type": "markdown",
      "source": [
        "##### Helper function to retrive all target nodes from the edges starting from the source"
      ],
      "metadata": {
        "id": "vlJ_0Ygul94b"
      }
    },
    {
      "cell_type": "code",
      "execution_count": null,
      "metadata": {
        "id": "c15aacee"
      },
      "outputs": [],
      "source": [
        "def getclean(pro_id):\n",
        "    l = str(list(G.edges(pro_id)))\n",
        "    l = l.replace('[','')\n",
        "    l = l.replace(']','')\n",
        "    l = l.replace(',','')\n",
        "    l = l.replace('(','')\n",
        "    l = l.replace(')','')\n",
        "    l = l.replace(str(pro_id)+\" \", '')\n",
        "    b = l.split()\n",
        "    b = np.array(b)\n",
        "    b = b.astype(int)\n",
        "    return b"
      ]
    },
    {
      "cell_type": "code",
      "source": [
        "G.edges(5)"
      ],
      "metadata": {
        "colab": {
          "base_uri": "https://localhost:8080/"
        },
        "id": "watyxZORSOLB",
        "outputId": "a509f4dd-dca5-4520-b9d7-022187224a09"
      },
      "execution_count": null,
      "outputs": [
        {
          "output_type": "execute_result",
          "data": {
            "text/plain": [
              "OutEdgeDataView([(5, 6), (5, 44), (5, 46), (5, 47), (5, 48), (5, 49), (5, 50), (5, 51), (5, 52), (5, 53)])"
            ]
          },
          "metadata": {},
          "execution_count": 40
        }
      ]
    },
    {
      "cell_type": "code",
      "source": [
        "getclean(5)"
      ],
      "metadata": {
        "colab": {
          "base_uri": "https://localhost:8080/"
        },
        "id": "nYJXKrDmULVm",
        "outputId": "68c5fc93-9e76-4672-9bcc-dcf2eba3a753"
      },
      "execution_count": null,
      "outputs": [
        {
          "output_type": "execute_result",
          "data": {
            "text/plain": [
              "array([ 6, 44, 46, 47, 48, 49, 50, 51, 52, 53])"
            ]
          },
          "metadata": {},
          "execution_count": 41
        }
      ]
    },
    {
      "cell_type": "markdown",
      "source": [
        "####Function for user to search for a product"
      ],
      "metadata": {
        "id": "CGy9qpz3kCoo"
      }
    },
    {
      "cell_type": "code",
      "source": [
        "def search(s):\n",
        "  s = s.lower()\n",
        "  indx = df.index[(df['title'].str.contains(s, case = False))==True]\n",
        "  indx = np.array(indx)\n",
        "  indx = indx.astype(int)\n",
        "  return indx"
      ],
      "metadata": {
        "id": "_epelfQ_mO9I"
      },
      "execution_count": null,
      "outputs": []
    },
    {
      "cell_type": "markdown",
      "source": [
        "Storing array of indexes in an array"
      ],
      "metadata": {
        "id": "ftolcW3-kEkI"
      }
    },
    {
      "cell_type": "code",
      "source": [
        "iarray = search(str(input()))\n",
        "print(len(iarray))\n",
        "\n",
        "for i in range(0, len(iarray)):\n",
        "  if(iarray[i] in n):\n",
        "    print(iarray[i], G.nodes[iarray[i]]['title'])"
      ],
      "metadata": {
        "id": "S5ywqUt1qFV-",
        "colab": {
          "base_uri": "https://localhost:8080/"
        },
        "outputId": "48148936-38cd-45a6-a7e0-5ecebc5631ac"
      },
      "execution_count": null,
      "outputs": [
        {
          "output_type": "stream",
          "name": "stdout",
          "text": [
            "65\n",
            "379\n",
            "449 Audubon 365 Birds Page-A-Day Calendar 2002\n",
            "3188 History of the Tenth Texas Cavalry Dismounted Regiment, 1861-1865\n",
            "3899 Original 365 Dogs Page-A-Day Calendar 2002\n",
            "4429 Harley-Davidson Panheads, 1948-1965/M418\n",
            "6398 Honda Cx & Gl500/650 Twins 1978-1983 Service Repair Maintenance\n",
            "8388 365 Days in Italy Calendar 2003\n",
            "8629 365 Glorious Nights of Love and Romance\n",
            "8708 Yamaha V-Star 650, 1998-2000\n",
            "8729 365 TV-Free Activities You Can Do with Your Child\n",
            "9039 The Best of John Lee Hooker 1965 - 1974\n",
            "10216 365 Brand Name Casseroles & One-Dish Meals\n",
            "10594 Vol. 65, 'Four' & More (Book & CD Set)\n",
            "11949 50 Best Stuffings and Dressings (365 Ways Series)\n",
            "12672 Aircraft Propellers and Controls (JS312651)\n",
            "13529 So Many Roads (1965-1995)\n",
            "13945 365 Words of Well-Being for Women\n",
            "14792 On This Day 365 Amazing And Inspiring Stories About Saints, Martyrs And Heroes\n",
            "16956 365 Activities for Fitness, Food, and Fun for the Whole Family\n",
            "16972 365 Days in France Calendar 2002\n",
            "17787 Literatura Chicana, 1965-1995\n",
            "18572 L'Empedocle De Strasbourg (P. Strasb. Gr. Inv. 1665-1666)\n",
            "19808 Native People of Southern New England, 1500-1650 (Civilization of the American Indian Series)\n",
            "21072 365 Days in Ireland Calendar 2002\n",
            "23243 Writings on Music, 1965-2000\n",
            "25442 365 Puppies-a-Year Calendar 2002\n",
            "26854 The Reconstruction of American Liberalism, 1865-1914\n",
            "27040 The Princess And The Duke (Crown And Glory) (Silhouette Special Edition, No. 1465)\n",
            "28502 365 Days of Antiques Roadshow Calendar 2002\n",
            "28871 Union River Ironclad 1861-65 (New Vanguard)\n",
            "30332 Warfare, State And Society In The Byzantine World 565-1204 (Warfare and History)\n",
            "32942 War Songs and Poems of the Southern Confederacy 1861-1865\n",
            "32982 Audubon 365 Songbirds Calendar 2002\n",
            "36620 365 Simple Science Experiments with Everyday Materials\n",
            "41219 The Shenandoah Valley, 1861-1865\n",
            "42543 The Avengers '65\n",
            "45663 The Sound of Music (1965 Film Soundtrack)\n",
            "47546 365 Foods Kids Love to Eat\n",
            "48525 Windows on a Lost World (Star Trek, Book 65)\n",
            "49157 The Golden Road (1965 - 1973)\n",
            "49524 How to Rebuild and Modify Your Porsche 911 Engine 1965-1989\n",
            "53204 Anthology 1965 - 1969\n",
            "57179 365 Quick Cross Stitch Christmas Designs\n",
            "57955 365 Amazing Trivia Facts Page-A-Day Calendar 2002\n",
            "59158 365 Buddha\n",
            "60589 The Best of Sergio Mendes & Brasil '65\n",
            "61866 365 Great Barbeque and Grill Anniversary Edition\n",
            "62023 The Civil War 1861-65\n",
            "62454 Search My Heart, O God 365 Appointments with God\n",
            "63345 The Habsburg Monarchy, C. 1765-1918\n",
            "63670 MENSA 365 Brain Puzzlers Page-A-Day Calendar 2002\n",
            "64800 Spoons, 1650-1930\n",
            "67427 Indonesia Crisis and Transformation 1965-1968\n",
            "70969 Cowboy Protector  (The McKenna Legacy) (Harlequin Intrigue Series, 665)\n",
            "73533 Americans in Kodachrome 1945-1965\n",
            "76234 365 Saints\n",
            "77466 The Declaration of Independence and Other Great Documents of American History, 1775-1865 (Dover Thrift Editions) (Dover Thrift Editions)\n",
            "78598 Enthusiasm and Enlightenment in Europe, 1650-1850\n",
            "79380 365 Bedtime Stories\n",
            "80451 Islamic Art and Architecture, 650-1250\n",
            "81647 365 Ways to Raise Great Kids\n",
            "82770 24-7-365\n",
            "82991 Scarlet Vows (Moriah's Landing) (Harlequin Intrigue Series, No. 658)\n",
            "83543 The 365 Most Important Events of the 20th Century\n",
            "83677 Late Roman Cavalryman 236-565 Ad\n",
            "85667 365 Bible Prayers for Children\n",
            "86787 The Roar Of The Greasepaint - The Smell Of The Crowd (1965 Original Broadway Cast)\n",
            "86928 Bosch Fuel Inject Hp1365\n",
            "92340 365 Ways to Meet People in Cleveland\n",
            "94519 365 Days of Spiritual Growth\n",
            "95044 Studying America Past and Present from 1865 to Accompany America Past and Present (America Past & Present)\n",
            "96148 The Trivial Simpsons 2003 365-Day Block Calendar\n",
            "97176 Yamaha, 650Cc Twins, 1970-1982\n",
            "97630 365 WWJD\n",
            "97945 365 Ways to Get Your Child to Sleep\n",
            "100670 Space Shuttle Decision, 1965-1972 (History of the Space Shuttle, Volume 1)\n",
            "102379 Original 365 Cats Page-A-Day Calendar 2002\n",
            "103336 Preliminary Analysis of the October 1 1965 Coup in Indonesia\n",
            "103369 Us Cavalryman 1865-1890 (Warrior, No 4)\n",
            "106049 365 Fun Facts for Catholic Kids\n",
            "107208 365 Outdoor Activities You Can Do With Your Child\n",
            "107248 Civil War on the Western Border, 1854-1865\n",
            "111295 Suzuki Gs650 1981-1983\n",
            "112054 The Rawson Family. A Revised Memoir Of Edward Rawson, Secretary Of The Colony Of Massachusetts Bay, From 1650 To 1686; With Genealogical Notices Of His Descendants, Including Nine Generations\n",
            "113358 French Scenic Wallpaper 1795-1865\n",
            "113374 The Jews of Modern Britain, 1656 to 2000 (Jewish Communities in the Modern World)\n",
            "113702 365 Ways to Improve Your Sex Life\n",
            "114835 Mississippi River Gunboats of the American Civil War 1861-65 (New Vanguard, 49)\n",
            "115528 Chilton's Ford Pick-Up 1965-86\n",
            "116228 365 Knitting Stitches a Year Perpetual Calendar\n",
            "119259 Suzuki Ls650 Savage Single, 1986-1988 (Clymer Marine Repair Series)\n",
            "120572 Nikon N65/F65\n",
            "120723 Opening to Love 365 Days a Year\n",
            "121394 The 1865 Customs of Service for Non-Commissioned Officers and Soldiers\n",
            "121601 365 Foods Kids Love to Eat\n",
            "123274 February 1965\n",
            "123717 What They Fought For 1861-1865\n",
            "126373 Collector's Guide to Horsman Dolls 1865-1950\n",
            "126535 Engineering and Technology, 1650-1750\n",
            "126555 Ninja Ad 1460-1650 (Warrior, 64)\n",
            "126591 The Grand Sweep 365 Days from Genesis Through Revelation\n",
            "127029 Mercury Outboards, 3-4 Cylinders, 1965-1989\n",
            "127559 American Premium Record Guide 1900-1965 (American Premium Record Guide)\n",
            "127568 Star Trek - The Original Series, Vol. 33, Episodes 65 & 66\n",
            "133670 Live in 1965\n",
            "139945 Audubon 365 Birds Page-A-Day Calendar 2003\n",
            "141528 How to Live 365 Days a Year\n",
            "143650 Sharpshooters of the American Civil War 1861-65 (Warrior, 60)\n",
            "144362 The Catholic Church and the Holocaust, 1930-1965\n",
            "145431 Suzanne Somers' 365 Ways to Change Your Life\n",
            "147342 365 Stupidest Things Ever Said Page-A-Day Calendar 2003\n",
            "150961 Goddesses and Gods of Old Europe, 6500-3500 B.C.\n",
            "151172 365 Days of Richer Living\n",
            "154634 Cruisin' 1965\n",
            "155712 Honda Cb550 and 650 Nighthawk 1983 1985\n",
            "155935 Writings on Music, 1965-2000\n",
            "156705 Le Corbusier 1910-65\n",
            "158182 365 Ways to Criticize the Preacher\n",
            "158645 Guide to Louisiana Confederate Military Units 1861-1865\n",
            "159539 America's Story Book 2 Since 1865\n",
            "162091 April 1865\n",
            "162374 The 1865 Customs of Service for Officers of the Army\n",
            "162446 Warrior Women and Popular Balladry, 1650-1850\n",
            "165807 Original 365 Jokes, Puns, and Riddles Page-A-Day Calendar 2003\n",
            "166773 Slavery and Crime in Missouri, 1773-1865\n",
            "167456 Longarm and the Mad Bomber's Bride (Longarm, No 265)\n",
            "168765 Steve Reich 1965-1995\n",
            "170325 The Civil Wars 1637-1653 (Pocket Histories)\n",
            "170456 The Avengers '65\n",
            "170620 Anna (1965 Film)\n",
            "172165 365 Positive Strategies for Single Parenting\n",
            "176445 365 Daily Meditations for Women\n",
            "179047 365 Days in the Garden Page-A-Day Calendar 2002\n",
            "179929 Mercury Outboards 1965-89 Repair Manual\n",
            "183999 The One Year Bible Arranged in 365 Daily Readings\n",
            "184604 M4 (76Mm) Sherman Medium Tank 1943-65 (New Vanguard)\n",
            "187347 Selected Poems 1965-1973\n",
            "187977 Airframe and Powerplant Mechanics General Handbook (Ea-Ac 65-9a)\n",
            "189154 365 Simple Reminders\n",
            "194128 365 Zen\n",
            "196587 German Is Fun-Book 2 (R 656 W)\n",
            "197716 Yamaha 650 Twins/653Cc/1970 to 1983/Owners Workshop Manual (Haynes)\n",
            "198356 365 Great Barbecue and Grilling Recipes (The Bestselling Cookbook)\n",
            "200368 Confederate Ironclad 1861-65 (New Vanguard, 41)\n",
            "200572 The Ultimate Collection (1949-1965)\n",
            "201942 365 Views of Mt. Fuji\n",
            "202252 365 Days of Trivia 2003 Calendar\n",
            "206107 Top Tunes M Series Karaoke Multiplex CDG Frank Sinatra Volume 1  TTM-065\n",
            "206595 Gender and Morality in Anglo-American Culture, 1650-1800\n",
            "208993 365 Days of Baby Love\n",
            "209152 101 Projects for Your Porsche 911 1965-1989\n",
            "211511 Original Harley-Davidson Panhead  The Restorer's Guide 1948-1965\n",
            "211523 Original Ferrari V12 1965-1973\n",
            "211969 English Handwriting, 1400-1650\n",
            "212914 The Honeymoon Contract  (The Kings Of Australia) (Harlequin Presents, 2265)\n",
            "213119 Brahms - Liebeslieder-Walzer Op. 52 & Op. 65 / E. Mathis, Fassbaender, Schreier, Fischer-Dieskau, K. Engel, Sawallisch\n",
            "213922 365 Ways to Kiss Your Love\n",
            "216887 Slave Women in Caribbean Society, 1650-1838\n",
            "217234 The Ottoman Empire, 1300-1650\n",
            "221326 Mustang Recognition Guide 1965-1973\n",
            "221348 The Complete Live At The Plugged Nickel 1965\n",
            "222441 The Illustrated History of the Housewife, 1650-1950\n",
            "223689 365 Sweet Thoughts for Mom (365 Series)\n",
            "224235 365 Golf Holes Page-A-Day Calendar 2002\n",
            "227286 Fritz Wunderlich & Guests 1965-1966/Various\n",
            "228502 365 Ways to Relax Mind, Body & Soul\n",
            "229806 Armies of the Carthaginian Wars 265-146 BC (Men at Arms Series, 121)\n",
            "230878 Harley-Davidson Classics 1903-1965\n",
            "231408 Islamic Art and Architecture, 650-1250 (The Yale University Press Pelican Histor)\n",
            "236589 365 Easy Italian Recipes\n",
            "241588 A Fistful Of Dollars (1964 Film) / For A Few Dollars More (1965 Film)\n",
            "241860 HarperCollins College Outline United States History from 1865 (Harpercollins College Outline Series)\n",
            "245250 365 More Simple Science Experiments with Everyday Materials\n",
            "245849 Mental Improvement (Early Women Writers 1650-1800)\n",
            "246123 365 Puppies-a-Year Calendar 2003\n",
            "246939 365 trucos para vender más\n",
            "248157 Making Ireland British, 1580-1650\n",
            "248252 The Economic Transformation of America to 1865\n",
            "248534 365 Ways to Cook Chicken (Anniversary Edition)\n",
            "250230 365 Mind-Challenging Cryptograms\n",
            "250777 365 Mary\n",
            "251086 A Journey into 365 Days of Black History 2002 Calendar\n",
            "251808 Haynes Bsa A50 & A65 Twins 62-73 (Haynes BSA A50 & A65 Twins Owners Workshop Manual)\n",
            "252449 Original 365 Dogs Page-A-Day Calendar 2003\n",
            "259152 Clymer Honda 50-110Cc Ohc Singles, 1965-1999\n",
            "261722 Alternative Art New York, 1965-1985\n",
            "262527 The MENSA 365 Brain Puzzlers Page-A-Day Calendar 2003\n",
            "263526 World War II German Battle Insignia (Men-at-Arms, 365)\n",
            "264516 365 Alphabets (3688)\n",
            "270066 Clouds in My Coffee 1965-1995\n",
            "270265 365 Ways to Date Your Love\n",
            "270690 Triumph 650 & 750 2-Valve Twins Owners Workshop Manual/1963 to 1983 (Haynes Triumph 650 & 750 4-Valve Twins Owners Workshop Manua)\n",
            "271668 365 Goddess\n",
            "274939 650 Home Plans\n",
            "277026 April '65\n",
            "280483 April 1865\n",
            "280855 365 Ways to Build Your Child's Self Esteem (365 Ways)\n",
            "281583 365 Day Devotional Commentary (Home Bible Study Library)\n",
            "281935 Star Trek - Deep Space Nine, Episode 65\n",
            "282404 365 Tao\n",
            "284071 US Navy F-4 Phantom II MiG Killers (1) 1965-1970 (Osprey Combat Aircraft 26)\n",
            "285226 April 1865\n",
            "285650 365 Style and Fashion Tips for Men\n",
            "286899 United States History Since 1865 (College Review Series.)\n",
            "287064 The Apprentice Mage, 1865-1914 (W.B. Yeats\n",
            "287606 365 Kittens-a-Year Calendar 2002\n",
            "288194 365 Days of Creative Play\n",
            "288558 Uniform Buttons of the United States, 1776-1865\n",
            "288749 365 Stupidest Things Ever Said Page-A-Day Calendar 2002\n",
            "289785 365 Simple Science Experiments\n",
            "290873 Honda Cb650 Fours, 1979-1982\n",
            "292283 Euphoria 1965-1969\n",
            "293026 365 Reflections on Being Single\n",
            "293486 365 Days of Duct Tape Page-A-Day Calendar 2002\n",
            "294702 My Little Sister and Selected Poems 1965-1985 (Field Translation Series) (Field Translation Series)\n",
            "297313 365 Children's Prayers\n",
            "297558 365 Tips for the Toddler Years (365)\n",
            "304269 The Cambridge Bibliography of English Literature Concise edition (Cam 265)\n",
            "311916 365 Travel\n",
            "312595 American Civil War Artillery, 1861-1865\n",
            "316077 Industrialism and the American Worker, 1865-1920 (American History Series)\n",
            "316440 The 365 Days of Christmas\n",
            "318704 Mercury Outboards, 1-2 Cylinders, 1965-1989\n",
            "322232 365 Ways to Date Your Love\n",
            "322282 Jacqueline du Pré - The Early BBC Recordings 1961-1965 ~ Bach, Britten, Brahms, Couperin, Falla, Handel / Kovacevich, Lush, Pleeth\n",
            "322371 365 Ways to Become a Millionaire\n",
            "323650 Witchcraft and Its Transformations, C.1650-C.1750 (Oxford Historical Monographs)\n",
            "323701 Late Roman Infantryman 236-565 Ad (Warrior, No 9)\n",
            "324616 65 Birdhouses and Bird Feeders\n",
            "324874 365 Bible Stories for Children\n",
            "327243 Michelin Italy Tourist and Motoring Atlas (Spiral) No. 1465, 8e\n",
            "327940 Potters and Potteries of New York State, 1650-1900 (New York State Study)\n",
            "328429 365 Science of Mind\n",
            "330144 The Children's Bible in 365 Stories\n",
            "333223 365 Days of Inner Guidance Inspirations\n",
            "335759 365 Days\n",
            "336419 Clymer Bsa 500 & 650Cc Unit Twins 1963-1972, Norton 750 & 850Cc Commandos 1969-1975, Triumph 500-750Cc Twins 1963-1979 (Clymer Motorcycle Repair Series)\n",
            "337411 Union Monitor 1861-65 (New Vanguard 45)\n",
            "341472 Hits from 1965\n",
            "344453 Yamaha Xj650 and 750 Owners Workshop Manual (Owners Workshop Manual)\n",
            "344927 Honda Xl Xr 500 650 Singles 1979 - 2002 (Clymer Motorcycle Repair)\n",
            "344960 365 Dream Cars Page-A-Day Calendar 2002\n",
            "345671 HOWLING IN THE DARKNESS (MORIAH'S LANDING) (Harlequin Intrigue, No. 654)\n",
            "346288 Honda V45/65 Sabre & Magna, 1982-1988\n",
            "346358 365 Questions for Couples\n",
            "346472 365 Ways to Develop Your Child's Values (365 Ways)\n",
            "347337 Audubon 365 Songbirds and Other Backyard Birds Calendar 2003\n",
            "347858 Avengers '65 - Set 2, Vols. 3 & 4\n",
            "352203 Original 365 Cats Page-A-Day Calendar 2003\n",
            "353150 365 New Words-a-Year Page-A-Day Calendar 2002\n",
            "355498 365 Days of Duct Tape Page-A-Day Calendar 2003\n",
            "356957 Jovem Guarda 65\n",
            "357136 Yahweh and the Gods and Goddesses of Canaan (Journal for the Study of the Old Testament. Supplement Series, 265)\n",
            "357338 Parkett #65\n",
            "361538 365 Reasons Why Bicycles Make the Best Companions\n",
            "364723 Camp Morton, 1861-1865\n",
            "367126 Malta 1565\n",
            "367275 365 Quick, Easy & Inexpensive Dinner Menus\n",
            "368153 The Classic Roy Orbison (1965-1968)\n",
            "368991 365 Bible Promises 2002 Calendar (Page-Per-Day Calendars)\n",
            "370418 Marriage Project (Romance, 3651)\n",
            "371585 Methods in Cell Biology, Volume 65\n",
            "376313 365 Read-Aloud Bedtime Bible Stories\n",
            "377929 365 Quick Tips\n",
            "378717 Slocum 265\n",
            "379624 Sound of 65/There's a Bond Between Us\n",
            "379645 American Heart Association 365 Ways to Get Out the Fat\n",
            "380908 Trio '65\n",
            "380977 Warfare at Sea, 1500-1650\n",
            "382014 Giant of Southern Soul 65-75\n",
            "383682 America's First Battles, 1776-1965\n",
            "384743 Shelby Cobra/the Shelby American Original Color Archives 1962-1965\n",
            "385694 America's Public Holidays, 1865-1920\n",
            "386773 365 Meditations, Refelctions & Restoratives For Women Who Do Too Much Page-A-Day Calendar 2002\n",
            "386909 Arming the Suckers 1861-1865\n",
            "387488 6502 (65XX)\n",
            "391969 Red Thunder Reckoning (Flesh and Blood) (Harlequin Intrigue Series, No. 657)\n",
            "393968 Kelly's Heroes (1970 Film) / The Cincinnati Kid (1965 Film)\n",
            "395955 Anthology (1965-1972)\n",
            "398590 365 Manners Kids Should Know\n",
            "399286 Live Bird '65-'67\n",
            "401111 Original 365 Bible Verses-a-Year Page-A-Day Calendar 2003\n"
          ]
        }
      ]
    },
    {
      "cell_type": "markdown",
      "source": [
        "##### Input the product id of the product bought by user"
      ],
      "metadata": {
        "id": "Cg2aioROmZwV"
      }
    },
    {
      "cell_type": "code",
      "execution_count": null,
      "metadata": {
        "id": "df1f9185",
        "colab": {
          "base_uri": "https://localhost:8080/"
        },
        "outputId": "c7ec1555-a348-424d-d29b-2443bef1ffa3"
      },
      "outputs": [
        {
          "output_type": "stream",
          "name": "stdout",
          "text": [
            "9\n",
            "Selected product is 9\n"
          ]
        }
      ],
      "source": [
        "tempinput = int(input())\n",
        "if(tempinput in n):\n",
        "  pro_id = tempinput\n",
        "  print(\"Selected product is\", pro_id)\n",
        "else:\n",
        "  print(\"Empty node has been removed from the graph!\")"
      ]
    },
    {
      "cell_type": "markdown",
      "source": [
        "#####Final result denotes all the connected edges to the source(source is product selected)"
      ],
      "metadata": {
        "id": "-D8uP3LYmd7P"
      }
    },
    {
      "cell_type": "code",
      "execution_count": null,
      "metadata": {
        "id": "0f82930d",
        "colab": {
          "base_uri": "https://localhost:8080/"
        },
        "outputId": "532a3b60-f15d-4009-e934-087008692718"
      },
      "outputs": [
        {
          "output_type": "stream",
          "name": "stdout",
          "text": [
            "[5, 6, 47, 48, 54, 57, 58, 1521, 15328]\n"
          ]
        }
      ],
      "source": [
        "finalresult = []\n",
        "resultarray = np.unique(getclean(pro_id))\n",
        "for i in range(1, len(resultarray)):\n",
        "    if(resultarray[i] in n):\n",
        "        finalresult.append(resultarray[i])\n",
        "\n",
        "#print(len(finalresult))\n",
        "print(finalresult)"
      ]
    },
    {
      "cell_type": "markdown",
      "source": [
        "#####Helper function to display titles"
      ],
      "metadata": {
        "id": "9K6Geeq1lSh1"
      }
    },
    {
      "cell_type": "code",
      "execution_count": null,
      "metadata": {
        "id": "83704f85"
      },
      "outputs": [],
      "source": [
        "def showtitles(array):\n",
        "    titles = []\n",
        "    for i in range(len(array)):\n",
        "        titles.append(G.nodes[array[i]]['title'])\n",
        "    return titles"
      ]
    },
    {
      "cell_type": "markdown",
      "source": [
        "##### Helper function to display ASIN numbers"
      ],
      "metadata": {
        "id": "6qjjJXECmp6M"
      }
    },
    {
      "cell_type": "code",
      "source": [
        "def showasin(array):\n",
        "    asins = []\n",
        "    for i in range(len(array)):\n",
        "        asins.append(G.nodes[array[i]]['ASIN'])\n",
        "    asins = np.array(asins)\n",
        "    #asins = asins.astype(int)\n",
        "    return asins"
      ],
      "metadata": {
        "id": "UsicXyZM-mWy"
      },
      "execution_count": null,
      "outputs": []
    },
    {
      "cell_type": "code",
      "execution_count": null,
      "metadata": {
        "id": "05af53c5",
        "colab": {
          "base_uri": "https://localhost:8080/"
        },
        "outputId": "1fe3ece6-1a1d-4d9c-9f5e-e42dced3f261"
      },
      "outputs": [
        {
          "output_type": "stream",
          "name": "stdout",
          "text": [
            "Making Bread \n",
            "\n",
            "\n",
            " ['Prayers That Avail Much for Business', 'How the Other Half Lives', 'How to Kill a Monster (Goosebumps)', 'Scooby-doo Mysteries #24 (Scooby-Doo Mysteries)', 'Betsy & Tacy Go over the Big Hill (Betsy and Tacy Books)', 'Investigating Computer Crime', 'Raptors of the Rockies', 'Masters of the Italian Art Song', 'Red Carpet Diaries']\n"
          ]
        }
      ],
      "source": [
        "t = showtitles(finalresult)\n",
        "print(G.nodes[pro_id]['title'],\"\\n\\n\\n\", t)"
      ]
    },
    {
      "cell_type": "markdown",
      "source": [
        "##### Helper Function to retrive a subset of the dictionary(i.e the features we are concerned with)"
      ],
      "metadata": {
        "id": "j1YPDpF5mvJu"
      }
    },
    {
      "cell_type": "code",
      "execution_count": null,
      "metadata": {
        "id": "bb9c6411"
      },
      "outputs": [],
      "source": [
        "def getsubdict(d):\n",
        "    required_keys = ('group' ,'num_categories', 'totalreviews', 'downloadedreviews', 'avg_rating')\n",
        "    subdict = {x: d[x] for x in required_keys if x in d}\n",
        "    return subdict\n"
      ]
    },
    {
      "cell_type": "markdown",
      "source": [
        "**NOTE**\n",
        "\n",
        "Here, our initial approach was to calculate Correlation and Cosine similarities between the features of the two nodes to determine the \"weight\", or how similar they were.\n",
        "However, that approach was erroneous. Correlation implies that a product with high salesrank will be highly correlated with a product with high salesrank. But, Low salesrank is desirable.\n",
        "\n",
        "Hence, we moved to a new metric - Jaccard Index."
      ],
      "metadata": {
        "id": "L_IVVyrvBVlR"
      }
    },
    {
      "cell_type": "code",
      "source": [
        "# def gethighestcorr(pro_id, finalresult, metric):\n",
        "#     corrdict = {}\n",
        "#     cosdict = {}\n",
        "#     selarray = np.array(list(getsubdict(G.nodes[pro_id]).values()))\n",
        "#     selarray = selarray.astype(float)\n",
        "#     for i in range(1,len(finalresult)):\n",
        "#         comparray = np.array(list(getsubdict(G.nodes[finalresult[i]]).values()))\n",
        "#         comparray = comparray.astype(float)\n",
        "#         if(pro_id != i):\n",
        "#             cosineval = cosine_similarity([selarray], [comparray])[0][0]\n",
        "#             cosdict[finalresult[i]] = cosineval\n",
        "#             corr = np.corrcoef(selarray, comparray)[0][1]\n",
        "#             corrdict[finalresult[i]] = corr\n",
        "#     corrdict = dict(sorted(corrdict.items(), key=lambda item: item[1], reverse = True))\n",
        "#     cosdict = dict(sorted(cosdict.items(), key=lambda item: item[1], reverse = True))\n",
        "#     print(corrdict, cosdict)\n",
        "#     if(metric == 'corr'):\n",
        "#       return corrdict\n",
        "#     elif(metric == 'cosine'):\n",
        "#       return cosdict\n",
        "# metric = input()\n",
        "# finaldict = gethighestcorr(pro_id, finalresult, metric)\n",
        "# len(finaldict)\n",
        "# top5 = np.array(list(finaldict.keys()))[:5]\n",
        "# top5\n",
        "# showtitles(top5)\n",
        "# showasin(top5)\n",
        "# arr1 = np.append(top5, pro_id)\n",
        "# finalresult = np.array(finalresult)\n",
        "# diff = np.setdiff1d(finalresult, top5)\n",
        "# arr2 = np.append(diff,pro_id)\n",
        "# H = G.subgraph(arr1)\n",
        "# L = G.subgraph(arr2)\n",
        "# fig = plt.figure(1, figsize=(20, 10), dpi= 200)\n",
        "# nx.draw_networkx(H, with_labels = True, edge_color = 'r')\n",
        "# nx.draw_networkx(L, with_labels = True)\n",
        "# print(pro_id)\n",
        "# print(finalresult)\n",
        "# print(top5)\n",
        "# type(top5)\n",
        "#Saving the graph locally to implement efficiently in API\n",
        "#nx.write_gpickle(G,'drive/MyDrive/BAJAJ/GNN_datasets/G.gpickle')"
      ],
      "metadata": {
        "id": "SyT8j9swo7Dx"
      },
      "execution_count": null,
      "outputs": []
    },
    {
      "cell_type": "markdown",
      "source": [
        "#### **Jaccard index is a metric that is a a function of number of nodes, not node attributes. Hence, it serves out purpose.**\n",
        "\n",
        "The Jaccard Index, also known as the Jaccard similarity coefficient, is a statistic used in understanding the similarities between sample sets. The measurement emphasizes similarity between finite sample sets, and is formally defined as the size of the intersection divided by the size of the union of the sample sets. The mathematical representation of the index is written as:\n",
        "\n",
        "![image.png](data:image/png;base64,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)"
      ],
      "metadata": {
        "id": "nIuGpoYYlPGx"
      }
    },
    {
      "cell_type": "code",
      "source": [
        "def jaccard_similarity(list1, list2):\n",
        "    intersection = len(list(set(list1).intersection(list2)))\n",
        "    union = (len(set(list1)) + len(set(list2))) - intersection\n",
        "    return float(intersection) / union"
      ],
      "metadata": {
        "id": "layuxGcvgXB-"
      },
      "execution_count": null,
      "outputs": []
    },
    {
      "cell_type": "markdown",
      "source": [
        "#####Helper function to calculate jaccard index values"
      ],
      "metadata": {
        "id": "72TnekA0nYMj"
      }
    },
    {
      "cell_type": "code",
      "source": [
        "def gethighestjaccard(pro_id, finalresult):\n",
        "  jaccdict = {}\n",
        "  for i in range(0,len(finalresult)):\n",
        "    if(pro_id != i):\n",
        "      tempneighbours = []\n",
        "      resarray = getclean(finalresult[i])\n",
        "      jaccdict[finalresult[i]] = jaccard_similarity(finalresult, resarray)\n",
        "  return jaccdict\n"
      ],
      "metadata": {
        "id": "JVMpM_hPTJBV"
      },
      "execution_count": null,
      "outputs": []
    },
    {
      "cell_type": "markdown",
      "source": [
        "Sorting the Final Dictionary based on Jaccard Indexes"
      ],
      "metadata": {
        "id": "K2PQhK-Tnjxk"
      }
    },
    {
      "cell_type": "code",
      "source": [
        "finaldictjaccard = gethighestjaccard(pro_id, finalresult)\n",
        "finaldictjaccard = dict(sorted(finaldictjaccard.items(), key=lambda item: item[1], reverse = True))"
      ],
      "metadata": {
        "id": "95iJD9ptRUEP"
      },
      "execution_count": null,
      "outputs": []
    },
    {
      "cell_type": "code",
      "source": [
        "finaldictjaccard"
      ],
      "metadata": {
        "id": "kaLoG1NWgeYr",
        "colab": {
          "base_uri": "https://localhost:8080/"
        },
        "outputId": "d2b5d286-e75a-4cde-deee-a7a0c2b18b35"
      },
      "execution_count": null,
      "outputs": [
        {
          "output_type": "execute_result",
          "data": {
            "text/plain": [
              "{5: 0.1875,\n",
              " 6: 0.3076923076923077,\n",
              " 47: 0.26666666666666666,\n",
              " 48: 0.05555555555555555,\n",
              " 54: 0.5,\n",
              " 57: 0.125,\n",
              " 58: 0.35714285714285715,\n",
              " 1521: 0.46153846153846156,\n",
              " 15328: 0.46153846153846156}"
            ]
          },
          "metadata": {},
          "execution_count": 72
        }
      ]
    },
    {
      "cell_type": "code",
      "source": [
        "top5jac = np.array(list(finaldictjaccard.keys()))[:5]"
      ],
      "metadata": {
        "id": "iknxdPjNTSyM"
      },
      "execution_count": null,
      "outputs": []
    },
    {
      "cell_type": "code",
      "source": [
        "top5jac"
      ],
      "metadata": {
        "id": "GsPgzPnZiTj_",
        "colab": {
          "base_uri": "https://localhost:8080/"
        },
        "outputId": "c5bccdff-f3a8-4f59-ed08-c9868130014f"
      },
      "execution_count": null,
      "outputs": [
        {
          "output_type": "execute_result",
          "data": {
            "text/plain": [
              "array([   54,  1521, 15328,    58,     6])"
            ]
          },
          "metadata": {},
          "execution_count": 74
        }
      ]
    },
    {
      "cell_type": "markdown",
      "source": [
        "#### Top 5 Recommendations Made"
      ],
      "metadata": {
        "id": "b8k2yeYunsjl"
      }
    },
    {
      "cell_type": "code",
      "source": [
        "showtitles(top5jac)"
      ],
      "metadata": {
        "id": "zL0A_WtxiXW2",
        "colab": {
          "base_uri": "https://localhost:8080/"
        },
        "outputId": "ce6ea76d-d02a-434e-d733-025c88b38832"
      },
      "execution_count": null,
      "outputs": [
        {
          "output_type": "execute_result",
          "data": {
            "text/plain": [
              "['Betsy & Tacy Go over the Big Hill (Betsy and Tacy Books)',\n",
              " 'Masters of the Italian Art Song',\n",
              " 'Red Carpet Diaries',\n",
              " 'Raptors of the Rockies',\n",
              " 'How the Other Half Lives']"
            ]
          },
          "metadata": {},
          "execution_count": 75
        }
      ]
    },
    {
      "cell_type": "markdown",
      "source": [
        "#### Assigning red edges for recommended products, and blue edges for non-recommended products"
      ],
      "metadata": {
        "id": "iX4NQVPCn1Qu"
      }
    },
    {
      "cell_type": "code",
      "source": [
        "K = nx.DiGraph()\n",
        "for i in top5jac:\n",
        "  K.add_edge(pro_id,i,color='r')\n",
        "difjac = np.setdiff1d(finalresult, top5jac)\n",
        "for i in difjac:\n",
        "  K.add_edge(pro_id,i,color='b')"
      ],
      "metadata": {
        "id": "LlUkBoCO1dNj"
      },
      "execution_count": null,
      "outputs": []
    },
    {
      "cell_type": "code",
      "source": [
        "fig = plt.figure(1, figsize=(5, 3), dpi= 200)\n",
        "colors = nx.get_edge_attributes(K,'color').values()\n",
        "nx.draw_networkx(K,with_labels = True, edge_color=colors)"
      ],
      "metadata": {
        "id": "4H6sVUhr2L4Y",
        "colab": {
          "base_uri": "https://localhost:8080/",
          "height": 510
        },
        "outputId": "bb1a96b0-9d9c-4076-806d-3b5964221623"
      },
      "execution_count": null,
      "outputs": [
        {
          "output_type": "display_data",
          "data": {
            "text/plain": [
              "<Figure size 1000x600 with 1 Axes>"
            ],
            "image/png": "[encoded data removed]"
          },
          "metadata": {}
        }
      ]
    },
    {
      "cell_type": "code",
      "source": [],
      "metadata": {
        "id": "Hw5cU9axO_Lh"
      },
      "execution_count": null,
      "outputs": []
    }
  ],
  "metadata": {
    "kernelspec": {
      "display_name": "Python 3 (ipykernel)",
      "language": "python",
      "name": "python3"
    },
    "language_info": {
      "codemirror_mode": {
        "name": "ipython",
        "version": 3
      },
      "file_extension": ".py",
      "mimetype": "text/x-python",
      "name": "python",
      "nbconvert_exporter": "python",
      "pygments_lexer": "ipython3",
      "version": "3.8.8"
    },
    "colab": {
      "provenance": []
    }
  },
  "nbformat": 4,
  "nbformat_minor": 0
}